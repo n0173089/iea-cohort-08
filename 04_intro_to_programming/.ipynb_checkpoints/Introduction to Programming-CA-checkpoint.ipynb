{
 "cells": [
  {
   "cell_type": "markdown",
   "metadata": {
    "slideshow": {
     "slide_type": "slide"
    }
   },
   "source": [
    "# Introduction to Programming\n",
    "# ...Using Python\n",
    "### JR Rickerson\n",
    "### (jrrickerson@redrivetstudios.com)\n"
   ]
  },
  {
   "cell_type": "markdown",
   "metadata": {},
   "source": [
    "## Agenda\n",
    "    - Quick Refresher on git / Github\n",
    "    - Intro to Programming with Python"
   ]
  },
  {
   "cell_type": "markdown",
   "metadata": {
    "slideshow": {
     "slide_type": "subslide"
    }
   },
   "source": [
    "# About This Course\n",
    "* This course is obviously not going to teach the same content as that of a Computer Science curriculum, but...\n",
    " * You'll learn how to write code, i.e., how to turn a __problem statement__ into code which will _solve_ that problem"
   ]
  },
  {
   "cell_type": "markdown",
   "metadata": {
    "slideshow": {
     "slide_type": "subslide"
    }
   },
   "source": [
    "* At its essence, that is ALL coding is about–converting a problem into code which solves that problem\n",
    "* It is _not_ easy–it will be challenging!\n",
    "* It will require a change in thinking!\n",
    "* ...and it will be fun!\n"
   ]
  },
  {
   "cell_type": "markdown",
   "metadata": {
    "slideshow": {
     "slide_type": "subslide"
    }
   },
   "source": [
    "# Now pull this notebook, so you can follow along...\n",
    "* Open a terminal window\n",
    "* Change directories to your class materials\n",
    "* Pull from the upstream remote\n",
    "* Start the notebook with `jupyter notebook` as before"
   ]
  },
  {
   "cell_type": "markdown",
   "metadata": {},
   "source": [
    "## Git - Adding an upstream remote\n",
    "### Why?\n",
    "* We have an original repository we created a fork from\n",
    "* We have made changes to our fork\n",
    "* Other contributors have also made changes to the original\n",
    "\n",
    "### How?\n",
    "`git checkout master` (make sure we're on master)  \n",
    "`git remote add upstream https://<repo url>`  \n",
    "`git pull upstream master`  "
   ]
  },
  {
   "cell_type": "code",
   "execution_count": null,
   "metadata": {
    "scrolled": true
   },
   "outputs": [],
   "source": [
    "!git remote -v"
   ]
  },
  {
   "cell_type": "markdown",
   "metadata": {
    "slideshow": {
     "slide_type": "subslide"
    }
   },
   "source": [
    "## Launching Jupyter\n",
    "\n",
    "* On a Mac:\n",
    "  * In __Terminal__, type  \n",
    "  __`jupyter notebook`__  \n",
    "   \n",
    "   \n",
    "* On Windows:\n",
    "  * In the __cmd__ window, type  \n",
    "  __`jupyter notebook`__\n",
    "\n",
    "\n",
    "* Navigate to the new directory you pulled with git, and click on __`Introduction to Programming.ipynb`__"
   ]
  },
  {
   "cell_type": "markdown",
   "metadata": {
    "collapsed": true,
    "slideshow": {
     "slide_type": "subslide"
    }
   },
   "source": [
    "# How to get around on Jupyter:\n",
    "* Each place for you to enter text is called a _cell_\n",
    "* Usually you enter __`Python`__ code, but you can also enter text in a _markup_ language called __`Markdown`__ (that's what's going on in _this_ cell)\n",
    "* To \"run\" the code in the cell, hit __Shift-Return__ (i.e., hold down __Shift__ key, then hit __Return__)\n",
    "* Try it with the cell below..."
   ]
  },
  {
   "cell_type": "code",
   "execution_count": null,
   "metadata": {},
   "outputs": [],
   "source": [
    "x = 4\n",
    "print(x)"
   ]
  },
  {
   "cell_type": "markdown",
   "metadata": {
    "slideshow": {
     "slide_type": "subslide"
    }
   },
   "source": [
    "* we'll work inside the Jupyter notebook and you'll be able to take it with you as a living, breathing document of your work in this class\n",
    "* the __Insert__ menu will allow you to add a cell above or below the current cell\n",
    "* the __Kernel__ menu will allow you to \"talk\" to the Python interpreter on your machine\n",
    "  * (when you type into a cell, you are \"talking\" to the web browser, and the web browser sends the text to the __`Python`__ interpreter to be \"run\")\n",
    "  * the __Kernel__ menu will allow you to _restart_ your __`Python`__ interpreter in case something goes wrong and it stops responding to you\n",
    "  "
   ]
  },
  {
   "cell_type": "markdown",
   "metadata": {
    "slideshow": {
     "slide_type": "slide"
    }
   },
   "source": [
    "# Basics of Computer Architecture"
   ]
  },
  {
   "cell_type": "markdown",
   "metadata": {
    "slideshow": {
     "slide_type": "subslide"
    }
   },
   "source": [
    "## Bits, Bytes, and Binary\n",
    "* a _bit_ (\"binary digit\") is the basic unit of information in computing (and digital communications)\n",
    "* a bit can have only one of two values, 0 or 1\n",
    "* the two values can also be interpreted as logical values (true/false, yes/no), etc.\n",
    "* a _byte_ is 8 bits, which you can think of a single character on the US keyboard\n",
    "![alt text](images/byte.png)\n",
    "\n"
   ]
  },
  {
   "cell_type": "markdown",
   "metadata": {
    "slideshow": {
     "slide_type": "subslide"
    }
   },
   "source": [
    "## Basics of Computer Architecture\n",
    "* in simplest terms, a computer consists of a __CPU__ (Central Processing Unit, or \"brain\") and memory\n",
    "* the job of the CPU is to _execute_ (or \"run\") instructions (or \"code\")\n",
    "* there are two types of instructions:\n",
    "  * those that transfer data from memory to the CPU (_load_) or vice versa (_store_)\n",
    "  * those that operate on data stored in the CPU (e.g., arithmetic operations such as addition or subtraction, or branching)\n",
    "* the CPU has a _clock speed_, which is the speed at which the CPU's internal clock _pulses_, i.e., the speed at which the CPU can do work\n",
    "  * e.g., 2.9 GHz (Gigahertz) = 2.9 billion cycles per second\n",
    "  * think of the clock speed as a drumbeat which signals when the next instruction can execute\n"
   ]
  },
  {
   "cell_type": "markdown",
   "metadata": {
    "collapsed": true,
    "slideshow": {
     "slide_type": "subslide"
    }
   },
   "source": [
    "## Block Diagram of a Simple CPU\n",
    "\n",
    "![alt text](images/block.png)\n",
    "* the ALU (arithmetic logic unit) handles operations on integers (whole numbers)\n",
    "* the FPU (floating point unit or \"math coprocessor\") handles operations on floating point (fractional) numbers\n",
    "* registers are memory \"slots\" in the CPU which hold data that the ALU or FPU manipulates"
   ]
  },
  {
   "cell_type": "markdown",
   "metadata": {
    "collapsed": true,
    "slideshow": {
     "slide_type": "subslide"
    }
   },
   "source": [
    "## Types of Computer Memory\n",
    "\n",
    "![alt text](images/computer-memory-pyramid.gif)\n",
    "\n",
    "* RAM = Random Access Memory\n",
    "  * \"short term\" memory\n",
    "  * stuff is stored in RAM while power is applied (i.e., computer is on)\n",
    "* secondary storage - hard drives, USB drives, flash drives, etc.\n",
    "  * \"long term\" memory\n",
    "  * data persists even when power is off\n",
    "* virtual memory\n",
    "  * a software trick which enables the computer to seem like it has more memory than it actually has\n",
    "  * unused blocks of memory are moved to the hard drive or other secondary storage device\n",
    "* cache\n",
    "  * super-fast memory inside the CPU used to keep data close by so the CPU doesn't have to continually move data in and out (cf. a web browser cache which holds images so that the next time you visit a website the browser doesn't have to download the image from the site, it can just grab it from the cache)"
   ]
  },
  {
   "cell_type": "markdown",
   "metadata": {
    "collapsed": true,
    "slideshow": {
     "slide_type": "subslide"
    }
   },
   "source": [
    "## How an Application is Run\n",
    "* The application (e.g., Microsoft Word) is stored on your hard drive or other secondary storage\n",
    "* When you double click on an application, the operating system (OS X, Windows, etc.) loads the application (or a portion of it) into RAM (details are OS-specific and not important for our discussion)\n"
   ]
  },
  {
   "cell_type": "markdown",
   "metadata": {
    "slideshow": {
     "slide_type": "subslide"
    }
   },
   "source": [
    "* An executable application such as Microsoft Word is a series of _instructions_ in a language that the CPU can understand (\"assembly language\" or \"machine language\")\n",
    "* The instructions are decoded and executed by the CPU\n",
    "* Note that modern computers (such as our laptops) have CPUs which are multi-core\n",
    "  * This means that the CPU itself has 2 or more _cores_, or processing units\n",
    "  * In other words, if your laptop has a dual-core CPU, it can run 2 things at once\n",
    "  * Of course, we are used to \"running\" many more applications simultaneously (e.g., web browser, mail client, Word, iTunes, etc.) but that is just an illusion–the operating system is _multi-tasking_ by running each \"runnable\" _process_ for a little while and then switching to the next one\n",
    "  * It does this fast enough that it appears that they are running simultaneously"
   ]
  },
  {
   "cell_type": "markdown",
   "metadata": {
    "slideshow": {
     "slide_type": "slide"
    }
   },
   "source": [
    "# What is Computer Programming?"
   ]
  },
  {
   "cell_type": "markdown",
   "metadata": {
    "slideshow": {
     "slide_type": "subslide"
    }
   },
   "source": [
    "## What is Computer Programming?\n",
    "* _Programming_ (or \"coding\") is a process that begins with the formulation of a (computing) problem and ends with the creation of an executable computer program\n",
    "* A (computer) _program_ is a set of statements or instructions that tells the computer what to do\n",
    "* In order to write a program, programmers often begin with an algorithm...\n",
    "\n"
   ]
  },
  {
   "cell_type": "markdown",
   "metadata": {
    "slideshow": {
     "slide_type": "subslide"
    }
   },
   "source": [
    "## What's an Algorithm?\n",
    "* An _algorithm_ is a process or set of rules to be followed in calculations or other problem-solving operations (usually, but not always by a computer)\n",
    "* For example, an algorithm for converting Fahrenheit temperatures into Celsius looks like this:\n",
    "  1. Subtract 32 from the Fahrenheit temperature\n",
    "  2. Multiply the result by 5/9\n",
    "* An algorithm for washing your hair...\n",
    "  1. Lather\n",
    "  2. Rinse\n",
    "  3. Repeat\n",
    "* An algorithm for getting a ping-pong ball out of a deep hole with a small diameter...\n",
    "  1. Fill the hole with water\n",
    "* In other words, an algorithm is like a recipe, listing each of the steps required to solve the problem"
   ]
  },
  {
   "cell_type": "markdown",
   "metadata": {
    "slideshow": {
     "slide_type": "subslide"
    }
   },
   "source": [
    "## What's Pseudocode?\n",
    "* a notation resembling a simplified programming language, often like a mixture of English and programming language constructs\n",
    "* often used to write down an algorithm in order to translate it into code\n",
    "* we will write pseudocode before we write our programs"
   ]
  },
  {
   "cell_type": "markdown",
   "metadata": {
    "slideshow": {
     "slide_type": "subslide"
    }
   },
   "source": [
    "## Debugging\n",
    "* the process of finding and fixing errors (typically called \"bugs\")\n",
    "* popularized by Grace Hopper, Ph.D., a Navy rear admiral and one of the first computer programmers\n",
    "* posthumously awarded the Presidential Medal of Freedom in 2016\n",
    "* https://en.wikipedia.org/wiki/Grace_Hopper\n"
   ]
  },
  {
   "cell_type": "markdown",
   "metadata": {
    "slideshow": {
     "slide_type": "subslide"
    }
   },
   "source": [
    "![alt text](images/H96566k.jpg)"
   ]
  },
  {
   "cell_type": "markdown",
   "metadata": {
    "slideshow": {
     "slide_type": "subslide"
    }
   },
   "source": [
    "## How Do Computers Understand Programming Languages?\n",
    "* the short answer is–\"they don't\"\n",
    "* programs we write in just about every programming language are either\n",
    "  * __translated__ into _machine language_ (the numeric equivalent of assembly language) or an intermediate language called _bytecode_\n",
    "    * this process is called _compilation_\n",
    "    * the tool which performs the compilation is called a _compiler_\n",
    "    * the language is referred to as a _compiled language_ (e.g., C/C++, Fortran)\n",
    "    * we can see the compilation process in action at http://godbolt.org/\n",
    "  * __interpreted__ by a program called an _interpreter_\n",
    "    * __`bash`__, which you may be familiar with, is an interpreted language\n",
    "  * __transpiled__ into another language (and then compiled or interpreted)\n",
    "    * e.g., CoffeeScript => JavaScript (and others), Eiffel => C++\n",
    "  \n"
   ]
  },
  {
   "cell_type": "markdown",
   "metadata": {
    "collapsed": true,
    "slideshow": {
     "slide_type": "subslide"
    }
   },
   "source": [
    "## Is Python a Compiled or Interpreted Language?\n",
    "* short answer–\"It's both!\"\n",
    "* __`Python`__ is first compiled into an \"intermediate\" language called _bytecode_\n",
    "* then the bytecode is interpreted by the __`Python`__ Virtual Machine (VM)\n",
    "* __`Java`__ works in a similar way in that it is first compiled into bytecode (a different bytecode than what __`Python`__ uses) and then interpreted by the __`Java`__ VM\n",
    "* this is a bit of an oversimplification, but we are not trying to be compiler/programming language experts"
   ]
  },
  {
   "cell_type": "markdown",
   "metadata": {
    "slideshow": {
     "slide_type": "subslide"
    }
   },
   "source": [
    "## Source Code vs. Object Code\n",
    "* _source code_ is collection of computer instructions written using a human-readable programming language\n",
    "  * source code may (and should) include _comments_\n",
    "  * source is plain text\n",
    "  * humans write source code\n",
    "* _object code_ consists of machine-readable instructions\n",
    "  * it's the output of a compiler, i.e., it's the compiled version of source code\n",
    "  * therefore, computers write object code\n",
    "  * files of object code (\"object files\") can be linked together to create executables (applications)\n",
    "  * on Linux and Linux-like systems, you will find files whose names end in __`.so`__–these are _shared object_ or \"library\" files"
   ]
  },
  {
   "cell_type": "markdown",
   "metadata": {
    "slideshow": {
     "slide_type": "subslide"
    }
   },
   "source": [
    "## Syntax Errors\n",
    "* __syntax__ = the set of rules that defines the combinations of symbols that are considered to be a correctly-written (valid) program\n",
    "* a __syntax error__ is an error in syntax, i.e., a violation of the rules that define a valid program\n",
    "* syntax in programming is more like grammar in English\n",
    "  * The dog chases the cat\n",
    "  * The dogs chases the cat (_syntax error–subject/verb agreement_)\n",
    "* syntax errors are caught by the compiler or interpreter\n",
    "  * sometimes called __compile time__ errors\n",
    "    * remember that in a compiled language, compilation is a completely independent step from running the program\n",
    "  * a program can only run if it's __syntactically correct__"
   ]
  },
  {
   "cell_type": "markdown",
   "metadata": {
    "slideshow": {
     "slide_type": "subslide"
    }
   },
   "source": [
    "## Runtime Errors\n",
    "* as the name suggests, these are errors that occur when you run the program, as opposed to when you compile the program\n",
    "* with an interpreted language such as Python, the distinction between syntax and runtime errors is not as obvious–in both cases the interpreter will stop interpreting your code and will report an error\n",
    "* runtime errors are often called __exceptions__"
   ]
  },
  {
   "cell_type": "markdown",
   "metadata": {
    "slideshow": {
     "slide_type": "subslide"
    }
   },
   "source": [
    "## Semantic Errors\n",
    "* a __semantic error__ occurs when your program is syntactically correct, but you told the computer to do the wrong thing\n",
    "* for example, if you wrote a program to convert Fahrenheit to Celsius and you added 32 to the temperature instead of subtracting\n",
    "  * the program will run, but it will give you the wrong result\n",
    "  * remember that the computer will do what you tell it to do, but that doesn't mean it's what you want it to do! \n",
    "* a semantic error _may_ cause a runtime error, but usually they don't, and they can be difficult to debug"
   ]
  },
  {
   "cell_type": "markdown",
   "metadata": {
    "collapsed": true,
    "slideshow": {
     "slide_type": "slide"
    }
   },
   "source": [
    "# Introducing Python"
   ]
  },
  {
   "cell_type": "markdown",
   "metadata": {
    "slideshow": {
     "slide_type": "subslide"
    }
   },
   "source": [
    "## Introducing Python\n",
    "* Python is a _high-level_ language, meaning it is\n",
    "  * easy to get started with\n",
    "  * fun to use"
   ]
  },
  {
   "cell_type": "markdown",
   "metadata": {
    "slideshow": {
     "slide_type": "subslide"
    }
   },
   "source": [
    "* there are two ways to use Python: interactive (or \"command line\") mode, and script (or program) mode\n",
    "* we'll start in interactive mode\n",
    "* type the following into the next cell of this notebook, then hit __`SHIFT-RETURN`__ to send the text to Python\n",
    "\n",
    "   __`2 + 2`__"
   ]
  },
  {
   "cell_type": "code",
   "execution_count": 1,
   "metadata": {},
   "outputs": [
    {
     "data": {
      "text/plain": [
       "4"
      ]
     },
     "execution_count": 1,
     "metadata": {},
     "output_type": "execute_result"
    }
   ],
   "source": [
    "2 + 2"
   ]
  },
  {
   "cell_type": "markdown",
   "metadata": {
    "slideshow": {
     "slide_type": "subslide"
    }
   },
   "source": [
    "## Let's try a few other calculations using Python..."
   ]
  },
  {
   "cell_type": "code",
   "execution_count": null,
   "metadata": {},
   "outputs": [],
   "source": [
    "# the '#' symbol precedes a comment...\n",
    "# ...which is text that Python ignores\n",
    "# so let's convert Fahrenheit to Celsius...\n",
    "(212 - 32) * 5 / 9"
   ]
  },
  {
   "cell_type": "code",
   "execution_count": null,
   "metadata": {},
   "outputs": [],
   "source": [
    "# roughly the number of atoms in the universe\n",
    "10 ** 78"
   ]
  },
  {
   "cell_type": "code",
   "execution_count": null,
   "metadata": {},
   "outputs": [],
   "source": [
    "4 / 3"
   ]
  },
  {
   "cell_type": "code",
   "execution_count": null,
   "metadata": {},
   "outputs": [],
   "source": [
    "# // is integer division (technically it's \"floor division\", but we can\n",
    "# ignore the difference for now)\n",
    "4 // 3"
   ]
  },
  {
   "cell_type": "markdown",
   "metadata": {
    "slideshow": {
     "slide_type": "subslide"
    }
   },
   "source": [
    "## Writing Our First Program\n",
    "* when learning a new programming language, it's customary to write a _hello world_ program, that is, a program which simply prints out \"Hello, world!\"\n",
    "* type the following into the next cell and then hit __`SHIFT-RETURN`__\n",
    "\n",
    "    __`print('Hello, world!')`__"
   ]
  },
  {
   "cell_type": "code",
   "execution_count": 2,
   "metadata": {
    "scrolled": true
   },
   "outputs": [
    {
     "name": "stdout",
     "output_type": "stream",
     "text": [
      "Hello, world!\n"
     ]
    }
   ],
   "source": [
    "print('Hello, world!')"
   ]
  },
  {
   "cell_type": "markdown",
   "metadata": {
    "slideshow": {
     "slide_type": "subslide"
    }
   },
   "source": [
    "## Analzying our First Program\n",
    "* We used Python's builtin __`print`__ _function_ to print text to the screen\n",
    "* OK...so what's a function?"
   ]
  },
  {
   "cell_type": "markdown",
   "metadata": {
    "slideshow": {
     "slide_type": "subslide"
    }
   },
   "source": [
    "## What is a Function?\n",
    "* a function is a named sequence of program statements that perform a specific task (in this case, the task was outputting to the screen)\n",
    "* a function can be used in a program wherever that particular task is needed\n",
    "* we can create our own functions, or we can rely on builtin functions as above"
   ]
  },
  {
   "cell_type": "markdown",
   "metadata": {
    "slideshow": {
     "slide_type": "subslide"
    }
   },
   "source": [
    "## What is a Function? (cont'd)\n",
    "* when you call or _invoke_ a function, you write its name, followed by the data you wish to send into the function (often called _arguments_) in parentheses...\n",
    "* if you wish to send no data to the function, you still include the parentheses\n",
    "  * e.g., __`print()`__ will print a blank line\n",
    "  * ... vs. __`print('Hello, world!')`__ as we did in our first program"
   ]
  },
  {
   "cell_type": "markdown",
   "metadata": {
    "slideshow": {
     "slide_type": "slide"
    }
   },
   "source": [
    "\n",
    "## Data, Variables, and Expressions\n",
    "* computer programs typically manipulate _data_ (or values), which can be numbers, names, or any text (and other things we can ignore for now)\n",
    "* it's useful to think of programs as taking some input and producing some output\n",
    "  * the data (or values) are provided as input to the program, and some other data are produced as output\n",
    "* _variables_ can be thought of as a \"named box\" (e.g., __`r`__, __`name`__, or __`year`__) inside the computer that holds a value\n",
    "  * the value could be a number, a name, or something else\n",
    "* an _expression_ is a combination of one or more values, variables, and operators (__`+`__, __`-`__, etc.), e.g.,\n",
    "  * __`(temp - 32) * 5 / 9`__\n",
    "  * __`3.14159 * r ** 2`__\n",
    "  * __`2 + 2`__\n",
    "  * __`1`__\n",
    " \n",
    "\n"
   ]
  },
  {
   "cell_type": "code",
   "execution_count": null,
   "metadata": {},
   "outputs": [],
   "source": [
    "temp = 54\n",
    "(temp - 32) * 5 / 9"
   ]
  },
  {
   "cell_type": "markdown",
   "metadata": {
    "slideshow": {
     "slide_type": "subslide"
    }
   },
   "source": [
    "## Values and Simple Data Types (`int`, `float`, and `str`)\n",
    "* _integers_ are whole numbers which have no fractional part\n",
    "  * e.g., __`42`__, __`-1`__, __`2017`__\n",
    "* _floats_ (short for \"floating point\") are numbers which have a decimal point and possibly  digits after the decimal point\n",
    "  * e.g, __`3.1415`__, __`212.`__, __`-1.5`__\n",
    "* _strings_ are sequences of characters surrounded by quotes\n",
    "  * e.g., __`'Hello, world!'`__\n",
    "* we can ask the Python interpreter to tell us the type of a value by using the builtin __`type`__ function"
   ]
  },
  {
   "cell_type": "code",
   "execution_count": null,
   "metadata": {},
   "outputs": [],
   "source": [
    "type(42.)"
   ]
  },
  {
   "cell_type": "code",
   "execution_count": null,
   "metadata": {},
   "outputs": [],
   "source": [
    "# Lines that begin with a '#' are comments.\n",
    "# They are for humans, and are ignored by the interpreter.\n",
    "#\n",
    "# Note that you can chain values together with a\n",
    "# comma, and the result will be a is a comma-\n",
    "# separated list of results in parentheses\n",
    "\n",
    "type(-1), type(212.), type('hello')"
   ]
  },
  {
   "cell_type": "code",
   "execution_count": null,
   "metadata": {},
   "outputs": [],
   "source": [
    "temp"
   ]
  },
  {
   "cell_type": "markdown",
   "metadata": {
    "slideshow": {
     "slide_type": "subslide"
    }
   },
   "source": [
    "# Lab: The Builtin Function __`type()`__\n",
    "* use Python's __`type()`__ function to find out the type of the following values and expressions\n",
    "  * __`35 + 5`__\n",
    "  * __`35.0 + 5`__\n",
    "  * __`'35' + '5'`__\n",
    "  * __`5 // 3`__\n",
    "  * __`3.5.5`__\n",
    "* __Note:__ you can add more cells to the notebook in the Insert menu"
   ]
  },
  {
   "cell_type": "code",
   "execution_count": 8,
   "metadata": {},
   "outputs": [
    {
     "data": {
      "text/plain": [
       "(int, float, str, int)"
      ]
     },
     "execution_count": 8,
     "metadata": {},
     "output_type": "execute_result"
    }
   ],
   "source": [
    "type(35 + 5), type(35.0 + 5), type('35' + '5'), type(5 // 3)"
   ]
  },
  {
   "cell_type": "code",
   "execution_count": 9,
   "metadata": {},
   "outputs": [
    {
     "ename": "SyntaxError",
     "evalue": "invalid syntax (<ipython-input-9-9531496db28e>, line 1)",
     "output_type": "error",
     "traceback": [
      "\u001b[0;36m  File \u001b[0;32m\"<ipython-input-9-9531496db28e>\"\u001b[0;36m, line \u001b[0;32m1\u001b[0m\n\u001b[0;31m    type(3.5.5)\u001b[0m\n\u001b[0m             ^\u001b[0m\n\u001b[0;31mSyntaxError\u001b[0m\u001b[0;31m:\u001b[0m invalid syntax\n"
     ]
    }
   ],
   "source": [
    "type(3.5.5)"
   ]
  },
  {
   "cell_type": "markdown",
   "metadata": {
    "slideshow": {
     "slide_type": "subslide"
    }
   },
   "source": [
    "## Variables\n",
    "* variables are named locations inside the computer's memory (again, think of these as named boxes into which you can put values)\n",
    "* we can put a value into a variable by using an _assignment statement_, e.g.,\n",
    "  * __`x = 1`__\n",
    "  * __`name = 'Grace Hopper'`__\n",
    "* an assignment is not a statement of equality (as we are used to from mathematics)–it's a directive to Python to put whatever is on the right-hand side of the __`=`__ into the variable on the left hand side\n",
    "* we can ask Python to print the value of a variable by simply typing it into the interpreter, or by using the built-in __`print`__ function"
   ]
  },
  {
   "cell_type": "code",
   "execution_count": null,
   "metadata": {},
   "outputs": [],
   "source": [
    "x = 1906\n",
    "x"
   ]
  },
  {
   "cell_type": "code",
   "execution_count": null,
   "metadata": {},
   "outputs": [],
   "source": [
    "name = 'Grace Hopper'\n",
    "name"
   ]
  },
  {
   "cell_type": "code",
   "execution_count": null,
   "metadata": {},
   "outputs": [],
   "source": [
    "# notice that when printing a string, the quotes are omitted\n",
    "print(name, 'birth year =', x)"
   ]
  },
  {
   "cell_type": "code",
   "execution_count": null,
   "metadata": {},
   "outputs": [],
   "source": [
    "print(name)"
   ]
  },
  {
   "cell_type": "markdown",
   "metadata": {
    "slideshow": {
     "slide_type": "subslide"
    }
   },
   "source": [
    "## Lab: Variables\n",
    "* create a variable named __quantity__ and give it an integer value\n",
    "* verify that __quantity__ has the value you gave it\n",
    "* verify that __quantity__ is an integer\n",
    "* create a variable named __company__ and give it a value of 'mycompany'\n",
    "* verify that __company__ is a string and that its value is 'mycompany'"
   ]
  },
  {
   "cell_type": "code",
   "execution_count": 22,
   "metadata": {
    "scrolled": true
   },
   "outputs": [
    {
     "name": "stdout",
     "output_type": "stream",
     "text": [
      "1 <class 'int'>\n",
      "mycompany <class 'str'>\n"
     ]
    }
   ],
   "source": [
    "quantity = 1\n",
    "print(quantity, type(quantity))\n",
    "company = 'mycompany'\n",
    "print(company, type(company))"
   ]
  },
  {
   "cell_type": "markdown",
   "metadata": {
    "slideshow": {
     "slide_type": "subslide"
    }
   },
   "source": [
    "## Variables (continued)\n",
    "* by the way, you may have heard (or may already know) that variables are not implemented as \"named boxes\" in Python\n",
    "  * TRUE–but for now, let's think of them that way–it's a perfectly fine abstraction and there's no reason to discard it\n",
    "* Python is called a _dynamically typed_ language because you do not _declare_ variables before you use them\n",
    "* in addition, a variable can hold a value of _any_ type, even if that type is not what the variable previously held, e.g.,"
   ]
  },
  {
   "cell_type": "code",
   "execution_count": 19,
   "metadata": {},
   "outputs": [
    {
     "name": "stdout",
     "output_type": "stream",
     "text": [
      "jello\n"
     ]
    }
   ],
   "source": [
    "x = 1\n",
    "y = 2\n",
    "x = 'jello'\n",
    "print(x)"
   ]
  },
  {
   "cell_type": "markdown",
   "metadata": {},
   "source": [
    "* in a _statically typed_ language (e.g., C/C++, Java), you must declare variables before using them (and in doing so you must indicate the type of data the variable will hold–__`int`__, __`float`__, etc.)\n",
    "  * ...and the only values that variable may contain are values of the declared type\n",
    "* we have no such restrictions in Python, which is both good and bad:\n",
    "  * it's good because we can just start using a variable and not have to worry about declaring it ahead of time\n",
    "  * it's bad because in a large program it can be difficult to track the type of variables, and if you accidentally overwrite a variable with a value of the wrong type, there is no way Python can complain about it–only you know what type of value is supposed to be stored in a variable\n",
    "\n"
   ]
  },
  {
   "cell_type": "markdown",
   "metadata": {
    "slideshow": {
     "slide_type": "subslide"
    }
   },
   "source": [
    "## Getting Input from the User\n",
    "* the builtin function __`input()`__ enables us to prompt the user for input\n",
    "* ...and whatever the user typed is returned by the function\n",
    "* let's try it in the next cell"
   ]
  },
  {
   "cell_type": "code",
   "execution_count": null,
   "metadata": {},
   "outputs": [],
   "source": [
    "name = input('Enter your name: ')\n",
    "print('Hello', name)"
   ]
  },
  {
   "cell_type": "markdown",
   "metadata": {
    "slideshow": {
     "slide_type": "subslide"
    }
   },
   "source": [
    "## Lab: Input\n",
    "* write Python code to prompt the user for a year and print out the year the user entered\n",
    "* your output will look something like this:\n",
    "\n",
    "<pre>\n",
    "<b>\n",
    "Enter a year: 2017\n",
    "You entered 2017\n",
    "</b>\n",
    "</pre>"
   ]
  },
  {
   "cell_type": "code",
   "execution_count": 34,
   "metadata": {},
   "outputs": [
    {
     "name": "stdout",
     "output_type": "stream",
     "text": [
      "Enter a year: 0\n",
      "You entered 0\n"
     ]
    }
   ],
   "source": [
    "year = input('Enter a year: ')\n",
    "print('You entered', int(year))\n"
   ]
  },
  {
   "cell_type": "markdown",
   "metadata": {
    "slideshow": {
     "slide_type": "subslide"
    }
   },
   "source": [
    "## Variable Names and Keywords\n",
    "* variable names can be arbitrarily long\n",
    "* they can contain both letters and numbers, but they must begin with a letter\n",
    "* uppercase letters are allowed, but by convention we don’t use them (if you do use uppercase letters, remember that Python is _case sensitive_–in other words __`counter`__ and __`Counter`__ are different variables)\n",
    "* you should choose meaningful names for your variables:\n",
    "  * __`counter`__ instead of __`c`__\n",
    "  * __`cost_per_ounce`__ instead of __`cpo`__\n",
    "  * etc.\n",
    "* as you can see above, variable names can include underscores–use them to make your variable names clearer\n",
    "  * for now, do not start a variable name with an underscore"
   ]
  },
  {
   "cell_type": "code",
   "execution_count": null,
   "metadata": {},
   "outputs": [],
   "source": [
    "# what is the problem here?\n",
    "year = 2017\n",
    "to = 'Mary'\n",
    "from = 'Dave'"
   ]
  },
  {
   "cell_type": "markdown",
   "metadata": {},
   "source": [
    "* the problem above is that __`from`__ is a _keyword_\n",
    "* _keywords_ are words that are part of Python (or other programming languages) and cannot be used as variable names\n",
    "* if you ever get a weird error like 'invalid syntax' when it looks syntactically correct, the problem is likely that you are trying to use a keyword as a variable\n",
    "* we can get a current list of the keywords...\n"
   ]
  },
  {
   "cell_type": "code",
   "execution_count": null,
   "metadata": {},
   "outputs": [],
   "source": [
    "# We will explore this 'import' syntax later.\n",
    "# For now, just think of it as a way to use some \"library\" code which comes with Python,\n",
    "# but isn't built in, so we need to import it.\n",
    "\n",
    "import keyword\n",
    "print(keyword.kwlist)"
   ]
  },
  {
   "cell_type": "markdown",
   "metadata": {},
   "source": [
    "* Or, we can look them up in the docs:  https://docs.python.org/3/reference/lexical_analysis.html#keywords\n",
    "* But don't forget, more may be added in newer Python versions!"
   ]
  },
  {
   "cell_type": "markdown",
   "metadata": {
    "slideshow": {
     "slide_type": "subslide"
    }
   },
   "source": [
    "## Evaluating Expressions\n",
    "* recall that an expression is a combination of values, variables, and operators (but doesn't have to contain all of these elements)\n",
    "* if you type an expression on the command line, the interpreter evaluates it and displays the result"
   ]
  },
  {
   "cell_type": "code",
   "execution_count": null,
   "metadata": {},
   "outputs": [],
   "source": [
    "2 + 2"
   ]
  },
  {
   "cell_type": "markdown",
   "metadata": {},
   "source": [
    "* note that a value all by itself is considered an expression, as is a variable by itself"
   ]
  },
  {
   "cell_type": "code",
   "execution_count": 36,
   "metadata": {},
   "outputs": [
    {
     "data": {
      "text/plain": [
       "13"
      ]
     },
     "execution_count": 36,
     "metadata": {},
     "output_type": "execute_result"
    }
   ],
   "source": [
    "13"
   ]
  },
  {
   "cell_type": "code",
   "execution_count": 35,
   "metadata": {},
   "outputs": [
    {
     "ename": "NameError",
     "evalue": "name 'name' is not defined",
     "output_type": "error",
     "traceback": [
      "\u001b[0;31m---------------------------------------------------------------------------\u001b[0m",
      "\u001b[0;31mNameError\u001b[0m                                 Traceback (most recent call last)",
      "\u001b[0;32m<ipython-input-35-9bc0cb2ed6de>\u001b[0m in \u001b[0;36m<module>\u001b[0;34m\u001b[0m\n\u001b[0;32m----> 1\u001b[0;31m \u001b[0mname\u001b[0m\u001b[0;34m\u001b[0m\u001b[0;34m\u001b[0m\u001b[0m\n\u001b[0m",
      "\u001b[0;31mNameError\u001b[0m: name 'name' is not defined"
     ]
    }
   ],
   "source": [
    "name"
   ]
  },
  {
   "cell_type": "markdown",
   "metadata": {
    "slideshow": {
     "slide_type": "subslide"
    }
   },
   "source": [
    "* one point of confusion concerns the difference between _evaluating an expression_ and _printing a value_\n",
    "* evaluating an expression does not print anything if \n",
    "  * you're in _program_ mode\n",
    "  * or you are assigning the value of the expression to a variable"
   ]
  },
  {
   "cell_type": "code",
   "execution_count": null,
   "metadata": {},
   "outputs": [],
   "source": [
    "# Python doesn't print anything when you \n",
    "# assign a value to a variable\n",
    "something = 'nothing'"
   ]
  },
  {
   "cell_type": "code",
   "execution_count": 38,
   "metadata": {},
   "outputs": [
    {
     "data": {
      "text/plain": [
       "'nothing'"
      ]
     },
     "execution_count": 38,
     "metadata": {},
     "output_type": "execute_result"
    }
   ],
   "source": [
    "something = 'nothing'\n",
    "something"
   ]
  },
  {
   "cell_type": "markdown",
   "metadata": {
    "slideshow": {
     "slide_type": "subslide"
    }
   },
   "source": [
    "* when the interpreter displays the value of an expression, it uses the same format you would use to enter its value–so in the case of strings, that means that it includes the quotes\n",
    "* but when you call the __`print()`__ function, Python displays the contents of the string without the quotes..."
   ]
  },
  {
   "cell_type": "code",
   "execution_count": null,
   "metadata": {},
   "outputs": [],
   "source": [
    "print(something)"
   ]
  },
  {
   "cell_type": "markdown",
   "metadata": {
    "slideshow": {
     "slide_type": "subslide"
    }
   },
   "source": [
    "## So Why Are There Two Ways to Produce Output?\n",
    "* simply typing a variable name or an expression is a convenient way to see its value, and it's something we can always do at the Python interactive prompt\n",
    "* inside a program, however, we use the __`print()`__ function to produce output"
   ]
  },
  {
   "cell_type": "markdown",
   "metadata": {
    "slideshow": {
     "slide_type": "subslide"
    }
   },
   "source": [
    "## Operators and Operands\n",
    "* operators are special symbols that represent computations such as addition (__`+`__) and multiplication (__`*`__)\n",
    "* the values that operator operates on are called operands\n",
    "* __`13 + 15`__\n",
    "* __`year - 1`__ \n",
    "* __`hours * 60 + minutes`__\n",
    "* __`minutes / 60`__ \n",
    "* __`minutes // 60`__\n",
    "* __`minutes % 60`__\n",
    "  * __`%`__ is the _modulus_ or remainder operator\n",
    "  * yields the remainder (not the quotient) when dividing its two operands\n",
    "* __`2 ** 64`__\n",
    "* __`(x + 3) * (y - 5)`__"
   ]
  },
  {
   "cell_type": "markdown",
   "metadata": {
    "collapsed": true,
    "slideshow": {
     "slide_type": "subslide"
    }
   },
   "source": [
    "## Lab: Variables, Operators, and Expressions\n",
    "* create a variable named __minutes__ and give it an initial value of __28435__\n",
    "* create a variable named __hours__ and set it equal to __minutes__ divided by __60__\n",
    "* create a variable named __days__ and set it equal to __hours__ divided by __24__\n",
    "* try both __`/`__ and __`//`__ and be sure you understand how they differ\n",
    "* consider the following expressions and then enter them into Jupyter to verify your understanding\n",
    "  * __`days * 24 + hours * 60`__\n",
    "  * __`days * (24 + hours) * 60`__\n",
    "  * __`(days * 24) + (hours * 60)`__\n"
   ]
  },
  {
   "cell_type": "code",
   "execution_count": 42,
   "metadata": {},
   "outputs": [
    {
     "name": "stdout",
     "output_type": "stream",
     "text": [
      "28435 473 19\n"
     ]
    }
   ],
   "source": [
    "minutes = 28435\n",
    "hours = minutes // 60\n",
    "days = hours // 24\n",
    "print(minutes, hours, days)\n"
   ]
  },
  {
   "cell_type": "markdown",
   "metadata": {
    "slideshow": {
     "slide_type": "subslide"
    }
   },
   "source": [
    "## Boolean Expressions and Logical Operators\n",
    "![alt text](images/George_Boole_color.jpg)\n",
    "* named after George Boole, an English mathematician (1813-1864)\n",
    "* he developed a system called _Boolean Algebra_, which laid the foundations for the Information Age\n",
    "  * Boolean Algebra deals with values which are either TRUE or FALSE\n",
    "  * in order to understand Boolean Algebra, we first need to consider how to get a TRUE or FALSE value\n",
    "  * a _Boolean expression_ is an expression that is either TRUE or FALSE\n",
    "    * __\"K2, the second tallest mountain in the world, is 28,251 feet above sea level.\" (TRUE)__\n",
    "    * __\"There are 31 days in April.\" (FALSE)__\n",
    "    * __`1 + 2 == 3` (TRUE)__\n",
    "    * __`2 ** 3 == 9` (FALSE)__\n",
    "  * let's try some in the Python interpreter"
   ]
  },
  {
   "cell_type": "code",
   "execution_count": null,
   "metadata": {
    "slideshow": {
     "slide_type": "-"
    }
   },
   "outputs": [],
   "source": [
    "2 + 3 == 5"
   ]
  },
  {
   "cell_type": "code",
   "execution_count": null,
   "metadata": {},
   "outputs": [],
   "source": [
    "x = 2 # assignment statement\n",
    "x == 3 # note the difference between = (assignment) and == (testing for equality)"
   ]
  },
  {
   "cell_type": "code",
   "execution_count": null,
   "metadata": {},
   "outputs": [],
   "source": [
    "x != 3"
   ]
  },
  {
   "cell_type": "markdown",
   "metadata": {},
   "source": [
    "* True and False are special values that are built-in to Python\n",
    "* the other operators are:\n",
    "  * __`>, >=`__\n",
    "  * __`<, <=`__\n",
    "  * and __`==`__, __`!=`__, as we've seen"
   ]
  },
  {
   "cell_type": "markdown",
   "metadata": {
    "slideshow": {
     "slide_type": "subslide"
    }
   },
   "source": [
    "## Lab: Boolean Expressions\n",
    "* write a Boolean expression to determine whether the variable __xyz__ is greater than 100 (you will have to define the variable first)\n",
    "* write a Boolean expression to determine whether the variable __company__ is equal to the string 'salesforce'"
   ]
  },
  {
   "cell_type": "code",
   "execution_count": 48,
   "metadata": {},
   "outputs": [
    {
     "data": {
      "text/plain": [
       "False"
      ]
     },
     "execution_count": 48,
     "metadata": {},
     "output_type": "execute_result"
    }
   ],
   "source": [
    "xyz = 40\n",
    "xyz > 100\n",
    "company = 'LM'\n",
    "company == 'salesforce'"
   ]
  },
  {
   "cell_type": "markdown",
   "metadata": {
    "slideshow": {
     "slide_type": "subslide"
    }
   },
   "source": [
    "## Logical Operators\n",
    "* there are three: __`and`__, __`or`__, __`not`__\n",
    "* they mean roughly the same thing as they mean in English:\n",
    "  * __if you finish your homework AND the temperature is above freezing, you can play in the yard__\n",
    "  * __if it snows OR the temperature is lower than 20ºF, school will be canceled__\n",
    "  * __if it is NOT past 9pm, the library should be open__\n",
    "  * __`x > 0 and x < 10`__ means __x is greater than 0 _and_ less than 10__\n",
    "  * __`x > 0 or y < 5`__ means  __either__ x is greater than 0 _or_ y is less than 5 (or both)__"
   ]
  },
  {
   "cell_type": "markdown",
   "metadata": {
    "slideshow": {
     "slide_type": "subslide"
    }
   },
   "source": [
    "## Boolean Algebra\n",
    "* let's see how George Boole's algebra works in Python\n",
    "* to do this, we can make _truth tables_ which show how the logical operators interact with True and False values..."
   ]
  },
  {
   "cell_type": "code",
   "execution_count": null,
   "metadata": {
    "slideshow": {
     "slide_type": "-"
    }
   },
   "outputs": [],
   "source": [
    "# and\n",
    "print(False and False)\n",
    "print(False and True)\n",
    "print(True and False)\n",
    "print(True and True)"
   ]
  },
  {
   "cell_type": "code",
   "execution_count": null,
   "metadata": {
    "slideshow": {
     "slide_type": "subslide"
    }
   },
   "outputs": [],
   "source": [
    "# or\n",
    "print(False or False)\n",
    "print(False or True)\n",
    "print(True or False)\n",
    "print(True or True)"
   ]
  },
  {
   "cell_type": "code",
   "execution_count": null,
   "metadata": {
    "slideshow": {
     "slide_type": "subslide"
    }
   },
   "outputs": [],
   "source": [
    "# not\n",
    "print(not False)\n",
    "print(not True)"
   ]
  },
  {
   "cell_type": "code",
   "execution_count": null,
   "metadata": {},
   "outputs": [],
   "source": [
    "bval = None\n",
    "if bval:\n",
    "    print(True)\n",
    "else:\n",
    "    print(False)"
   ]
  },
  {
   "cell_type": "code",
   "execution_count": null,
   "metadata": {},
   "outputs": [],
   "source": [
    "# strictly speaking, the operands of logical operators should be boolean expressions\n",
    "# ...but Python isn't strict about it–any non-zero value is considered \"True\" in Python\n",
    "y = 4\n",
    "print('y =', y)\n",
    "True and y"
   ]
  },
  {
   "cell_type": "code",
   "execution_count": null,
   "metadata": {},
   "outputs": [],
   "source": [
    "# and 0 is considered False\n",
    "y = 0\n",
    "True and y"
   ]
  },
  {
   "cell_type": "code",
   "execution_count": null,
   "metadata": {},
   "outputs": [],
   "source": [
    "arg = 'JR'\n",
    "arg = arg or 'Default'\n",
    "arg"
   ]
  },
  {
   "cell_type": "code",
   "execution_count": null,
   "metadata": {},
   "outputs": [],
   "source": [
    "# ...as is an empty string\n",
    "empty = ''\n",
    "not empty"
   ]
  },
  {
   "cell_type": "markdown",
   "metadata": {
    "collapsed": true,
    "slideshow": {
     "slide_type": "subslide"
    }
   },
   "source": [
    "## Lab: Boolean Algebra\n",
    "* write a Boolean expression which determines whether __year__ is equal to 2017 and __xyz__ is less than 10"
   ]
  },
  {
   "cell_type": "code",
   "execution_count": 52,
   "metadata": {},
   "outputs": [
    {
     "name": "stdout",
     "output_type": "stream",
     "text": [
      "True\n"
     ]
    }
   ],
   "source": [
    "year = 2017\n",
    "xyz = 9\n",
    "print(year == 2017 and xyz < 10)"
   ]
  },
  {
   "cell_type": "markdown",
   "metadata": {
    "slideshow": {
     "slide_type": "subslide"
    }
   },
   "source": [
    "## Boolean Variables in Python\n",
    "* at this point, it probably won't surprise you to find out that Python also has Boolean variables, i.e., variables that contain the special value True or False\n",
    "* we will see how to use Boolean variables later, but for now we will demonstrate..."
   ]
  },
  {
   "cell_type": "code",
   "execution_count": null,
   "metadata": {},
   "outputs": [],
   "source": [
    "ok = True\n",
    "type(ok)"
   ]
  },
  {
   "cell_type": "code",
   "execution_count": null,
   "metadata": {},
   "outputs": [],
   "source": [
    "is_even = 42 % 2 == 0 # Is 42 even? In other words is there no remainder when dividing 42 by 2?\n",
    "is_even"
   ]
  },
  {
   "cell_type": "markdown",
   "metadata": {
    "slideshow": {
     "slide_type": "subslide"
    }
   },
   "source": [
    "## Lab: Boolean Variables\n",
    "* create a Boolean variable which determines whether the variable __company__ is equal to 'salesforce'"
   ]
  },
  {
   "cell_type": "code",
   "execution_count": 55,
   "metadata": {},
   "outputs": [
    {
     "name": "stdout",
     "output_type": "stream",
     "text": [
      "False\n"
     ]
    }
   ],
   "source": [
    "company = 'LM'\n",
    "is_salesforce = company == 'salesforce'\n",
    "is_salesforce\n"
   ]
  },
  {
   "cell_type": "markdown",
   "metadata": {
    "slideshow": {
     "slide_type": "subslide"
    }
   },
   "source": [
    "## Type Conversion Functions\n",
    "* Python has built-in type conversion functions that let you convert a value of one type to another (within reason)\n",
    "* __`int(x)`__ will convert __`x`__ to an integer\n",
    "  * only works if __`x`__ can be converted to an integer\n",
    "* __`float(x)`__ will convert __`x`__ to a floating point number\n",
    "  * only works if __`x`__ can be converted to a float\n",
    "* __`str(x)`__ will convert __`x`__ to a string\n",
    "  * always works\n",
    "* __`bool(x)`__ will convert __`x`__ to a bool\n",
    "  * always works"
   ]
  },
  {
   "cell_type": "code",
   "execution_count": 1,
   "metadata": {},
   "outputs": [
    {
     "data": {
      "text/plain": [
       "35"
      ]
     },
     "execution_count": 1,
     "metadata": {},
     "output_type": "execute_result"
    }
   ],
   "source": [
    "int(35.5)"
   ]
  },
  {
   "cell_type": "code",
   "execution_count": 2,
   "metadata": {},
   "outputs": [
    {
     "ename": "ValueError",
     "evalue": "invalid literal for int() with base 10: '35.5'",
     "output_type": "error",
     "traceback": [
      "\u001b[0;31m---------------------------------------------------------------------------\u001b[0m",
      "\u001b[0;31mValueError\u001b[0m                                Traceback (most recent call last)",
      "\u001b[0;32m<ipython-input-2-cd72d73e6c86>\u001b[0m in \u001b[0;36m<module>\u001b[0;34m\u001b[0m\n\u001b[0;32m----> 1\u001b[0;31m \u001b[0mint\u001b[0m\u001b[0;34m(\u001b[0m\u001b[0;34m'35.5'\u001b[0m\u001b[0;34m)\u001b[0m\u001b[0;34m\u001b[0m\u001b[0;34m\u001b[0m\u001b[0m\n\u001b[0m",
      "\u001b[0;31mValueError\u001b[0m: invalid literal for int() with base 10: '35.5'"
     ]
    }
   ],
   "source": [
    "int('35.5')"
   ]
  },
  {
   "cell_type": "code",
   "execution_count": 6,
   "metadata": {},
   "outputs": [
    {
     "data": {
      "text/plain": [
       "35"
      ]
     },
     "execution_count": 6,
     "metadata": {},
     "output_type": "execute_result"
    }
   ],
   "source": [
    "int(float('35.5'))"
   ]
  },
  {
   "cell_type": "code",
   "execution_count": 4,
   "metadata": {},
   "outputs": [
    {
     "data": {
      "text/plain": [
       "1.0"
      ]
     },
     "execution_count": 4,
     "metadata": {},
     "output_type": "execute_result"
    }
   ],
   "source": [
    "float(1)"
   ]
  },
  {
   "cell_type": "code",
   "execution_count": null,
   "metadata": {
    "scrolled": true
   },
   "outputs": [],
   "source": [
    "str(3.14159)"
   ]
  },
  {
   "cell_type": "code",
   "execution_count": 7,
   "metadata": {},
   "outputs": [
    {
     "data": {
      "text/plain": [
       "(False, True, False)"
      ]
     },
     "execution_count": 7,
     "metadata": {},
     "output_type": "execute_result"
    }
   ],
   "source": [
    "bool(''), bool(34), bool(not int(True))"
   ]
  },
  {
   "cell_type": "markdown",
   "metadata": {
    "slideshow": {
     "slide_type": "subslide"
    }
   },
   "source": [
    "## Lab: Type Conversion\n",
    "* write Python code to prompt the user to enter a year\n",
    "* ...then reads input from the user\n",
    "* ...then converts what was read into an integer\n",
    "* print out the final result and verify that it's an integer\n",
    "* your output should look something like this:\n",
    "\n",
    "<pre><b>\n",
    "Enter a year: 2017\n",
    "The year you entered was 2017.\n",
    "\n",
    "&lt;class 'int'>\n",
    "</b></pre>"
   ]
  },
  {
   "cell_type": "code",
   "execution_count": 15,
   "metadata": {},
   "outputs": [
    {
     "name": "stdout",
     "output_type": "stream",
     "text": [
      "Enter a year: 2018\n",
      "You entered 2018 <class 'int'>\n"
     ]
    }
   ],
   "source": [
    "year = input('Enter a year: ')\n",
    "int_year = int(year)\n",
    "print('You entered', int_year, type(int_year))"
   ]
  },
  {
   "cell_type": "code",
   "execution_count": 18,
   "metadata": {},
   "outputs": [
    {
     "name": "stdout",
     "output_type": "stream",
     "text": [
      "This is an int: 7\n",
      "This is also an int: 13, str: mystring\n",
      "This is yet again an int: 5\n"
     ]
    }
   ],
   "source": [
    "## String formatting\n",
    "num = 5\n",
    "print('This is an int: %s' % 7)\n",
    "print('This is also an int: {num}, str: {whatever}'.format(num=13, whatever='mystring'))\n",
    "print(f'This is yet again an int: {num}')"
   ]
  },
  {
   "cell_type": "code",
   "execution_count": 19,
   "metadata": {},
   "outputs": [
    {
     "name": "stdout",
     "output_type": "stream",
     "text": [
      "<class 'int'>\n",
      "['__abs__', '__add__', '__and__', '__bool__', '__ceil__', '__class__', '__delattr__', '__dir__', '__divmod__', '__doc__', '__eq__', '__float__', '__floor__', '__floordiv__', '__format__', '__ge__', '__getattribute__', '__getnewargs__', '__gt__', '__hash__', '__index__', '__init__', '__init_subclass__', '__int__', '__invert__', '__le__', '__lshift__', '__lt__', '__mod__', '__mul__', '__ne__', '__neg__', '__new__', '__or__', '__pos__', '__pow__', '__radd__', '__rand__', '__rdivmod__', '__reduce__', '__reduce_ex__', '__repr__', '__rfloordiv__', '__rlshift__', '__rmod__', '__rmul__', '__ror__', '__round__', '__rpow__', '__rrshift__', '__rshift__', '__rsub__', '__rtruediv__', '__rxor__', '__setattr__', '__sizeof__', '__str__', '__sub__', '__subclasshook__', '__truediv__', '__trunc__', '__xor__', 'bit_length', 'conjugate', 'denominator', 'from_bytes', 'imag', 'numerator', 'real', 'to_bytes']\n",
      "Help on built-in function bit_length:\n",
      "\n",
      "bit_length() method of builtins.int instance\n",
      "    Number of bits necessary to represent self in binary.\n",
      "    \n",
      "    >>> bin(37)\n",
      "    '0b100101'\n",
      "    >>> (37).bit_length()\n",
      "    6\n",
      "\n"
     ]
    }
   ],
   "source": [
    "## Everything is an object!\n",
    "\n",
    "n = int(7)\n",
    "print(n.__class__)\n",
    "print(dir(n))\n",
    "n.bit_length()\n",
    "help(n.bit_length)"
   ]
  },
  {
   "cell_type": "code",
   "execution_count": 20,
   "metadata": {},
   "outputs": [
    {
     "ename": "TypeError",
     "evalue": "can only concatenate str (not \"int\") to str",
     "output_type": "error",
     "traceback": [
      "\u001b[0;31m---------------------------------------------------------------------------\u001b[0m",
      "\u001b[0;31mTypeError\u001b[0m                                 Traceback (most recent call last)",
      "\u001b[0;32m<ipython-input-20-f53e55ef324d>\u001b[0m in \u001b[0;36m<module>\u001b[0;34m\u001b[0m\n\u001b[1;32m      3\u001b[0m \u001b[0;31m# s + n  Error!\u001b[0m\u001b[0;34m\u001b[0m\u001b[0;34m\u001b[0m\u001b[0;34m\u001b[0m\u001b[0m\n\u001b[1;32m      4\u001b[0m \u001b[0mdir\u001b[0m\u001b[0;34m(\u001b[0m\u001b[0ms\u001b[0m\u001b[0;34m)\u001b[0m\u001b[0;34m\u001b[0m\u001b[0;34m\u001b[0m\u001b[0m\n\u001b[0;32m----> 5\u001b[0;31m \u001b[0ms\u001b[0m\u001b[0;34m.\u001b[0m\u001b[0m__add__\u001b[0m\u001b[0;34m(\u001b[0m\u001b[0mn\u001b[0m\u001b[0;34m)\u001b[0m\u001b[0;34m\u001b[0m\u001b[0;34m\u001b[0m\u001b[0m\n\u001b[0m",
      "\u001b[0;31mTypeError\u001b[0m: can only concatenate str (not \"int\") to str"
     ]
    }
   ],
   "source": [
    "s = 'abc'\n",
    "n = 123\n",
    "# s + n  Error!\n",
    "dir(s)\n",
    "s.__add__(n)"
   ]
  },
  {
   "cell_type": "markdown",
   "metadata": {
    "slideshow": {
     "slide_type": "subslide"
    }
   },
   "source": [
    "## String Operations\n",
    "* you can't do arithmetic on strings, even if the value inside the string looks like a number...\n",
    "* so, __`'2' + '4'`__ is not __`'6'`__ in Python\n",
    "* but the + and * operators work on strings...\n",
    "  * __`+`__ = _concatenation_ (__`'good' + 'bye'`__ yields __`'goodbye'`__)\n",
    "  * __`*`__ = replication (__`'good' * 4`__ yields __`'goodgoodgoodgood'`__)"
   ]
  },
  {
   "cell_type": "code",
   "execution_count": 21,
   "metadata": {},
   "outputs": [
    {
     "name": "stdout",
     "output_type": "stream",
     "text": [
      "Name? Chris\n"
     ]
    },
    {
     "data": {
      "text/plain": [
       "'Hello Chris, how are you?'"
      ]
     },
     "execution_count": 21,
     "metadata": {},
     "output_type": "execute_result"
    }
   ],
   "source": [
    "name = input('Name? ')\n",
    "message = 'Hello ' + name + ', how are you?'\n",
    "message"
   ]
  },
  {
   "cell_type": "code",
   "execution_count": 22,
   "metadata": {},
   "outputs": [
    {
     "name": "stdout",
     "output_type": "stream",
     "text": [
      "1234567890123456789012345678901234567890\n",
      "----------------------------------------\n"
     ]
    }
   ],
   "source": [
    "ruler = '1234567890' * 4\n",
    "line = '-' * 40\n",
    "print(ruler)\n",
    "print(line)"
   ]
  },
  {
   "cell_type": "markdown",
   "metadata": {
    "slideshow": {
     "slide_type": "subslide"
    }
   },
   "source": [
    "## Lab: Strings\n",
    "* read in two separate strings from the user\n",
    "* create a new string which consists of the second string followed by a space, followed by the first string\n",
    "* e.g, \"hello\" and \"there\" would become \"there hello\""
   ]
  },
  {
   "cell_type": "code",
   "execution_count": 27,
   "metadata": {},
   "outputs": [
    {
     "name": "stdout",
     "output_type": "stream",
     "text": [
      "Enter the first word: zeh\n",
      "Enter the second word: blah\n",
      "blah zeh\n"
     ]
    }
   ],
   "source": [
    "first_word = input('Enter the first word: ')\n",
    "second_word = input('Enter the second word: ')\n",
    "phrase = second_word + ' ' + first_word\n",
    "print(phrase)"
   ]
  },
  {
   "cell_type": "markdown",
   "metadata": {
    "slideshow": {
     "slide_type": "subslide"
    }
   },
   "source": [
    "## Indexing Strings\n",
    "* we can access the individual characters of a string using brackets–__`[]`__\n",
    "* the first character of a string is at index 0 (all counting in computer science begins with 0)"
   ]
  },
  {
   "cell_type": "code",
   "execution_count": null,
   "metadata": {
    "slideshow": {
     "slide_type": "-"
    }
   },
   "outputs": [],
   "source": [
    "name = input('Enter your name: ')\n",
    "print('The first character of', name, 'is', name[0])"
   ]
  },
  {
   "cell_type": "markdown",
   "metadata": {
    "slideshow": {
     "slide_type": "subslide"
    }
   },
   "source": [
    "## Lab: Indexing Strings\n",
    "* prompt the user and read a string\n",
    "* prompt the user for an index\n",
    "*  use the index to print out the character at that offset (e.g., if user enters '3', you would print out the [3] character of the string\n",
    "* what happens if you hit return (i.e., enter an \"empty string\")?\n",
    "* what happens if you set the zeroth character of the string you read to 'x'\n",
    "    * __`name[0] = 'x'`__"
   ]
  },
  {
   "cell_type": "code",
   "execution_count": 2,
   "metadata": {},
   "outputs": [
    {
     "name": "stdout",
     "output_type": "stream",
     "text": [
      "Enter your name: Chris\n",
      "Enter an index number: 3\n",
      "Index number 3 of Chris is i\n"
     ]
    },
    {
     "ename": "TypeError",
     "evalue": "'str' object does not support item assignment",
     "output_type": "error",
     "traceback": [
      "\u001b[0;31m---------------------------------------------------------------------------\u001b[0m",
      "\u001b[0;31mTypeError\u001b[0m                                 Traceback (most recent call last)",
      "\u001b[0;32m<ipython-input-2-1c2e6a1648de>\u001b[0m in \u001b[0;36m<module>\u001b[0;34m\u001b[0m\n\u001b[1;32m      6\u001b[0m     \u001b[0mprint\u001b[0m\u001b[0;34m(\u001b[0m\u001b[0;34m'Index number'\u001b[0m\u001b[0;34m,\u001b[0m \u001b[0mindex\u001b[0m\u001b[0;34m,\u001b[0m \u001b[0;34m'of'\u001b[0m\u001b[0;34m,\u001b[0m \u001b[0mname\u001b[0m\u001b[0;34m,\u001b[0m \u001b[0;34m'is'\u001b[0m\u001b[0;34m,\u001b[0m \u001b[0mname\u001b[0m\u001b[0;34m[\u001b[0m\u001b[0mindex\u001b[0m\u001b[0;34m]\u001b[0m\u001b[0;34m)\u001b[0m\u001b[0;34m\u001b[0m\u001b[0;34m\u001b[0m\u001b[0m\n\u001b[1;32m      7\u001b[0m \u001b[0;34m\u001b[0m\u001b[0m\n\u001b[0;32m----> 8\u001b[0;31m \u001b[0mname\u001b[0m\u001b[0;34m[\u001b[0m\u001b[0;36m0\u001b[0m\u001b[0;34m]\u001b[0m \u001b[0;34m=\u001b[0m \u001b[0;34m'x'\u001b[0m\u001b[0;34m\u001b[0m\u001b[0;34m\u001b[0m\u001b[0m\n\u001b[0m\u001b[1;32m      9\u001b[0m \u001b[0mprint\u001b[0m\u001b[0;34m(\u001b[0m\u001b[0mname\u001b[0m\u001b[0;34m)\u001b[0m\u001b[0;34m\u001b[0m\u001b[0;34m\u001b[0m\u001b[0m\n",
      "\u001b[0;31mTypeError\u001b[0m: 'str' object does not support item assignment"
     ]
    }
   ],
   "source": [
    "name = input('Enter your name: ')\n",
    "if name == \"\":\n",
    "    print('You must enter a name!')\n",
    "else:\n",
    "    index = int(input('Enter an index number: '))\n",
    "    print('Index number', index, 'of', name, 'is', name[index])\n",
    "\n",
    "name[0] = 'x'\n",
    "print(name)"
   ]
  },
  {
   "cell_type": "markdown",
   "metadata": {
    "slideshow": {
     "slide_type": "subslide"
    }
   },
   "source": [
    "## Composition\n",
    "* one of the most useful features of Python (and other programming languages) is their ability to take small building blocks and compose them\n",
    "* e.g., we know how to add numbers and we know how to print–we already know we can do both at the same time, which is what we mean by composition:\n",
    "  * __`print(x + 17)`__\n",
    "* we can get more complex, e.g.,\n",
    "  * __`seconds = hours * 3600 + minutes * 60`__\n"
   ]
  },
  {
   "cell_type": "code",
   "execution_count": null,
   "metadata": {},
   "outputs": [],
   "source": [
    "# The dis(assembly) module will show us something interesting...\n",
    "# the bytecode into which Python is translated\n",
    "import dis\n",
    "dis.dis('x = 3; print(x + 17)')"
   ]
  },
  {
   "cell_type": "code",
   "execution_count": null,
   "metadata": {},
   "outputs": [],
   "source": [
    "r = print('Hello')\n",
    "print(r)"
   ]
  },
  {
   "cell_type": "markdown",
   "metadata": {
    "slideshow": {
     "slide_type": "slide"
    }
   },
   "source": [
    "# Statements"
   ]
  },
  {
   "cell_type": "markdown",
   "metadata": {
    "slideshow": {
     "slide_type": "subslide"
    }
   },
   "source": [
    "## Conditional Execution\n",
    "* in order to write useful programs, we typically need the ability to check some condition and change the behavior of the program accordingly\n",
    "* conditional statements give us this ability\n",
    "* the simplest form is the if statement..."
   ]
  },
  {
   "cell_type": "code",
   "execution_count": null,
   "metadata": {},
   "outputs": [],
   "source": [
    "year = int(input('Enter a year: '))\n",
    "# convert from string to integer\n",
    "\n",
    "if year > 2000:\n",
    "    print('blah', 'indented statement', 'something',\n",
    "          sep='\\n')\n",
    "    print('another')\n",
    "    \n",
    "print('after the if statement')"
   ]
  },
  {
   "cell_type": "markdown",
   "metadata": {},
   "source": [
    "* the boolean expression after the __`if`__ statement is called the condition\n",
    "* if the condition is true, then the indented statement (or statements) gets executed\n",
    "* if the condition is false, then nothing happens\n",
    "* the __`if`__ statement is made up of a header and a block of statements, like so\n",
    "    \n",
    "<img src=\"images/compound.png\" alt=\"Drawing\" style=\"width: 250px;\"/>\n",
    "\n",
    "* the header begins on a new line and ends with a colon (:)\n",
    "* the indented statements that follow are called a block\n",
    "* the first unindented statement marks the end of the block"
   ]
  },
  {
   "cell_type": "markdown",
   "metadata": {
    "slideshow": {
     "slide_type": "subslide"
    }
   },
   "source": [
    "## Python Indentation\n",
    "* indentation is one of the bugbagoos of Python\n",
    "* as we saw with the __`if`__ statement, we must introduce a new block with a colon\n",
    "  * ...and then indent all of the statements in the block\n",
    "  * all statements in the block must be indented the same amount\n",
    "  * don't use TABs, use spaces (Python will complain if you mix TABs and spaces)\n",
    "  * Python recommends 4 spaces per level of indentation"
   ]
  },
  {
   "cell_type": "markdown",
   "metadata": {
    "slideshow": {
     "slide_type": "subslide"
    }
   },
   "source": [
    "## Chained Conditionals\n",
    "* sometimes there are more than two possibilities and we need more than two branches\n",
    "* one way to express a computation like that is a chained conditional..."
   ]
  },
  {
   "cell_type": "code",
   "execution_count": null,
   "metadata": {},
   "outputs": [],
   "source": [
    "x, y = 9, 5 # in Python we can assign multiple values to multiple\n",
    "            # variables, but only do it this way if the variables\n",
    "            # are related\n",
    "\n",
    "if x < y:\n",
    "    print(x, \"is less than\", y)\n",
    "elif x > y:\n",
    "    print(x, \"is greater than\", y)\n",
    "else:\n",
    "    print(x, \"and\", y, \"are equal\")"
   ]
  },
  {
   "cell_type": "markdown",
   "metadata": {},
   "source": [
    "* __`elif`__ means _else if_, which is optional\n",
    "* there is no limit to the number of __`elif`__ statements\n",
    "* if there is an __`else`__, it has to be the last branch"
   ]
  },
  {
   "cell_type": "markdown",
   "metadata": {
    "slideshow": {
     "slide_type": "subslide"
    }
   },
   "source": [
    "## Nested Conditionals\n",
    "* one conditional can be nested within another\n",
    "* therefore, we could have written the previous __`if`__ statement as follows:\n"
   ]
  },
  {
   "cell_type": "code",
   "execution_count": null,
   "metadata": {},
   "outputs": [],
   "source": [
    "x = 15.2\n",
    "y = 15.2\n",
    "if x == y:\n",
    "    print (x, \"and\", y, \"are equal\")\n",
    "else:\n",
    "    if x < y:\n",
    "        print(x, \"is less than\", y)\n",
    "    else:\n",
    "        print(x, \"is greater than\", y)"
   ]
  },
  {
   "cell_type": "markdown",
   "metadata": {
    "slideshow": {
     "slide_type": "subslide"
    }
   },
   "source": [
    "## Lab: Odd-Even Program (our first program that does something)\n",
    "1. prompt the user to enter a number\n",
    "2. read input from the user\n",
    "3. convert the input to an integer\n",
    "4. tell the user whether the number entered was odd or even\n"
   ]
  },
  {
   "cell_type": "code",
   "execution_count": 28,
   "metadata": {},
   "outputs": [
    {
     "name": "stdout",
     "output_type": "stream",
     "text": [
      "Enter a number: -2\n",
      "-2 is an even number\n"
     ]
    }
   ],
   "source": [
    "user_num = int(input('Enter a number: '))\n",
    "if user_num % 2 == 0:\n",
    "    print(user_num, 'is an even number')\n",
    "else:\n",
    "    print(user_num, 'is an odd number')"
   ]
  },
  {
   "cell_type": "markdown",
   "metadata": {},
   "source": [
    "## Lab: Leap Year Program\n",
    "1. prompt the user to enter a year\n",
    "2. read input from the user\n",
    "3. convert the input to an integer\n",
    "4. tell the user whether the year entered is a leap year or not\n",
    "  * a year is a leap year if\n",
    "  1. it's divisible by 4 AND\n",
    "  2. it's not divisible by 100 (i.e., 1900 was not a leap year) UNLESS\n",
    "  3. it's also divisible by 400 (i.e., 2000 was a leap year)"
   ]
  },
  {
   "cell_type": "code",
   "execution_count": 37,
   "metadata": {},
   "outputs": [
    {
     "name": "stdout",
     "output_type": "stream",
     "text": [
      "Enter a year: 4\n",
      "4 is a leap year\n"
     ]
    }
   ],
   "source": [
    "year = int(input('Enter a year: '))\n",
    "if year == 0:\n",
    "    print('There is no year 0!')\n",
    "elif (year % 400 == 0) or (year % 4 == 0 and year % 100 != 0):\n",
    "    print(year, 'is a leap year')\n",
    "else:\n",
    "    print(year, 'is NOT a leap year')"
   ]
  },
  {
   "cell_type": "markdown",
   "metadata": {
    "slideshow": {
     "slide_type": "slide"
    }
   },
   "source": [
    "# The Art of Programming"
   ]
  },
  {
   "cell_type": "markdown",
   "metadata": {
    "slideshow": {
     "slide_type": "subslide"
    }
   },
   "source": [
    "## The Art of Programming\n",
    "* first off, what do we mean by programming?\n",
    "  * understanding the problem at hand\n",
    "  * formulating a solution to that problem as a series of steps\n",
    "  * converting those steps into code\n",
    "  * testing your code\n",
    "  * fixing bugs\n",
    "* next, what do we mean by art?\n",
    "  * coding is a procedure we follow, and as such, we could argue there isn't much 'art' involved\n",
    "  * however, experienced programmers often use their intuition and deep understanding of problems and coding practices to \"finesse\" a solution\n",
    "  * in a sense they can \"see\" the problem clearer, and therefore generate a solution quicker and often better than those who are inexperienced\n",
    "* so how do new programmers get to that point?\n",
    "  * just like the old joke about Carnegie Hall–practice, practice, practice!"
   ]
  },
  {
   "cell_type": "markdown",
   "metadata": {
    "slideshow": {
     "slide_type": "subslide"
    }
   },
   "source": [
    "## Converting a Problem Into Code\n",
    "1. be sure you understand the problem (do not start coding yet)\n",
    "2. write down the sequence of steps you use to solve that problem \"in real life\" (do not start coding yet)\n",
    "3. convert each step into the code to perform it\n",
    "\n",
    "__DO NOT WRITE CODE UNTIL YOU KNOW WHAT YOU ARE WRITING AND WHY YOU ARE WRITING IT!__"
   ]
  },
  {
   "cell_type": "markdown",
   "metadata": {},
   "source": [
    "## Mental Models\n",
    "* a _mental model_ is an explanation of someone's thought process about how something works in the real world\n",
    "* mental models can help generate an approach to solving problems\n",
    "* Kenneth Craik suggested in 1943 that the mind constructs \"small-scale models\" of reality that it uses to anticipate events\n",
    "* it is my belief that most bugs in our program occur because of an incorrect mental model\n",
    "  * if our understanding (or modeling) of a problem is flawed, then necessarily our code will be flawed\n",
    "* when code doesn't work, we may want to pay attention to our mental model and see if we can find flaws in it\n",
    "  * i.e., is there assumption we are making which is untrue?"
   ]
  },
  {
   "cell_type": "markdown",
   "metadata": {
    "slideshow": {
     "slide_type": "slide"
    }
   },
   "source": [
    "## Iteration\n",
    "* to _iterate_ is to _repeat_ something (in the case of programming, we will be repeating some code)"
   ]
  },
  {
   "cell_type": "markdown",
   "metadata": {
    "slideshow": {
     "slide_type": "subslide"
    }
   },
   "source": [
    "## The __`for`__ Loop\n",
    "* we use a __`for`__ loop when we want to repeat something a _known_ number of times\n",
    "* real world example–_drive for __5 blocks__ and then turn right_\n",
    "* there are two types of __`for`__ loops in Python\n",
    "  * looping through a numeric range\n",
    "  * looping through a _container_\n",
    "    * containers are Python data types which _contain_ things (e.g., a string contains characters)\n",
    "* syntax\n",
    "\n",
    "   <pre>\n",
    "      <b>\n",
    "      for variable in sequence:\n",
    "          statement(s)\n",
    "      </b>\n",
    "   </pre>\n",
    "* you choose the name of the _variable_, which should be something that makes sense\n",
    "<img src=\"images/python_for_loop.jpg\" alt=\"flow\" style=\"width: 350px;\"/>"
   ]
  },
  {
   "cell_type": "code",
   "execution_count": null,
   "metadata": {},
   "outputs": [],
   "source": [
    "# loop through a container (in this case,\n",
    "# the container is a string)\n",
    "\n",
    "for item in 'CONTAINER':\n",
    "    print(item)"
   ]
  },
  {
   "cell_type": "code",
   "execution_count": null,
   "metadata": {},
   "outputs": [],
   "source": [
    "# for reasons that are not important right now, a Python range always\n",
    "# excludes the last number ...so range(1, 10) means 1, 2, ..., 9\n",
    "\n",
    "for number in range(1, 10):\n",
    "    print(number)"
   ]
  },
  {
   "cell_type": "markdown",
   "metadata": {},
   "source": [
    "## Lab: for loops\n",
    "* write a Python program which asks the user for a string and then outputs the same string with each character duplicated\n",
    "  * e.g., if the user enters __salesforce__, your program will output __ssaalleessffoorrccee__\n",
    "* write a Python program to compute __`n! (= n * n - 1 * n - 2 ... * 1)`__\n",
    "  * so if the user enters a 5, your program should compute __`5 * 4 * 3 * 2 * 1 (120)`__"
   ]
  },
  {
   "cell_type": "code",
   "execution_count": 174,
   "metadata": {
    "scrolled": true
   },
   "outputs": [
    {
     "name": "stdout",
     "output_type": "stream",
     "text": [
      "Enter a string of characters: bblldsfsaf\n",
      "bbbbllllddssffssaaff"
     ]
    }
   ],
   "source": [
    "user_string = input('Enter a string of characters: ')\n",
    "for char in user_string:\n",
    "    print(char * 2, end = '')"
   ]
  },
  {
   "cell_type": "code",
   "execution_count": 187,
   "metadata": {},
   "outputs": [
    {
     "name": "stdout",
     "output_type": "stream",
     "text": [
      "Enter any non-negative integer: 5\n",
      "5! is 120\n"
     ]
    }
   ],
   "source": [
    "factorial = int(input('Enter any non-negative integer: '))\n",
    "j = 1\n",
    "if factorial < 0:\n",
    "    print('The number must not be negative!')\n",
    "else:\n",
    "    for num in range(factorial, 0, -1):\n",
    "        j = num * j\n",
    "    print(factorial, '! is ', j, sep = '')\n"
   ]
  },
  {
   "cell_type": "code",
   "execution_count": 188,
   "metadata": {},
   "outputs": [
    {
     "name": "stdout",
     "output_type": "stream",
     "text": [
      "Enter any non-negative integer: 5\n",
      "5! is 120\n"
     ]
    }
   ],
   "source": [
    "given_factorial = int(input('Enter any non-negative integer: '))\n",
    "import math\n",
    "print(given_factorial, '! is ', math.factorial(given_factorial), sep = '')\n"
   ]
  },
  {
   "cell_type": "markdown",
   "metadata": {
    "slideshow": {
     "slide_type": "subslide"
    }
   },
   "source": [
    "## The __`while`__ Loop\n",
    "* we use a __`while`__ loop when we want to repeat something an _unknown_ number of times\n",
    "* real world example–_keep driving until you get to a traffic light, then turn right_\n",
    "* a __`while`__ loop checks a boolean condition and keeps going until the condition becomes false \n",
    "* much less common than __`for`__ loops\n",
    "* syntax\n",
    "\n",
    "   <pre>\n",
    "      <b>\n",
    "      while condition:\n",
    "          statement(s)\n",
    "      </b>\n",
    "   </pre>\n",
    "        \n",
    "<img src=\"images/python_while_loop.jpg\" alt=\"flow\" style=\"width: 350px;\"/>\n"
   ]
  },
  {
   "cell_type": "code",
   "execution_count": null,
   "metadata": {},
   "outputs": [],
   "source": [
    "num = 0\n",
    "while num < 1:\n",
    "    num = int(input(\n",
    "        \"Enter a positive number: \"))"
   ]
  },
  {
   "cell_type": "markdown",
   "metadata": {},
   "source": [
    "## Lab: while loops\n",
    "1. write Python code which prompts the user to enter a 5-letter string\n",
    "  * it then reads input from the user and stops if the user did in fact enter a 5-letter string\n",
    "  * otherwise, it prints an error message, and once again asks the user to enter a 5-letter string\n",
    "2. write a Python program which picks a random number between 1 and 100 and asks the user to guess it\n",
    "  * if the user's guess is too high, say it's too high\n",
    "  * if the user's guess is too low, say it's too low\n",
    "  * if the user's guess is correct, say it's correct and stop looping\n",
    "  * you can use the code below to get a random number\n",
    "  \n",
    "  <pre><b>\n",
    "  import random\n",
    "  number = random.randint(1, 100)\n",
    "  </b></pre>"
   ]
  },
  {
   "cell_type": "code",
   "execution_count": 5,
   "metadata": {},
   "outputs": [
    {
     "name": "stdout",
     "output_type": "stream",
     "text": [
      "Enter a 5 letter string: fds\n",
      "ERROR - You didn't enter a 5 letter string!\n",
      "Enter a 5 letter string: abdef\n"
     ]
    }
   ],
   "source": [
    "num = 0\n",
    "while num != 5:\n",
    "    user_str = input(\"Enter a 5 letter string: \")\n",
    "    num = len(user_str)\n",
    "    if num != 5:\n",
    "        print(\"ERROR - You didn't enter a 5 letter string!\")\n",
    "    "
   ]
  },
  {
   "cell_type": "code",
   "execution_count": 3,
   "metadata": {},
   "outputs": [
    {
     "name": "stdout",
     "output_type": "stream",
     "text": [
      "I picked a number between 1-100.  Can you guess it? > 50\n",
      "Ha!  You're guess is too low!\n",
      "I picked a number between 1-100.  Can you guess it? > 75\n",
      "Ha!  You're guess is too low!\n",
      "I picked a number between 1-100.  Can you guess it? > 85\n",
      "Ha!  You're guess is too low!\n",
      "I picked a number between 1-100.  Can you guess it? > 90\n",
      "Ha!  You're guess is too low!\n",
      "I picked a number between 1-100.  Can you guess it? > 95\n",
      "Ha!  You're guess is too high!\n",
      "I picked a number between 1-100.  Can you guess it? > 94\n",
      "Ha!  You're guess is too high!\n",
      "I picked a number between 1-100.  Can you guess it? > 93\n",
      "Ha!  You're guess is too high!\n",
      "I picked a number between 1-100.  Can you guess it? > 92\n",
      "You are correct!  Good guess!\n"
     ]
    }
   ],
   "source": [
    "import random\n",
    "answer = random.randint(1, 100)\n",
    "guess = 0\n",
    "while guess != answer:\n",
    "    guess = int(input(\"I picked a number between 1-100.  Can you guess it? > \"))\n",
    "    if guess < answer:\n",
    "        print(\"Ha!  You're guess is too low!\")\n",
    "    elif guess > answer:\n",
    "        print(\"Ha!  You're guess is too high!\")\n",
    "    else:\n",
    "        print(\"You are correct!  Good guess!\")\n",
    "        "
   ]
  },
  {
   "cell_type": "markdown",
   "metadata": {
    "slideshow": {
     "slide_type": "subslide"
    }
   },
   "source": [
    "## Syntax Common to Both __`for`__ and __`while`__ Loops\n",
    "* the __`break`__ statement is used to immediately exit a loop\n",
    "* the __`continue`__ statement is used to skip the rest of the loop and continue with the next iteration\n",
    "* the __`else`__ clause is executed only if the loop finished _normally_–meaning it did not finish as a result of a __`break`__ statement\n",
    "  * __`else`__ is a terrible name and we just have to live with it\n",
    "* let's see examples of each of these..."
   ]
  },
  {
   "cell_type": "code",
   "execution_count": null,
   "metadata": {},
   "outputs": [],
   "source": [
    "# 'break' example: find the first multiple\n",
    "# of 37 >= to the entered number\n",
    "\n",
    "num = int(input('Enter low number: '))\n",
    "\n",
    "for check in range(num, num + 37):\n",
    "    if check % 37 == 0: # num is divisible by 37\n",
    "        print('First multiple of 37 above',\n",
    "              num, 'is', check)\n",
    "        break # quit the loop right now"
   ]
  },
  {
   "cell_type": "code",
   "execution_count": null,
   "metadata": {},
   "outputs": [],
   "source": [
    "# 'continue' example: print out whether numbers are even or odd\n",
    "\n",
    "for num in range(2, 11): # 2..10\n",
    "    if num % 2 == 0: # if num is divisible by 2 (hence even)\n",
    "        print(num, 'is even')\n",
    "        continue # skip next line and iterate again\n",
    "    print(num, 'is odd')"
   ]
  },
  {
   "cell_type": "code",
   "execution_count": null,
   "metadata": {},
   "outputs": [],
   "source": [
    "# else example\n",
    "\n",
    "for num in range(1, 6): # 1..5\n",
    "    word = input('Enter a 5-letter word: ')\n",
    "    # here we see a new function, len()\n",
    "    if len(word) == 5:\n",
    "        break\n",
    "# this is only executed if we didn't 'break' out of the loop\n",
    "else:\n",
    "    print(\"Why can't you follow directions?\")\n",
    "print('This will always execute')"
   ]
  },
  {
   "cell_type": "markdown",
   "metadata": {},
   "source": [
    "## Lab: break/continue/else\n",
    "* modify your guessing game to add the option for the user to give up by typing a 0 as his or her guess:\n",
    "    * if the user enters a 0, exit the loop\n",
    "    * after the loop, we need to determine   \n",
    "    whether the user gave up or guessed the   \n",
    "    number correctly\n",
    "    * if gave up, print 'sorry you\n",
    "     gave up'\n",
    "    * if correct, print 'got it!'\n",
    "</pre>\n"
   ]
  },
  {
   "cell_type": "code",
   "execution_count": 2,
   "metadata": {},
   "outputs": [
    {
     "name": "stdout",
     "output_type": "stream",
     "text": [
      "I picked a number between 1-100.  Can you guess it? Enter zero to give up > 50\n",
      "Ha!  You're guess is too low!\n",
      "I picked a number between 1-100.  Can you guess it? Enter zero to give up > 75\n",
      "Ha!  You're guess is too low!\n",
      "I picked a number between 1-100.  Can you guess it? Enter zero to give up > 90\n",
      "Ha!  You're guess is too low!\n",
      "I picked a number between 1-100.  Can you guess it? Enter zero to give up > 95\n",
      "Ha!  You're guess is too high!\n",
      "I picked a number between 1-100.  Can you guess it? Enter zero to give up > 94\n",
      "Ha!  You're guess is too high!\n",
      "I picked a number between 1-100.  Can you guess it? Enter zero to give up > 93\n",
      "You are correct!  Good guess!\n"
     ]
    }
   ],
   "source": [
    "import random\n",
    "answer = random.randint(1, 100)\n",
    "guess = 0\n",
    "correct_answer = 'no'\n",
    "gave_up = 'no'\n",
    "while guess != answer:\n",
    "    guess = int(input(\"I picked a number between 1-100.  Can you guess it? Enter zero to give up > \"))\n",
    "    if guess == 0:\n",
    "        gave_up = 'yes'\n",
    "        break\n",
    "    if guess < answer:\n",
    "        print(\"Ha!  You're guess is too low!\")\n",
    "    elif guess > answer:\n",
    "        print(\"Ha!  You're guess is too high!\")\n",
    "    else:\n",
    "        correct_answer = 'yes'\n",
    "if gave_up == 'yes':\n",
    "    print(\"Sorry you gave up!\")\n",
    "if correct_answer == 'yes':\n",
    "    print(\"Got it!\")"
   ]
  },
  {
   "cell_type": "markdown",
   "metadata": {
    "slideshow": {
     "slide_type": "subslide"
    }
   },
   "source": [
    "## Post-Test Loops\n",
    "* occasionally we want a loop where the test is performed at the end of the loop\n",
    "* some languages have a special _do-while_ loop for this case, but that doesn't exist in Python\n",
    "* we can simulate a _do-while_ loop in Python as follows:\n",
    "\n",
    " <pre>\n",
    "      <b>\n",
    "      while True:\n",
    "          statement(s)\n",
    "          if condition is false:\n",
    "              break\n",
    "      </b>\n",
    "   </pre>"
   ]
  },
  {
   "cell_type": "code",
   "execution_count": null,
   "metadata": {},
   "outputs": [],
   "source": [
    "# keep adding numbers until user enters a 0\n",
    "\n",
    "total = 0\n",
    "\n",
    "while True: # infinite loop, so we must have a 'break' somewhere in the loop\n",
    "    num = int(input('Enter a number: '))\n",
    "    total += num\n",
    "    if num == 0:\n",
    "        break\n",
    "\n",
    "print(total)"
   ]
  },
  {
   "cell_type": "markdown",
   "metadata": {
    "slideshow": {
     "slide_type": "subslide"
    }
   },
   "source": [
    "## Middle-Test Loops\n",
    "* like a post-test loop, we want a loop where the test is not performed at the top\n",
    "* in this case the test is performed in the middle\n",
    "* no language has a middle-test loop construct\n",
    "* we can perform a middle-test loop in Python as follows:\n",
    "\n",
    " <pre>\n",
    "      <b>\n",
    "      while True:\n",
    "          statement(s)\n",
    "          if condition is false:\n",
    "              break\n",
    "          statement(s)\n",
    "      </b>\n",
    "   </pre>"
   ]
  },
  {
   "cell_type": "code",
   "execution_count": null,
   "metadata": {},
   "outputs": [],
   "source": [
    "# sum up the numbers until user hits return\n",
    "\n",
    "total = 0\n",
    "\n",
    "while True: \n",
    "    num = input(\"Enter the next number (leave blank to end): \")\n",
    "    if num == '':\n",
    "        break\n",
    "    total += int(num)\n",
    "    \n",
    "print(\"The total of the numbers you entered is\", total)"
   ]
  },
  {
   "cell_type": "markdown",
   "metadata": {
    "slideshow": {
     "slide_type": "subslide"
    }
   },
   "source": [
    "## Nested Loops\n",
    "* it is possible–and quite common–to have a loop inside a loop\n",
    "* in these cases, the inner loop(s) must complete before the outer loop continues"
   ]
  },
  {
   "cell_type": "code",
   "execution_count": null,
   "metadata": {},
   "outputs": [],
   "source": [
    "for first in range(1, 11):\n",
    "    # for each iteration of the outer loop, the inner loop\n",
    "    # will run to completion\n",
    "    for second in range(1, 11):\n",
    "        #print(first * second, end=' ')\n",
    "        #print('%3d' % (first * second), end=' ') # Python 2-style\n",
    "        print('{:4d}'.format(first * second), end=' ')\n",
    "\n",
    "    print()"
   ]
  },
  {
   "cell_type": "markdown",
   "metadata": {},
   "source": [
    "## Lab: Finding Prime Numbers\n",
    "* write a program to print out the prime numbers between 10 and 30\n",
    "* a number is prime if it's only divisible by 1 and itself\n",
    "* algorithm\n",
    "  * for each number 10 to 30\n",
    "    * try to divide in all of the numbers up to (but not including) the current number\n",
    "    * if any lower number divides in evenly, the number is not prime\n",
    "    * if NONE of the lower numbers divide in evenly, the number IS prime\n",
    "* later, if there's time, we'll look at another way to find prime numbers that was discovered by Eratosthenes"
   ]
  },
  {
   "cell_type": "code",
   "execution_count": 32,
   "metadata": {
    "scrolled": true
   },
   "outputs": [
    {
     "name": "stdout",
     "output_type": "stream",
     "text": [
      "Enter a low integer, greater than zero: 1\n",
      "Enter a high integer: 25000\n",
      "\n",
      "In the range of 1 - 25000 , here are the prime numbers:\n",
      "2\n",
      "3\n",
      "5\n",
      "7\n",
      "11\n",
      "13\n",
      "17\n",
      "19\n",
      "23\n",
      "29\n",
      "31\n",
      "37\n",
      "41\n",
      "43\n",
      "47\n",
      "53\n",
      "59\n",
      "61\n",
      "67\n",
      "71\n",
      "73\n",
      "79\n",
      "83\n",
      "89\n",
      "97\n",
      "101\n",
      "103\n",
      "107\n",
      "109\n",
      "113\n",
      "127\n",
      "131\n",
      "137\n",
      "139\n",
      "149\n",
      "151\n",
      "157\n",
      "163\n",
      "167\n",
      "173\n",
      "179\n",
      "181\n",
      "191\n",
      "193\n",
      "197\n",
      "199\n",
      "211\n",
      "223\n",
      "227\n",
      "229\n",
      "233\n",
      "239\n",
      "241\n",
      "251\n",
      "257\n",
      "263\n",
      "269\n",
      "271\n",
      "277\n",
      "281\n",
      "283\n",
      "293\n",
      "307\n",
      "311\n",
      "313\n",
      "317\n",
      "331\n",
      "337\n",
      "347\n",
      "349\n",
      "353\n",
      "359\n",
      "367\n",
      "373\n",
      "379\n",
      "383\n",
      "389\n",
      "397\n",
      "401\n",
      "409\n",
      "419\n",
      "421\n",
      "431\n",
      "433\n",
      "439\n",
      "443\n",
      "449\n",
      "457\n",
      "461\n",
      "463\n",
      "467\n",
      "479\n",
      "487\n",
      "491\n",
      "499\n",
      "503\n",
      "509\n",
      "521\n",
      "523\n",
      "541\n",
      "547\n",
      "557\n",
      "563\n",
      "569\n",
      "571\n",
      "577\n",
      "587\n",
      "593\n",
      "599\n",
      "601\n",
      "607\n",
      "613\n",
      "617\n",
      "619\n",
      "631\n",
      "641\n",
      "643\n",
      "647\n",
      "653\n",
      "659\n",
      "661\n",
      "673\n",
      "677\n",
      "683\n",
      "691\n",
      "701\n",
      "709\n",
      "719\n",
      "727\n",
      "733\n",
      "739\n",
      "743\n",
      "751\n",
      "757\n",
      "761\n",
      "769\n",
      "773\n",
      "787\n",
      "797\n",
      "809\n",
      "811\n",
      "821\n",
      "823\n",
      "827\n",
      "829\n",
      "839\n",
      "853\n",
      "857\n",
      "859\n",
      "863\n",
      "877\n",
      "881\n",
      "883\n",
      "887\n",
      "907\n",
      "911\n",
      "919\n",
      "929\n",
      "937\n",
      "941\n",
      "947\n",
      "953\n",
      "967\n",
      "971\n",
      "977\n",
      "983\n",
      "991\n",
      "997\n",
      "1009\n",
      "1013\n",
      "1019\n",
      "1021\n",
      "1031\n",
      "1033\n",
      "1039\n",
      "1049\n",
      "1051\n",
      "1061\n",
      "1063\n",
      "1069\n",
      "1087\n",
      "1091\n",
      "1093\n",
      "1097\n",
      "1103\n",
      "1109\n",
      "1117\n",
      "1123\n",
      "1129\n",
      "1151\n",
      "1153\n",
      "1163\n",
      "1171\n",
      "1181\n",
      "1187\n",
      "1193\n",
      "1201\n",
      "1213\n",
      "1217\n",
      "1223\n",
      "1229\n",
      "1231\n",
      "1237\n",
      "1249\n",
      "1259\n",
      "1277\n",
      "1279\n",
      "1283\n",
      "1289\n",
      "1291\n",
      "1297\n",
      "1301\n",
      "1303\n",
      "1307\n",
      "1319\n",
      "1321\n",
      "1327\n",
      "1361\n",
      "1367\n",
      "1373\n",
      "1381\n",
      "1399\n",
      "1409\n",
      "1423\n",
      "1427\n",
      "1429\n",
      "1433\n",
      "1439\n",
      "1447\n",
      "1451\n",
      "1453\n",
      "1459\n",
      "1471\n",
      "1481\n",
      "1483\n",
      "1487\n",
      "1489\n",
      "1493\n",
      "1499\n",
      "1511\n",
      "1523\n",
      "1531\n",
      "1543\n",
      "1549\n",
      "1553\n",
      "1559\n",
      "1567\n",
      "1571\n",
      "1579\n",
      "1583\n",
      "1597\n",
      "1601\n",
      "1607\n",
      "1609\n",
      "1613\n",
      "1619\n",
      "1621\n",
      "1627\n",
      "1637\n",
      "1657\n",
      "1663\n",
      "1667\n",
      "1669\n",
      "1693\n",
      "1697\n",
      "1699\n",
      "1709\n",
      "1721\n",
      "1723\n",
      "1733\n",
      "1741\n",
      "1747\n",
      "1753\n",
      "1759\n",
      "1777\n",
      "1783\n",
      "1787\n",
      "1789\n",
      "1801\n",
      "1811\n",
      "1823\n",
      "1831\n",
      "1847\n",
      "1861\n",
      "1867\n",
      "1871\n",
      "1873\n",
      "1877\n",
      "1879\n",
      "1889\n",
      "1901\n",
      "1907\n",
      "1913\n",
      "1931\n",
      "1933\n",
      "1949\n",
      "1951\n",
      "1973\n",
      "1979\n",
      "1987\n",
      "1993\n",
      "1997\n",
      "1999\n",
      "2003\n",
      "2011\n",
      "2017\n",
      "2027\n",
      "2029\n",
      "2039\n",
      "2053\n",
      "2063\n",
      "2069\n",
      "2081\n",
      "2083\n",
      "2087\n",
      "2089\n",
      "2099\n",
      "2111\n",
      "2113\n",
      "2129\n",
      "2131\n",
      "2137\n",
      "2141\n",
      "2143\n",
      "2153\n",
      "2161\n",
      "2179\n",
      "2203\n",
      "2207\n",
      "2213\n",
      "2221\n",
      "2237\n",
      "2239\n",
      "2243\n",
      "2251\n",
      "2267\n",
      "2269\n",
      "2273\n",
      "2281\n",
      "2287\n",
      "2293\n",
      "2297\n",
      "2309\n",
      "2311\n",
      "2333\n",
      "2339\n",
      "2341\n",
      "2347\n",
      "2351\n",
      "2357\n",
      "2371\n",
      "2377\n",
      "2381\n",
      "2383\n",
      "2389\n",
      "2393\n",
      "2399\n",
      "2411\n",
      "2417\n",
      "2423\n",
      "2437\n",
      "2441\n",
      "2447\n",
      "2459\n",
      "2467\n",
      "2473\n",
      "2477\n",
      "2503\n",
      "2521\n",
      "2531\n",
      "2539\n",
      "2543\n",
      "2549\n",
      "2551\n",
      "2557\n",
      "2579\n",
      "2591\n",
      "2593\n",
      "2609\n",
      "2617\n",
      "2621\n",
      "2633\n",
      "2647\n",
      "2657\n",
      "2659\n",
      "2663\n",
      "2671\n",
      "2677\n",
      "2683\n",
      "2687\n",
      "2689\n",
      "2693\n",
      "2699\n",
      "2707\n",
      "2711\n",
      "2713\n",
      "2719\n",
      "2729\n",
      "2731\n",
      "2741\n",
      "2749\n",
      "2753\n",
      "2767\n",
      "2777\n",
      "2789\n",
      "2791\n",
      "2797\n",
      "2801\n",
      "2803\n",
      "2819\n",
      "2833\n",
      "2837\n",
      "2843\n",
      "2851\n",
      "2857\n",
      "2861\n",
      "2879\n",
      "2887\n",
      "2897\n",
      "2903\n",
      "2909\n",
      "2917\n",
      "2927\n",
      "2939\n",
      "2953\n",
      "2957\n",
      "2963\n",
      "2969\n",
      "2971\n",
      "2999\n",
      "3001\n",
      "3011\n",
      "3019\n",
      "3023\n",
      "3037\n",
      "3041\n",
      "3049\n",
      "3061\n",
      "3067\n",
      "3079\n",
      "3083\n",
      "3089\n",
      "3109\n",
      "3119\n",
      "3121\n",
      "3137\n",
      "3163\n",
      "3167\n",
      "3169\n",
      "3181\n",
      "3187\n",
      "3191\n",
      "3203\n",
      "3209\n",
      "3217\n",
      "3221\n",
      "3229\n",
      "3251\n",
      "3253\n",
      "3257\n",
      "3259\n",
      "3271\n",
      "3299\n",
      "3301\n",
      "3307\n",
      "3313\n",
      "3319\n",
      "3323\n",
      "3329\n",
      "3331\n",
      "3343\n",
      "3347\n",
      "3359\n",
      "3361\n",
      "3371\n",
      "3373\n",
      "3389\n",
      "3391\n",
      "3407\n",
      "3413\n",
      "3433\n",
      "3449\n",
      "3457\n",
      "3461\n",
      "3463\n",
      "3467\n",
      "3469\n",
      "3491\n",
      "3499\n",
      "3511\n",
      "3517\n",
      "3527\n",
      "3529\n",
      "3533\n",
      "3539\n",
      "3541\n",
      "3547\n",
      "3557\n",
      "3559\n",
      "3571\n",
      "3581\n",
      "3583\n",
      "3593\n",
      "3607\n",
      "3613\n",
      "3617\n",
      "3623\n",
      "3631\n",
      "3637\n",
      "3643\n",
      "3659\n",
      "3671\n",
      "3673\n",
      "3677\n",
      "3691\n",
      "3697\n",
      "3701\n",
      "3709\n",
      "3719\n",
      "3727\n",
      "3733\n",
      "3739\n",
      "3761\n",
      "3767\n",
      "3769\n",
      "3779\n",
      "3793\n",
      "3797\n",
      "3803\n",
      "3821\n",
      "3823\n",
      "3833\n",
      "3847\n",
      "3851\n",
      "3853\n",
      "3863\n",
      "3877\n",
      "3881\n",
      "3889\n",
      "3907\n",
      "3911\n",
      "3917\n",
      "3919\n",
      "3923\n",
      "3929\n",
      "3931\n",
      "3943\n",
      "3947\n",
      "3967\n",
      "3989\n",
      "4001\n",
      "4003\n",
      "4007\n",
      "4013\n",
      "4019\n",
      "4021\n",
      "4027\n",
      "4049\n",
      "4051\n",
      "4057\n",
      "4073\n",
      "4079\n",
      "4091\n",
      "4093\n",
      "4099\n",
      "4111\n",
      "4127\n",
      "4129\n",
      "4133\n",
      "4139\n",
      "4153\n",
      "4157\n",
      "4159\n",
      "4177\n",
      "4201\n",
      "4211\n",
      "4217\n",
      "4219\n",
      "4229\n",
      "4231\n",
      "4241\n",
      "4243\n",
      "4253\n",
      "4259\n",
      "4261\n",
      "4271\n",
      "4273\n",
      "4283\n",
      "4289\n",
      "4297\n",
      "4327\n",
      "4337\n",
      "4339\n",
      "4349\n",
      "4357\n",
      "4363\n",
      "4373\n",
      "4391\n",
      "4397\n",
      "4409\n",
      "4421\n",
      "4423\n",
      "4441\n",
      "4447\n",
      "4451\n",
      "4457\n",
      "4463\n",
      "4481\n",
      "4483\n",
      "4493\n",
      "4507\n",
      "4513\n",
      "4517\n",
      "4519\n",
      "4523\n",
      "4547\n",
      "4549\n",
      "4561\n",
      "4567\n",
      "4583\n",
      "4591\n",
      "4597\n",
      "4603\n",
      "4621\n",
      "4637\n",
      "4639\n",
      "4643\n",
      "4649\n",
      "4651\n",
      "4657\n",
      "4663\n",
      "4673\n",
      "4679\n",
      "4691\n",
      "4703\n",
      "4721\n",
      "4723\n",
      "4729\n",
      "4733\n",
      "4751\n",
      "4759\n",
      "4783\n",
      "4787\n",
      "4789\n",
      "4793\n",
      "4799\n",
      "4801\n",
      "4813\n",
      "4817\n",
      "4831\n",
      "4861\n",
      "4871\n",
      "4877\n",
      "4889\n",
      "4903\n",
      "4909\n",
      "4919\n",
      "4931\n",
      "4933\n",
      "4937\n",
      "4943\n",
      "4951\n",
      "4957\n",
      "4967\n",
      "4969\n",
      "4973\n",
      "4987\n",
      "4993\n",
      "4999\n",
      "5003\n",
      "5009\n",
      "5011\n",
      "5021\n",
      "5023\n",
      "5039\n",
      "5051\n",
      "5059\n",
      "5077\n",
      "5081\n",
      "5087\n",
      "5099\n",
      "5101\n",
      "5107\n",
      "5113\n",
      "5119\n",
      "5147\n",
      "5153\n",
      "5167\n",
      "5171\n",
      "5179\n",
      "5189\n",
      "5197\n",
      "5209\n",
      "5227\n",
      "5231\n",
      "5233\n",
      "5237\n",
      "5261\n",
      "5273\n",
      "5279\n",
      "5281\n",
      "5297\n",
      "5303\n",
      "5309\n",
      "5323\n",
      "5333\n",
      "5347\n",
      "5351\n",
      "5381\n",
      "5387\n",
      "5393\n",
      "5399\n",
      "5407\n",
      "5413\n",
      "5417\n",
      "5419\n",
      "5431\n",
      "5437\n",
      "5441\n",
      "5443\n",
      "5449\n",
      "5471\n",
      "5477\n",
      "5479\n",
      "5483\n",
      "5501\n",
      "5503\n",
      "5507\n",
      "5519\n",
      "5521\n",
      "5527\n",
      "5531\n",
      "5557\n",
      "5563\n",
      "5569\n",
      "5573\n",
      "5581\n",
      "5591\n",
      "5623\n",
      "5639\n",
      "5641\n",
      "5647\n",
      "5651\n",
      "5653\n",
      "5657\n",
      "5659\n",
      "5669\n",
      "5683\n",
      "5689\n",
      "5693\n",
      "5701\n",
      "5711\n",
      "5717\n",
      "5737\n",
      "5741\n",
      "5743\n",
      "5749\n",
      "5779\n",
      "5783\n",
      "5791\n",
      "5801\n",
      "5807\n",
      "5813\n",
      "5821\n",
      "5827\n",
      "5839\n",
      "5843\n",
      "5849\n",
      "5851\n",
      "5857\n",
      "5861\n",
      "5867\n",
      "5869\n",
      "5879\n",
      "5881\n",
      "5897\n",
      "5903\n",
      "5923\n",
      "5927\n",
      "5939\n",
      "5953\n",
      "5981\n",
      "5987\n",
      "6007\n",
      "6011\n",
      "6029\n",
      "6037\n",
      "6043\n",
      "6047\n",
      "6053\n",
      "6067\n",
      "6073\n",
      "6079\n",
      "6089\n",
      "6091\n",
      "6101\n",
      "6113\n",
      "6121\n",
      "6131\n",
      "6133\n",
      "6143\n",
      "6151\n",
      "6163\n",
      "6173\n",
      "6197\n",
      "6199\n",
      "6203\n",
      "6211\n",
      "6217\n",
      "6221\n",
      "6229\n",
      "6247\n",
      "6257\n",
      "6263\n",
      "6269\n",
      "6271\n",
      "6277\n",
      "6287\n",
      "6299\n",
      "6301\n",
      "6311\n",
      "6317\n",
      "6323\n",
      "6329\n",
      "6337\n",
      "6343\n",
      "6353\n",
      "6359\n",
      "6361\n",
      "6367\n",
      "6373\n",
      "6379\n",
      "6389\n",
      "6397\n",
      "6421\n",
      "6427\n",
      "6449\n",
      "6451\n",
      "6469\n",
      "6473\n",
      "6481\n",
      "6491\n",
      "6521\n",
      "6529\n",
      "6547\n",
      "6551\n",
      "6553\n",
      "6563\n",
      "6569\n",
      "6571\n",
      "6577\n",
      "6581\n",
      "6599\n",
      "6607\n",
      "6619\n",
      "6637\n",
      "6653\n",
      "6659\n",
      "6661\n",
      "6673\n",
      "6679\n",
      "6689\n",
      "6691\n",
      "6701\n",
      "6703\n",
      "6709\n",
      "6719\n",
      "6733\n",
      "6737\n",
      "6761\n",
      "6763\n",
      "6779\n",
      "6781\n",
      "6791\n",
      "6793\n",
      "6803\n",
      "6823\n",
      "6827\n",
      "6829\n",
      "6833\n",
      "6841\n",
      "6857\n",
      "6863\n",
      "6869\n",
      "6871\n",
      "6883\n",
      "6899\n",
      "6907\n",
      "6911\n",
      "6917\n",
      "6947\n",
      "6949\n",
      "6959\n",
      "6961\n",
      "6967\n",
      "6971\n",
      "6977\n",
      "6983\n",
      "6991\n",
      "6997\n",
      "7001\n",
      "7013\n",
      "7019\n",
      "7027\n",
      "7039\n",
      "7043\n",
      "7057\n",
      "7069\n",
      "7079\n",
      "7103\n",
      "7109\n",
      "7121\n",
      "7127\n",
      "7129\n",
      "7151\n",
      "7159\n",
      "7177\n",
      "7187\n",
      "7193\n",
      "7207\n",
      "7211\n",
      "7213\n",
      "7219\n",
      "7229\n",
      "7237\n",
      "7243\n",
      "7247\n",
      "7253\n",
      "7283\n",
      "7297\n",
      "7307\n",
      "7309\n",
      "7321\n",
      "7331\n",
      "7333\n",
      "7349\n",
      "7351\n",
      "7369\n",
      "7393\n",
      "7411\n",
      "7417\n",
      "7433\n",
      "7451\n",
      "7457\n",
      "7459\n",
      "7477\n",
      "7481\n",
      "7487\n",
      "7489\n",
      "7499\n",
      "7507\n",
      "7517\n",
      "7523\n",
      "7529\n",
      "7537\n",
      "7541\n",
      "7547\n",
      "7549\n",
      "7559\n",
      "7561\n",
      "7573\n",
      "7577\n",
      "7583\n",
      "7589\n",
      "7591\n",
      "7603\n",
      "7607\n",
      "7621\n",
      "7639\n",
      "7643\n",
      "7649\n",
      "7669\n",
      "7673\n",
      "7681\n",
      "7687\n",
      "7691\n",
      "7699\n",
      "7703\n",
      "7717\n",
      "7723\n",
      "7727\n",
      "7741\n",
      "7753\n",
      "7757\n",
      "7759\n",
      "7789\n",
      "7793\n",
      "7817\n",
      "7823\n",
      "7829\n",
      "7841\n",
      "7853\n",
      "7867\n",
      "7873\n",
      "7877\n",
      "7879\n",
      "7883\n",
      "7901\n",
      "7907\n",
      "7919\n",
      "7927\n",
      "7933\n",
      "7937\n",
      "7949\n",
      "7951\n",
      "7963\n",
      "7993\n",
      "8009\n",
      "8011\n",
      "8017\n",
      "8039\n",
      "8053\n",
      "8059\n",
      "8069\n",
      "8081\n",
      "8087\n",
      "8089\n",
      "8093\n",
      "8101\n",
      "8111\n",
      "8117\n",
      "8123\n",
      "8147\n",
      "8161\n",
      "8167\n",
      "8171\n",
      "8179\n",
      "8191\n",
      "8209\n",
      "8219\n",
      "8221\n",
      "8231\n",
      "8233\n",
      "8237\n",
      "8243\n",
      "8263\n",
      "8269\n",
      "8273\n",
      "8287\n",
      "8291\n",
      "8293\n",
      "8297\n",
      "8311\n",
      "8317\n",
      "8329\n",
      "8353\n",
      "8363\n",
      "8369\n",
      "8377\n",
      "8387\n",
      "8389\n",
      "8419\n",
      "8423\n",
      "8429\n",
      "8431\n",
      "8443\n",
      "8447\n",
      "8461\n",
      "8467\n",
      "8501\n",
      "8513\n",
      "8521\n",
      "8527\n",
      "8537\n",
      "8539\n",
      "8543\n",
      "8563\n",
      "8573\n",
      "8581\n",
      "8597\n",
      "8599\n",
      "8609\n",
      "8623\n",
      "8627\n",
      "8629\n",
      "8641\n",
      "8647\n",
      "8663\n",
      "8669\n",
      "8677\n",
      "8681\n",
      "8689\n",
      "8693\n",
      "8699\n",
      "8707\n",
      "8713\n",
      "8719\n",
      "8731\n",
      "8737\n",
      "8741\n",
      "8747\n",
      "8753\n",
      "8761\n",
      "8779\n",
      "8783\n",
      "8803\n",
      "8807\n",
      "8819\n",
      "8821\n",
      "8831\n",
      "8837\n",
      "8839\n",
      "8849\n",
      "8861\n",
      "8863\n",
      "8867\n",
      "8887\n",
      "8893\n",
      "8923\n",
      "8929\n",
      "8933\n",
      "8941\n",
      "8951\n",
      "8963\n",
      "8969\n",
      "8971\n",
      "8999\n",
      "9001\n",
      "9007\n",
      "9011\n",
      "9013\n",
      "9029\n",
      "9041\n",
      "9043\n",
      "9049\n",
      "9059\n",
      "9067\n",
      "9091\n",
      "9103\n",
      "9109\n",
      "9127\n",
      "9133\n",
      "9137\n",
      "9151\n",
      "9157\n",
      "9161\n",
      "9173\n",
      "9181\n",
      "9187\n",
      "9199\n",
      "9203\n",
      "9209\n",
      "9221\n",
      "9227\n",
      "9239\n",
      "9241\n",
      "9257\n",
      "9277\n",
      "9281\n",
      "9283\n",
      "9293\n",
      "9311\n",
      "9319\n",
      "9323\n",
      "9337\n",
      "9341\n",
      "9343\n",
      "9349\n",
      "9371\n",
      "9377\n",
      "9391\n",
      "9397\n",
      "9403\n",
      "9413\n",
      "9419\n",
      "9421\n",
      "9431\n",
      "9433\n",
      "9437\n",
      "9439\n",
      "9461\n",
      "9463\n",
      "9467\n",
      "9473\n",
      "9479\n",
      "9491\n",
      "9497\n",
      "9511\n",
      "9521\n",
      "9533\n",
      "9539\n",
      "9547\n",
      "9551\n",
      "9587\n",
      "9601\n",
      "9613\n",
      "9619\n",
      "9623\n",
      "9629\n",
      "9631\n",
      "9643\n",
      "9649\n",
      "9661\n",
      "9677\n",
      "9679\n",
      "9689\n",
      "9697\n",
      "9719\n",
      "9721\n",
      "9733\n",
      "9739\n",
      "9743\n",
      "9749\n",
      "9767\n",
      "9769\n",
      "9781\n",
      "9787\n",
      "9791\n",
      "9803\n",
      "9811\n",
      "9817\n",
      "9829\n",
      "9833\n",
      "9839\n",
      "9851\n",
      "9857\n",
      "9859\n",
      "9871\n",
      "9883\n",
      "9887\n",
      "9901\n",
      "9907\n",
      "9923\n",
      "9929\n",
      "9931\n",
      "9941\n",
      "9949\n",
      "9967\n",
      "9973\n",
      "10007\n",
      "10009\n",
      "10037\n",
      "10039\n",
      "10061\n",
      "10067\n",
      "10069\n",
      "10079\n",
      "10091\n",
      "10093\n",
      "10099\n",
      "10103\n",
      "10111\n",
      "10133\n",
      "10139\n",
      "10141\n",
      "10151\n",
      "10159\n",
      "10163\n",
      "10169\n",
      "10177\n",
      "10181\n",
      "10193\n",
      "10211\n",
      "10223\n",
      "10243\n",
      "10247\n",
      "10253\n",
      "10259\n",
      "10267\n",
      "10271\n",
      "10273\n",
      "10289\n",
      "10301\n",
      "10303\n",
      "10313\n",
      "10321\n",
      "10331\n",
      "10333\n",
      "10337\n",
      "10343\n",
      "10357\n",
      "10369\n",
      "10391\n",
      "10399\n",
      "10427\n",
      "10429\n",
      "10433\n",
      "10453\n",
      "10457\n",
      "10459\n",
      "10463\n",
      "10477\n",
      "10487\n",
      "10499\n",
      "10501\n",
      "10513\n",
      "10529\n",
      "10531\n",
      "10559\n",
      "10567\n",
      "10589\n",
      "10597\n",
      "10601\n",
      "10607\n",
      "10613\n",
      "10627\n",
      "10631\n",
      "10639\n",
      "10651\n",
      "10657\n",
      "10663\n",
      "10667\n",
      "10687\n",
      "10691\n",
      "10709\n",
      "10711\n",
      "10723\n",
      "10729\n",
      "10733\n",
      "10739\n",
      "10753\n",
      "10771\n",
      "10781\n",
      "10789\n",
      "10799\n",
      "10831\n",
      "10837\n",
      "10847\n",
      "10853\n",
      "10859\n",
      "10861\n",
      "10867\n",
      "10883\n",
      "10889\n",
      "10891\n",
      "10903\n",
      "10909\n",
      "10937\n",
      "10939\n",
      "10949\n",
      "10957\n",
      "10973\n",
      "10979\n",
      "10987\n",
      "10993\n",
      "11003\n",
      "11027\n",
      "11047\n",
      "11057\n",
      "11059\n",
      "11069\n",
      "11071\n",
      "11083\n",
      "11087\n",
      "11093\n",
      "11113\n",
      "11117\n",
      "11119\n",
      "11131\n",
      "11149\n",
      "11159\n",
      "11161\n",
      "11171\n",
      "11173\n",
      "11177\n",
      "11197\n",
      "11213\n",
      "11239\n",
      "11243\n",
      "11251\n",
      "11257\n",
      "11261\n",
      "11273\n",
      "11279\n",
      "11287\n",
      "11299\n",
      "11311\n",
      "11317\n",
      "11321\n",
      "11329\n",
      "11351\n",
      "11353\n",
      "11369\n",
      "11383\n",
      "11393\n",
      "11399\n",
      "11411\n",
      "11423\n",
      "11437\n",
      "11443\n",
      "11447\n",
      "11467\n",
      "11471\n",
      "11483\n",
      "11489\n",
      "11491\n",
      "11497\n",
      "11503\n",
      "11519\n",
      "11527\n",
      "11549\n",
      "11551\n",
      "11579\n",
      "11587\n",
      "11593\n",
      "11597\n",
      "11617\n",
      "11621\n",
      "11633\n",
      "11657\n",
      "11677\n",
      "11681\n",
      "11689\n",
      "11699\n",
      "11701\n",
      "11717\n",
      "11719\n",
      "11731\n",
      "11743\n",
      "11777\n",
      "11779\n",
      "11783\n",
      "11789\n",
      "11801\n",
      "11807\n",
      "11813\n",
      "11821\n",
      "11827\n",
      "11831\n",
      "11833\n",
      "11839\n",
      "11863\n",
      "11867\n",
      "11887\n",
      "11897\n",
      "11903\n",
      "11909\n",
      "11923\n",
      "11927\n",
      "11933\n",
      "11939\n",
      "11941\n",
      "11953\n",
      "11959\n",
      "11969\n",
      "11971\n",
      "11981\n",
      "11987\n",
      "12007\n",
      "12011\n",
      "12037\n",
      "12041\n",
      "12043\n",
      "12049\n",
      "12071\n",
      "12073\n",
      "12097\n",
      "12101\n",
      "12107\n",
      "12109\n",
      "12113\n",
      "12119\n",
      "12143\n",
      "12149\n",
      "12157\n",
      "12161\n",
      "12163\n",
      "12197\n",
      "12203\n",
      "12211\n",
      "12227\n",
      "12239\n",
      "12241\n",
      "12251\n",
      "12253\n",
      "12263\n",
      "12269\n",
      "12277\n",
      "12281\n",
      "12289\n",
      "12301\n",
      "12323\n",
      "12329\n",
      "12343\n",
      "12347\n",
      "12373\n",
      "12377\n",
      "12379\n",
      "12391\n",
      "12401\n",
      "12409\n",
      "12413\n",
      "12421\n",
      "12433\n",
      "12437\n",
      "12451\n",
      "12457\n",
      "12473\n",
      "12479\n",
      "12487\n",
      "12491\n",
      "12497\n",
      "12503\n",
      "12511\n",
      "12517\n",
      "12527\n",
      "12539\n",
      "12541\n",
      "12547\n",
      "12553\n",
      "12569\n",
      "12577\n",
      "12583\n",
      "12589\n",
      "12601\n",
      "12611\n",
      "12613\n",
      "12619\n",
      "12637\n",
      "12641\n",
      "12647\n",
      "12653\n",
      "12659\n",
      "12671\n",
      "12689\n",
      "12697\n",
      "12703\n",
      "12713\n",
      "12721\n",
      "12739\n",
      "12743\n",
      "12757\n",
      "12763\n",
      "12781\n",
      "12791\n",
      "12799\n",
      "12809\n",
      "12821\n",
      "12823\n",
      "12829\n",
      "12841\n",
      "12853\n",
      "12889\n",
      "12893\n",
      "12899\n",
      "12907\n",
      "12911\n",
      "12917\n",
      "12919\n",
      "12923\n",
      "12941\n",
      "12953\n",
      "12959\n",
      "12967\n",
      "12973\n",
      "12979\n",
      "12983\n",
      "13001\n",
      "13003\n",
      "13007\n",
      "13009\n",
      "13033\n",
      "13037\n",
      "13043\n",
      "13049\n",
      "13063\n",
      "13093\n",
      "13099\n",
      "13103\n",
      "13109\n",
      "13121\n",
      "13127\n",
      "13147\n",
      "13151\n",
      "13159\n",
      "13163\n",
      "13171\n",
      "13177\n",
      "13183\n",
      "13187\n",
      "13217\n",
      "13219\n",
      "13229\n",
      "13241\n",
      "13249\n",
      "13259\n",
      "13267\n",
      "13291\n",
      "13297\n",
      "13309\n",
      "13313\n",
      "13327\n",
      "13331\n",
      "13337\n",
      "13339\n",
      "13367\n",
      "13381\n",
      "13397\n",
      "13399\n",
      "13411\n",
      "13417\n",
      "13421\n",
      "13441\n",
      "13451\n",
      "13457\n",
      "13463\n",
      "13469\n",
      "13477\n",
      "13487\n",
      "13499\n",
      "13513\n",
      "13523\n",
      "13537\n",
      "13553\n",
      "13567\n",
      "13577\n",
      "13591\n",
      "13597\n",
      "13613\n",
      "13619\n"
     ]
    },
    {
     "name": "stdout",
     "output_type": "stream",
     "text": [
      "13627\n",
      "13633\n",
      "13649\n",
      "13669\n",
      "13679\n",
      "13681\n",
      "13687\n",
      "13691\n",
      "13693\n",
      "13697\n",
      "13709\n",
      "13711\n",
      "13721\n",
      "13723\n",
      "13729\n",
      "13751\n",
      "13757\n",
      "13759\n",
      "13763\n",
      "13781\n",
      "13789\n",
      "13799\n",
      "13807\n",
      "13829\n",
      "13831\n",
      "13841\n",
      "13859\n",
      "13873\n",
      "13877\n",
      "13879\n",
      "13883\n",
      "13901\n",
      "13903\n",
      "13907\n",
      "13913\n",
      "13921\n",
      "13931\n",
      "13933\n",
      "13963\n",
      "13967\n",
      "13997\n",
      "13999\n",
      "14009\n",
      "14011\n",
      "14029\n",
      "14033\n",
      "14051\n",
      "14057\n",
      "14071\n",
      "14081\n",
      "14083\n",
      "14087\n",
      "14107\n",
      "14143\n",
      "14149\n",
      "14153\n",
      "14159\n",
      "14173\n",
      "14177\n",
      "14197\n",
      "14207\n",
      "14221\n",
      "14243\n",
      "14249\n",
      "14251\n",
      "14281\n",
      "14293\n",
      "14303\n",
      "14321\n",
      "14323\n",
      "14327\n",
      "14341\n",
      "14347\n",
      "14369\n",
      "14387\n",
      "14389\n",
      "14401\n",
      "14407\n",
      "14411\n",
      "14419\n",
      "14423\n",
      "14431\n",
      "14437\n",
      "14447\n",
      "14449\n",
      "14461\n",
      "14479\n",
      "14489\n",
      "14503\n",
      "14519\n",
      "14533\n",
      "14537\n",
      "14543\n",
      "14549\n",
      "14551\n",
      "14557\n",
      "14561\n",
      "14563\n",
      "14591\n",
      "14593\n",
      "14621\n",
      "14627\n",
      "14629\n",
      "14633\n",
      "14639\n",
      "14653\n",
      "14657\n",
      "14669\n",
      "14683\n",
      "14699\n",
      "14713\n",
      "14717\n",
      "14723\n",
      "14731\n",
      "14737\n",
      "14741\n",
      "14747\n",
      "14753\n",
      "14759\n",
      "14767\n",
      "14771\n",
      "14779\n",
      "14783\n",
      "14797\n",
      "14813\n",
      "14821\n",
      "14827\n",
      "14831\n",
      "14843\n",
      "14851\n",
      "14867\n",
      "14869\n",
      "14879\n",
      "14887\n",
      "14891\n",
      "14897\n",
      "14923\n",
      "14929\n",
      "14939\n",
      "14947\n",
      "14951\n",
      "14957\n",
      "14969\n",
      "14983\n",
      "15013\n",
      "15017\n",
      "15031\n",
      "15053\n",
      "15061\n",
      "15073\n",
      "15077\n",
      "15083\n",
      "15091\n",
      "15101\n",
      "15107\n",
      "15121\n",
      "15131\n",
      "15137\n",
      "15139\n",
      "15149\n",
      "15161\n",
      "15173\n",
      "15187\n",
      "15193\n",
      "15199\n",
      "15217\n",
      "15227\n",
      "15233\n",
      "15241\n",
      "15259\n",
      "15263\n",
      "15269\n",
      "15271\n",
      "15277\n",
      "15287\n",
      "15289\n",
      "15299\n",
      "15307\n",
      "15313\n",
      "15319\n",
      "15329\n",
      "15331\n",
      "15349\n",
      "15359\n",
      "15361\n",
      "15373\n",
      "15377\n",
      "15383\n",
      "15391\n",
      "15401\n",
      "15413\n",
      "15427\n",
      "15439\n",
      "15443\n",
      "15451\n",
      "15461\n",
      "15467\n",
      "15473\n",
      "15493\n",
      "15497\n",
      "15511\n",
      "15527\n",
      "15541\n",
      "15551\n",
      "15559\n",
      "15569\n",
      "15581\n",
      "15583\n",
      "15601\n",
      "15607\n",
      "15619\n",
      "15629\n",
      "15641\n",
      "15643\n",
      "15647\n",
      "15649\n",
      "15661\n",
      "15667\n",
      "15671\n",
      "15679\n",
      "15683\n",
      "15727\n",
      "15731\n",
      "15733\n",
      "15737\n",
      "15739\n",
      "15749\n",
      "15761\n",
      "15767\n",
      "15773\n",
      "15787\n",
      "15791\n",
      "15797\n",
      "15803\n",
      "15809\n",
      "15817\n",
      "15823\n",
      "15859\n",
      "15877\n",
      "15881\n",
      "15887\n",
      "15889\n",
      "15901\n",
      "15907\n",
      "15913\n",
      "15919\n",
      "15923\n",
      "15937\n",
      "15959\n",
      "15971\n",
      "15973\n",
      "15991\n",
      "16001\n",
      "16007\n",
      "16033\n",
      "16057\n",
      "16061\n",
      "16063\n",
      "16067\n",
      "16069\n",
      "16073\n",
      "16087\n",
      "16091\n",
      "16097\n",
      "16103\n",
      "16111\n",
      "16127\n",
      "16139\n",
      "16141\n",
      "16183\n",
      "16187\n",
      "16189\n",
      "16193\n",
      "16217\n",
      "16223\n",
      "16229\n",
      "16231\n",
      "16249\n",
      "16253\n",
      "16267\n",
      "16273\n",
      "16301\n",
      "16319\n",
      "16333\n",
      "16339\n",
      "16349\n",
      "16361\n",
      "16363\n",
      "16369\n",
      "16381\n",
      "16411\n",
      "16417\n",
      "16421\n",
      "16427\n",
      "16433\n",
      "16447\n",
      "16451\n",
      "16453\n",
      "16477\n",
      "16481\n",
      "16487\n",
      "16493\n",
      "16519\n",
      "16529\n",
      "16547\n",
      "16553\n",
      "16561\n",
      "16567\n",
      "16573\n",
      "16603\n",
      "16607\n",
      "16619\n",
      "16631\n",
      "16633\n",
      "16649\n",
      "16651\n",
      "16657\n",
      "16661\n",
      "16673\n",
      "16691\n",
      "16693\n",
      "16699\n",
      "16703\n",
      "16729\n",
      "16741\n",
      "16747\n",
      "16759\n",
      "16763\n",
      "16787\n",
      "16811\n",
      "16823\n",
      "16829\n",
      "16831\n",
      "16843\n",
      "16871\n",
      "16879\n",
      "16883\n",
      "16889\n",
      "16901\n",
      "16903\n",
      "16921\n",
      "16927\n",
      "16931\n",
      "16937\n",
      "16943\n",
      "16963\n",
      "16979\n",
      "16981\n",
      "16987\n",
      "16993\n",
      "17011\n",
      "17021\n",
      "17027\n",
      "17029\n",
      "17033\n",
      "17041\n",
      "17047\n",
      "17053\n",
      "17077\n",
      "17093\n",
      "17099\n",
      "17107\n",
      "17117\n",
      "17123\n",
      "17137\n",
      "17159\n",
      "17167\n",
      "17183\n",
      "17189\n",
      "17191\n",
      "17203\n",
      "17207\n",
      "17209\n",
      "17231\n",
      "17239\n",
      "17257\n",
      "17291\n",
      "17293\n",
      "17299\n",
      "17317\n",
      "17321\n",
      "17327\n",
      "17333\n",
      "17341\n",
      "17351\n",
      "17359\n",
      "17377\n",
      "17383\n",
      "17387\n",
      "17389\n",
      "17393\n",
      "17401\n",
      "17417\n",
      "17419\n",
      "17431\n",
      "17443\n",
      "17449\n",
      "17467\n",
      "17471\n",
      "17477\n",
      "17483\n",
      "17489\n",
      "17491\n",
      "17497\n",
      "17509\n",
      "17519\n",
      "17539\n",
      "17551\n",
      "17569\n",
      "17573\n",
      "17579\n",
      "17581\n",
      "17597\n",
      "17599\n",
      "17609\n",
      "17623\n",
      "17627\n",
      "17657\n",
      "17659\n",
      "17669\n",
      "17681\n",
      "17683\n",
      "17707\n",
      "17713\n",
      "17729\n",
      "17737\n",
      "17747\n",
      "17749\n",
      "17761\n",
      "17783\n",
      "17789\n",
      "17791\n",
      "17807\n",
      "17827\n",
      "17837\n",
      "17839\n",
      "17851\n",
      "17863\n",
      "17881\n",
      "17891\n",
      "17903\n",
      "17909\n",
      "17911\n",
      "17921\n",
      "17923\n",
      "17929\n",
      "17939\n",
      "17957\n",
      "17959\n",
      "17971\n",
      "17977\n",
      "17981\n",
      "17987\n",
      "17989\n",
      "18013\n",
      "18041\n",
      "18043\n",
      "18047\n",
      "18049\n",
      "18059\n",
      "18061\n",
      "18077\n",
      "18089\n",
      "18097\n",
      "18119\n",
      "18121\n",
      "18127\n",
      "18131\n",
      "18133\n",
      "18143\n",
      "18149\n",
      "18169\n",
      "18181\n",
      "18191\n",
      "18199\n",
      "18211\n",
      "18217\n",
      "18223\n",
      "18229\n",
      "18233\n",
      "18251\n",
      "18253\n",
      "18257\n",
      "18269\n",
      "18287\n",
      "18289\n",
      "18301\n",
      "18307\n",
      "18311\n",
      "18313\n",
      "18329\n",
      "18341\n",
      "18353\n",
      "18367\n",
      "18371\n",
      "18379\n",
      "18397\n",
      "18401\n",
      "18413\n",
      "18427\n",
      "18433\n",
      "18439\n",
      "18443\n",
      "18451\n",
      "18457\n",
      "18461\n",
      "18481\n",
      "18493\n",
      "18503\n",
      "18517\n",
      "18521\n",
      "18523\n",
      "18539\n",
      "18541\n",
      "18553\n",
      "18583\n",
      "18587\n",
      "18593\n",
      "18617\n",
      "18637\n",
      "18661\n",
      "18671\n",
      "18679\n",
      "18691\n",
      "18701\n",
      "18713\n",
      "18719\n",
      "18731\n",
      "18743\n",
      "18749\n",
      "18757\n",
      "18773\n",
      "18787\n",
      "18793\n",
      "18797\n",
      "18803\n",
      "18839\n",
      "18859\n",
      "18869\n",
      "18899\n",
      "18911\n",
      "18913\n",
      "18917\n",
      "18919\n",
      "18947\n",
      "18959\n",
      "18973\n",
      "18979\n",
      "19001\n",
      "19009\n",
      "19013\n",
      "19031\n",
      "19037\n",
      "19051\n",
      "19069\n",
      "19073\n",
      "19079\n",
      "19081\n",
      "19087\n",
      "19121\n",
      "19139\n",
      "19141\n",
      "19157\n",
      "19163\n",
      "19181\n",
      "19183\n",
      "19207\n",
      "19211\n",
      "19213\n",
      "19219\n",
      "19231\n",
      "19237\n",
      "19249\n",
      "19259\n",
      "19267\n",
      "19273\n",
      "19289\n",
      "19301\n",
      "19309\n",
      "19319\n",
      "19333\n",
      "19373\n",
      "19379\n",
      "19381\n",
      "19387\n",
      "19391\n",
      "19403\n",
      "19417\n",
      "19421\n",
      "19423\n",
      "19427\n",
      "19429\n",
      "19433\n",
      "19441\n",
      "19447\n",
      "19457\n",
      "19463\n",
      "19469\n",
      "19471\n",
      "19477\n",
      "19483\n",
      "19489\n",
      "19501\n",
      "19507\n",
      "19531\n",
      "19541\n",
      "19543\n",
      "19553\n",
      "19559\n",
      "19571\n",
      "19577\n",
      "19583\n",
      "19597\n",
      "19603\n",
      "19609\n",
      "19661\n",
      "19681\n",
      "19687\n",
      "19697\n",
      "19699\n",
      "19709\n",
      "19717\n",
      "19727\n",
      "19739\n",
      "19751\n",
      "19753\n",
      "19759\n",
      "19763\n",
      "19777\n",
      "19793\n",
      "19801\n",
      "19813\n",
      "19819\n",
      "19841\n",
      "19843\n",
      "19853\n",
      "19861\n",
      "19867\n",
      "19889\n",
      "19891\n",
      "19913\n",
      "19919\n",
      "19927\n",
      "19937\n",
      "19949\n",
      "19961\n",
      "19963\n",
      "19973\n",
      "19979\n",
      "19991\n",
      "19993\n",
      "19997\n",
      "20011\n",
      "20021\n",
      "20023\n",
      "20029\n",
      "20047\n",
      "20051\n",
      "20063\n",
      "20071\n",
      "20089\n",
      "20101\n",
      "20107\n",
      "20113\n",
      "20117\n",
      "20123\n",
      "20129\n",
      "20143\n",
      "20147\n",
      "20149\n",
      "20161\n",
      "20173\n",
      "20177\n",
      "20183\n",
      "20201\n",
      "20219\n",
      "20231\n",
      "20233\n",
      "20249\n",
      "20261\n",
      "20269\n",
      "20287\n",
      "20297\n",
      "20323\n",
      "20327\n",
      "20333\n",
      "20341\n",
      "20347\n",
      "20353\n",
      "20357\n",
      "20359\n",
      "20369\n",
      "20389\n",
      "20393\n",
      "20399\n",
      "20407\n",
      "20411\n",
      "20431\n",
      "20441\n",
      "20443\n",
      "20477\n",
      "20479\n",
      "20483\n",
      "20507\n",
      "20509\n",
      "20521\n",
      "20533\n",
      "20543\n",
      "20549\n",
      "20551\n",
      "20563\n",
      "20593\n",
      "20599\n",
      "20611\n",
      "20627\n",
      "20639\n",
      "20641\n",
      "20663\n",
      "20681\n",
      "20693\n",
      "20707\n",
      "20717\n",
      "20719\n",
      "20731\n",
      "20743\n",
      "20747\n",
      "20749\n",
      "20753\n",
      "20759\n",
      "20771\n",
      "20773\n",
      "20789\n",
      "20807\n",
      "20809\n",
      "20849\n",
      "20857\n",
      "20873\n",
      "20879\n",
      "20887\n",
      "20897\n",
      "20899\n",
      "20903\n",
      "20921\n",
      "20929\n",
      "20939\n",
      "20947\n",
      "20959\n",
      "20963\n",
      "20981\n",
      "20983\n",
      "21001\n",
      "21011\n",
      "21013\n",
      "21017\n",
      "21019\n",
      "21023\n",
      "21031\n",
      "21059\n",
      "21061\n",
      "21067\n",
      "21089\n",
      "21101\n",
      "21107\n",
      "21121\n",
      "21139\n",
      "21143\n",
      "21149\n",
      "21157\n",
      "21163\n",
      "21169\n",
      "21179\n",
      "21187\n",
      "21191\n",
      "21193\n",
      "21211\n",
      "21221\n",
      "21227\n",
      "21247\n",
      "21269\n",
      "21277\n",
      "21283\n",
      "21313\n",
      "21317\n",
      "21319\n",
      "21323\n",
      "21341\n",
      "21347\n",
      "21377\n",
      "21379\n",
      "21383\n",
      "21391\n",
      "21397\n",
      "21401\n",
      "21407\n",
      "21419\n",
      "21433\n",
      "21467\n",
      "21481\n",
      "21487\n",
      "21491\n",
      "21493\n",
      "21499\n",
      "21503\n",
      "21517\n",
      "21521\n",
      "21523\n",
      "21529\n",
      "21557\n",
      "21559\n",
      "21563\n",
      "21569\n",
      "21577\n",
      "21587\n",
      "21589\n",
      "21599\n",
      "21601\n",
      "21611\n",
      "21613\n",
      "21617\n",
      "21647\n",
      "21649\n",
      "21661\n",
      "21673\n",
      "21683\n",
      "21701\n",
      "21713\n",
      "21727\n",
      "21737\n",
      "21739\n",
      "21751\n",
      "21757\n",
      "21767\n",
      "21773\n",
      "21787\n",
      "21799\n",
      "21803\n",
      "21817\n",
      "21821\n",
      "21839\n",
      "21841\n",
      "21851\n",
      "21859\n",
      "21863\n",
      "21871\n",
      "21881\n",
      "21893\n",
      "21911\n",
      "21929\n",
      "21937\n",
      "21943\n",
      "21961\n",
      "21977\n",
      "21991\n",
      "21997\n",
      "22003\n",
      "22013\n",
      "22027\n",
      "22031\n",
      "22037\n",
      "22039\n",
      "22051\n",
      "22063\n",
      "22067\n",
      "22073\n",
      "22079\n",
      "22091\n",
      "22093\n",
      "22109\n",
      "22111\n",
      "22123\n",
      "22129\n",
      "22133\n",
      "22147\n",
      "22153\n",
      "22157\n",
      "22159\n",
      "22171\n",
      "22189\n",
      "22193\n",
      "22229\n",
      "22247\n",
      "22259\n",
      "22271\n",
      "22273\n",
      "22277\n",
      "22279\n",
      "22283\n",
      "22291\n",
      "22303\n",
      "22307\n",
      "22343\n",
      "22349\n",
      "22367\n",
      "22369\n",
      "22381\n",
      "22391\n",
      "22397\n",
      "22409\n",
      "22433\n",
      "22441\n",
      "22447\n",
      "22453\n",
      "22469\n",
      "22481\n",
      "22483\n",
      "22501\n",
      "22511\n",
      "22531\n",
      "22541\n",
      "22543\n",
      "22549\n",
      "22567\n",
      "22571\n",
      "22573\n",
      "22613\n",
      "22619\n",
      "22621\n",
      "22637\n",
      "22639\n",
      "22643\n",
      "22651\n",
      "22669\n",
      "22679\n",
      "22691\n",
      "22697\n",
      "22699\n",
      "22709\n",
      "22717\n",
      "22721\n",
      "22727\n",
      "22739\n",
      "22741\n",
      "22751\n",
      "22769\n",
      "22777\n",
      "22783\n",
      "22787\n",
      "22807\n",
      "22811\n",
      "22817\n",
      "22853\n",
      "22859\n",
      "22861\n",
      "22871\n",
      "22877\n",
      "22901\n",
      "22907\n",
      "22921\n",
      "22937\n",
      "22943\n",
      "22961\n",
      "22963\n",
      "22973\n",
      "22993\n",
      "23003\n",
      "23011\n",
      "23017\n",
      "23021\n",
      "23027\n",
      "23029\n",
      "23039\n",
      "23041\n",
      "23053\n",
      "23057\n",
      "23059\n",
      "23063\n",
      "23071\n",
      "23081\n",
      "23087\n",
      "23099\n",
      "23117\n",
      "23131\n",
      "23143\n",
      "23159\n",
      "23167\n",
      "23173\n",
      "23189\n",
      "23197\n",
      "23201\n",
      "23203\n",
      "23209\n",
      "23227\n",
      "23251\n",
      "23269\n",
      "23279\n",
      "23291\n",
      "23293\n",
      "23297\n",
      "23311\n",
      "23321\n",
      "23327\n",
      "23333\n",
      "23339\n",
      "23357\n",
      "23369\n",
      "23371\n",
      "23399\n",
      "23417\n",
      "23431\n",
      "23447\n",
      "23459\n",
      "23473\n",
      "23497\n",
      "23509\n",
      "23531\n",
      "23537\n",
      "23539\n",
      "23549\n",
      "23557\n",
      "23561\n",
      "23563\n",
      "23567\n",
      "23581\n",
      "23593\n",
      "23599\n",
      "23603\n",
      "23609\n",
      "23623\n",
      "23627\n",
      "23629\n",
      "23633\n",
      "23663\n",
      "23669\n",
      "23671\n",
      "23677\n",
      "23687\n",
      "23689\n",
      "23719\n",
      "23741\n",
      "23743\n",
      "23747\n",
      "23753\n",
      "23761\n",
      "23767\n",
      "23773\n",
      "23789\n",
      "23801\n",
      "23813\n",
      "23819\n",
      "23827\n",
      "23831\n",
      "23833\n",
      "23857\n",
      "23869\n",
      "23873\n",
      "23879\n",
      "23887\n",
      "23893\n",
      "23899\n",
      "23909\n",
      "23911\n",
      "23917\n",
      "23929\n",
      "23957\n",
      "23971\n",
      "23977\n",
      "23981\n",
      "23993\n",
      "24001\n",
      "24007\n",
      "24019\n",
      "24023\n",
      "24029\n",
      "24043\n",
      "24049\n",
      "24061\n",
      "24071\n",
      "24077\n",
      "24083\n",
      "24091\n",
      "24097\n",
      "24103\n",
      "24107\n",
      "24109\n",
      "24113\n",
      "24121\n",
      "24133\n",
      "24137\n",
      "24151\n",
      "24169\n",
      "24179\n",
      "24181\n",
      "24197\n",
      "24203\n",
      "24223\n",
      "24229\n",
      "24239\n",
      "24247\n",
      "24251\n",
      "24281\n",
      "24317\n",
      "24329\n",
      "24337\n",
      "24359\n",
      "24371\n",
      "24373\n",
      "24379\n",
      "24391\n",
      "24407\n",
      "24413\n",
      "24419\n",
      "24421\n",
      "24439\n",
      "24443\n",
      "24469\n",
      "24473\n",
      "24481\n",
      "24499\n",
      "24509\n",
      "24517\n",
      "24527\n",
      "24533\n",
      "24547\n",
      "24551\n",
      "24571\n",
      "24593\n",
      "24611\n",
      "24623\n",
      "24631\n",
      "24659\n",
      "24671\n",
      "24677\n",
      "24683\n",
      "24691\n",
      "24697\n",
      "24709\n",
      "24733\n",
      "24749\n",
      "24763\n",
      "24767\n",
      "24781\n",
      "24793\n",
      "24799\n",
      "24809\n",
      "24821\n",
      "24841\n",
      "24847\n",
      "24851\n",
      "24859\n",
      "24877\n",
      "24889\n",
      "24907\n",
      "24917\n",
      "24919\n",
      "24923\n",
      "24943\n",
      "24953\n",
      "24967\n",
      "24971\n",
      "24977\n",
      "24979\n",
      "24989\n",
      "The start time is: 2022-09-13 16:33:20.259225\n",
      "The end time is: 2022-09-13 16:33:39.440509\n"
     ]
    }
   ],
   "source": [
    "# My overall approach here was that since a prime number can only be divisible by itself and 1, what I would do is\n",
    "# loop through all the numbers 10 - 30 using a for loop, and then inside that loop I use another for loop that will\n",
    "# loop through all the numbers from 1 up to whatever the current number is in the outer loop and try to use a\n",
    "# modulus operator to determine if the lower number can be divided evenly into the larger number.  If it does, I use\n",
    "# a count variable to count the number of times that happens.  Since I'm only checking the numbers from 1 up to, \n",
    "# but not including the current number, I know that if the count = 1, it's a prime number, but if the count goes any\n",
    "# higher, it's NOT a prime number.\n",
    "\n",
    "\n",
    "# Note: I modified this code to allow any low and high number to be set as the range to be checked.\n",
    "from datetime import datetime\n",
    "\n",
    "low_num = int(input('Enter a low integer, greater than zero: '))\n",
    "last_num = int(input('Enter a high integer: '))\n",
    "print()\n",
    "# This if statement is error checking, to be sure that valid integers were entered as the low and high numbers.\n",
    "if low_num <= 0 or last_num <= low_num:\n",
    "    print('One or more invalid numbers entered.  Try again!')\n",
    "else:    \n",
    "    st = datetime.now()\n",
    "    print('In the range of', low_num, '-', last_num, ',', 'here are the prime numbers:')\n",
    "    # This for loop will loop through all the numbers from the lower to upper num, to check if they are primes.\n",
    "    for num in range(low_num, last_num + 1):\n",
    "        if low_num % 2 != 0 or low_num == 2:\n",
    "            # This count variable is counting how many numbers can be divided evenly into the current number\n",
    "            count = 0\n",
    "            # This for loop is looping through all the numbers from 1 up to the current number, seeing if they can divide\n",
    "            # evenly into the current number with no remainder, and incrementing the count if they do.\n",
    "            for lower_num in range(1, low_num):   \n",
    "                if low_num % lower_num == 0:\n",
    "                    count = count + 1\n",
    "            # This if statement is looking to see if there is only 1 number that divides evenly into the current number,\n",
    "            # namely, just the number 1.  If so, then that number is a prime number and we print it out.\n",
    "            if count == 1:\n",
    "                print(low_num)\n",
    "            # This increments to the next current number for the next iteration of the for loop.\n",
    "        low_num = low_num + 1\n",
    "        \n",
    "et = datetime.now()\n",
    "print(\"The start time is:\", st)\n",
    "print(\"The end time is:\", et)"
   ]
  },
  {
   "cell_type": "markdown",
   "metadata": {
    "slideshow": {
     "slide_type": "slide"
    }
   },
   "source": [
    "# Complex Datatypes in Python"
   ]
  },
  {
   "cell_type": "markdown",
   "metadata": {
    "slideshow": {
     "slide_type": "subslide"
    }
   },
   "source": [
    "## Lists\n",
    "* a list is an ordered set of values\n",
    "* the items which make up a list are called its _elements_\n",
    "* lists are similar to strings, which are _ordered sets of characters_\n",
    "  * except that the elements of a list can have any type\n",
    "* lists and strings—and other things that behave like ordered sets—are called sequences"
   ]
  },
  {
   "cell_type": "code",
   "execution_count": 8,
   "metadata": {},
   "outputs": [
    {
     "name": "stdout",
     "output_type": "stream",
     "text": [
      "['banana', 'apple', 'pear', 'mango', 'cherry', 'blueberry']\n",
      "['Dave', 19, 34.5]\n",
      "[]\n"
     ]
    }
   ],
   "source": [
    "list_of_fruits = ['banana', 'apple', 'pear', 'mango',\n",
    "                  'cherry', 'blueberry']\n",
    "funnylist = ['Dave', 19, 34.5]\n",
    "empty_list = []\n",
    "# sep is an optional argument or parameter to the print() function which dictates\n",
    "# the separator character that should be printed between items\n",
    "print(list_of_fruits, funnylist, empty_list, sep='\\n')"
   ]
  },
  {
   "cell_type": "markdown",
   "metadata": {},
   "source": [
    "* lists may contain duplicate elements\n",
    "* lists are usually homogeneous, but they need not be\n",
    "* other languages have a datatype called an _array_ which is similar to a list, but one main difference is that an array can only contain items of one type–i.e., an array of integers, and array of floats, etc."
   ]
  },
  {
   "cell_type": "markdown",
   "metadata": {
    "slideshow": {
     "slide_type": "subslide"
    }
   },
   "source": [
    "## Lab: Lists\n",
    "* create two lists which are different\n",
    "* compare them for equality\n",
    "* create a third list which has the same elements as one of the other lists\n",
    "* verify that Python says they are the same"
   ]
  },
  {
   "cell_type": "code",
   "execution_count": 25,
   "metadata": {},
   "outputs": [
    {
     "name": "stdout",
     "output_type": "stream",
     "text": [
      "False\n",
      "True\n"
     ]
    }
   ],
   "source": [
    "fruits = ['banana', 'apple', 'pear', 'mango', 'cherry', 'blueberry']\n",
    "veggies = ['celery', 'carrot', 'lettuce', 'tomato', 'cucumber', 'radish']\n",
    "smoothies = ['banana', 'apple', 'pear', 'mango', 'cherry', 'blueberry']\n",
    "print(fruits == veggies)\n",
    "print(fruits == smoothies)"
   ]
  },
  {
   "cell_type": "code",
   "execution_count": null,
   "metadata": {},
   "outputs": [],
   "source": []
  },
  {
   "cell_type": "markdown",
   "metadata": {
    "slideshow": {
     "slide_type": "subslide"
    }
   },
   "source": [
    "## Accessing Elements of a List\n",
    "* the syntax for accessing the elements of a list is the same as the syntax for accessing the characters of a string—the bracket operator–__`[]`__\n",
    "* the expression inside the brackets specifies the index\n",
    "* the indices start at 0, because computer scientists start counting at 0\n",
    "* you can use negative indices to refer to the elements from the end backwards"
   ]
  },
  {
   "cell_type": "code",
   "execution_count": 26,
   "metadata": {},
   "outputs": [
    {
     "ename": "NameError",
     "evalue": "name 'list_of_fruits' is not defined",
     "output_type": "error",
     "traceback": [
      "\u001b[0;31m---------------------------------------------------------------------------\u001b[0m",
      "\u001b[0;31mNameError\u001b[0m                                 Traceback (most recent call last)",
      "\u001b[0;32m<ipython-input-26-e1d38f8d203e>\u001b[0m in \u001b[0;36m<module>\u001b[0;34m\u001b[0m\n\u001b[0;32m----> 1\u001b[0;31m \u001b[0mprint\u001b[0m\u001b[0;34m(\u001b[0m\u001b[0mlist_of_fruits\u001b[0m\u001b[0;34m[\u001b[0m\u001b[0;36m0\u001b[0m\u001b[0;34m]\u001b[0m\u001b[0;34m)\u001b[0m\u001b[0;34m\u001b[0m\u001b[0;34m\u001b[0m\u001b[0m\n\u001b[0m\u001b[1;32m      2\u001b[0m \u001b[0mfunnylist\u001b[0m\u001b[0;34m[\u001b[0m\u001b[0;36m1\u001b[0m\u001b[0;34m]\u001b[0m \u001b[0;34m=\u001b[0m \u001b[0;34m'not Dave'\u001b[0m\u001b[0;34m\u001b[0m\u001b[0;34m\u001b[0m\u001b[0m\n\u001b[1;32m      3\u001b[0m \u001b[0mprint\u001b[0m\u001b[0;34m(\u001b[0m\u001b[0mfunnylist\u001b[0m\u001b[0;34m)\u001b[0m\u001b[0;34m\u001b[0m\u001b[0;34m\u001b[0m\u001b[0m\n\u001b[1;32m      4\u001b[0m \u001b[0mlist_of_fruits\u001b[0m\u001b[0;34m[\u001b[0m\u001b[0;34m-\u001b[0m\u001b[0;36m1\u001b[0m\u001b[0;34m]\u001b[0m \u001b[0;34m=\u001b[0m \u001b[0;34m'raspberry'\u001b[0m\u001b[0;34m\u001b[0m\u001b[0;34m\u001b[0m\u001b[0m\n\u001b[1;32m      5\u001b[0m \u001b[0mprint\u001b[0m\u001b[0;34m(\u001b[0m\u001b[0mlist_of_fruits\u001b[0m\u001b[0;34m)\u001b[0m\u001b[0;34m\u001b[0m\u001b[0;34m\u001b[0m\u001b[0m\n",
      "\u001b[0;31mNameError\u001b[0m: name 'list_of_fruits' is not defined"
     ]
    }
   ],
   "source": [
    "print(list_of_fruits[0])\n",
    "funnylist[1] = 'not Dave'\n",
    "print(funnylist)\n",
    "list_of_fruits[-1] = 'raspberry'\n",
    "print(list_of_fruits)"
   ]
  },
  {
   "cell_type": "code",
   "execution_count": 27,
   "metadata": {},
   "outputs": [
    {
     "ename": "NameError",
     "evalue": "name 'list_of_fruits' is not defined",
     "output_type": "error",
     "traceback": [
      "\u001b[0;31m---------------------------------------------------------------------------\u001b[0m",
      "\u001b[0;31mNameError\u001b[0m                                 Traceback (most recent call last)",
      "\u001b[0;32m<ipython-input-27-57d3779f9433>\u001b[0m in \u001b[0;36m<module>\u001b[0;34m\u001b[0m\n\u001b[0;32m----> 1\u001b[0;31m \u001b[0mprint\u001b[0m\u001b[0;34m(\u001b[0m\u001b[0mlist_of_fruits\u001b[0m\u001b[0;34m[\u001b[0m\u001b[0;36m0\u001b[0m\u001b[0;34m]\u001b[0m\u001b[0;34m)\u001b[0m\u001b[0;34m\u001b[0m\u001b[0;34m\u001b[0m\u001b[0m\n\u001b[0m\u001b[1;32m      2\u001b[0m \u001b[0mlist_of_fruits\u001b[0m\u001b[0;34m[\u001b[0m\u001b[0;36m0\u001b[0m\u001b[0;34m]\u001b[0m \u001b[0;34m=\u001b[0m \u001b[0mlist_of_fruits\u001b[0m\u001b[0;34m[\u001b[0m\u001b[0;36m0\u001b[0m\u001b[0;34m]\u001b[0m \u001b[0;34m+\u001b[0m \u001b[0;34m's'\u001b[0m\u001b[0;34m\u001b[0m\u001b[0;34m\u001b[0m\u001b[0m\n\u001b[1;32m      3\u001b[0m \u001b[0mprint\u001b[0m\u001b[0;34m(\u001b[0m\u001b[0mlist_of_fruits\u001b[0m\u001b[0;34m)\u001b[0m\u001b[0;34m\u001b[0m\u001b[0;34m\u001b[0m\u001b[0m\n",
      "\u001b[0;31mNameError\u001b[0m: name 'list_of_fruits' is not defined"
     ]
    }
   ],
   "source": [
    "print(list_of_fruits[0])\n",
    "list_of_fruits[0] = list_of_fruits[0] + 's'\n",
    "print(list_of_fruits)"
   ]
  },
  {
   "cell_type": "markdown",
   "metadata": {
    "slideshow": {
     "slide_type": "subslide"
    }
   },
   "source": [
    "## Iterating Through a List\n",
    "* a list is a _container_, so we can use Python's natural iteration to cycle through the list\n",
    "* syntax\n",
    "\n",
    "<pre><b>\n",
    "    for item in list:\n",
    "        do something with item (e.g., print)\n",
    "</b></pre>"
   ]
  },
  {
   "cell_type": "code",
   "execution_count": 9,
   "metadata": {
    "slideshow": {
     "slide_type": "-"
    }
   },
   "outputs": [
    {
     "name": "stdout",
     "output_type": "stream",
     "text": [
      "banana\n",
      "apple\n",
      "pear\n",
      "mango\n",
      "cherry\n",
      "blueberry\n"
     ]
    }
   ],
   "source": [
    "for fruit in list_of_fruits:\n",
    "    print(fruit)"
   ]
  },
  {
   "cell_type": "code",
   "execution_count": 10,
   "metadata": {},
   "outputs": [
    {
     "name": "stdout",
     "output_type": "stream",
     "text": [
      "banana\n",
      "apple\n",
      "pear\n",
      "mango\n",
      "cherry\n",
      "blueberry\n"
     ]
    }
   ],
   "source": [
    "# Other Languages\n",
    "for i in range(len(list_of_fruits)):\n",
    "    fruit = list_of_fruits[i]\n",
    "    print(fruit)"
   ]
  },
  {
   "cell_type": "markdown",
   "metadata": {
    "slideshow": {
     "slide_type": "subslide"
    }
   },
   "source": [
    "## Slicing\n",
    "* Python has a very powerful feature called _slicing_ which allows you to specify a _slice_ (or subset) of a list (or a string as it turns out), rather than just a single element\n",
    "* slice syntax: __`container[start:stop:step]`__\n",
    "  * __`start`__ = the index at which to start\n",
    "  * __`stop`__ = the index at which to stop (+1 or -1 depending on which direction)\n",
    "  * __`step`__ = how many indices to move forward (or backward)\n",
    "  * __`start`__, __`stop`__, and __`step`__ are _optional_!"
   ]
  },
  {
   "cell_type": "code",
   "execution_count": 11,
   "metadata": {},
   "outputs": [
    {
     "data": {
      "text/plain": [
       "'Benjamin Franklin'"
      ]
     },
     "execution_count": 11,
     "metadata": {},
     "output_type": "execute_result"
    }
   ],
   "source": [
    "string = 'Frank Benedict eats jam in the morning'\n",
    "string[6:9] + string[20:23] + string[24:27] + string[:5] + 'lin'"
   ]
  },
  {
   "cell_type": "code",
   "execution_count": null,
   "metadata": {},
   "outputs": [],
   "source": [
    "alphabet = 'abcdefghijklmnopqrstuvwxyz'\n",
    "print('13th letter of the alphabet is', alphabet[12])\n",
    "print('Every other letter in the 1st half of the alphabet:',\n",
    "      alphabet[:13:2])\n",
    "print('Every other letter in the 2nd half of the alphabet:',\n",
    "      alphabet[13::2])\n",
    "print('The alphabet backwards is', alphabet[::-1])"
   ]
  },
  {
   "cell_type": "code",
   "execution_count": null,
   "metadata": {},
   "outputs": [],
   "source": [
    "string = input('Enter a string: ')\n",
    "print('The last 3 characters of the string are:',\n",
    "      string[-3:])"
   ]
  },
  {
   "cell_type": "code",
   "execution_count": 12,
   "metadata": {
    "slideshow": {
     "slide_type": "-"
    }
   },
   "outputs": [
    {
     "name": "stdout",
     "output_type": "stream",
     "text": [
      "['banana', 'apple', 'pear', 'mango', 'cherry', 'blueberry']\n",
      "['blueberry', 'cherry', 'mango', 'pear', 'apple', 'banana']\n",
      "['mango', 'cherry', 'blueberry']\n",
      "['banana', 'apple', 'pear']\n",
      "The middle 3 fruits: ['pear', 'mango', 'cherry']\n",
      "Every other fruit: ['banana', 'pear', 'cherry']\n"
     ]
    }
   ],
   "source": [
    "# Works the same with lists...\n",
    "print(list_of_fruits)\n",
    "print(list_of_fruits[::-1])\n",
    "print(list_of_fruits[3:])\n",
    "print(list_of_fruits[:3])\n",
    "print('The middle 3 fruits:', \n",
    "      list_of_fruits[2:5])\n",
    "print('Every other fruit:', list_of_fruits[::2])"
   ]
  },
  {
   "cell_type": "markdown",
   "metadata": {
    "slideshow": {
     "slide_type": "subslide"
    }
   },
   "source": [
    "## Lab: Slicing\n",
    "1. print the letters of a string with a '+' between each pair of letters, but do not print a '+' after the final letter, i.e., 'h + e + l + l + o'  \n",
    "  * to do this, I want you to iterate through a _slice_ of the string which does not contain the last character, and then print the last character by itself\n",
    "2. create a list and use slicing to print the second half of the list, followed by the first half of the list\n",
    "  * once you've done this, do it again such that it does not print the middle item\n",
    "\n",
    "<pre><b>\n",
    "          [ 'one', 'two', 'three', 'four' ] => three four one two\n",
    "          [ 1, 2, 3, 4, 5 ] => 4 5 1 2\n",
    "</b></pre>"
   ]
  },
  {
   "cell_type": "code",
   "execution_count": 1,
   "metadata": {},
   "outputs": [
    {
     "name": "stdout",
     "output_type": "stream",
     "text": [
      "Enter a string: Hello\n",
      "H+e+l+l+o\n"
     ]
    }
   ],
   "source": [
    "user_string = input('Enter a string: ')\n",
    "for letter in user_string[:-1]:\n",
    "    print(letter, end = '+')\n",
    "print(user_string[-1])"
   ]
  },
  {
   "cell_type": "code",
   "execution_count": 89,
   "metadata": {},
   "outputs": [
    {
     "name": "stdout",
     "output_type": "stream",
     "text": [
      "['mango', 'cherry', 'blueberry'] ['banana', 'apple', 'pear']\n",
      "['tomato', 'cucumber'] ['celery', 'carrot']\n"
     ]
    }
   ],
   "source": [
    "fruits = ['banana', 'apple', 'pear', 'mango', 'cherry', 'blueberry']\n",
    "print(fruits[3:6], fruits[0:3])\n",
    "veggies = ['celery', 'carrot', 'lettuce', 'tomato', 'cucumber']\n",
    "print(veggies[3:5], veggies[0:2])"
   ]
  },
  {
   "cell_type": "markdown",
   "metadata": {
    "slideshow": {
     "slide_type": "subslide"
    }
   },
   "source": [
    "## Adding to a List...\n",
    "* the __`append()`__ function will add an item to the end of the list\n",
    "* the __`insert()`__ function will add an item at a particular offset, moving the remaining item down in the process\n",
    "* the __`extend()`__ function (also invoked via the __`+=`__ operator) will add a list to a list, one element at a time\n",
    "* NOTE: these functions (technically called _methods_) are a part of the list itself, which means that they are called by writing __`listname.append(item)`__, __`listname.insert(index, item)`__, and __`listname.extend(otherlist)`__"
   ]
  },
  {
   "cell_type": "code",
   "execution_count": 90,
   "metadata": {},
   "outputs": [
    {
     "name": "stdout",
     "output_type": "stream",
     "text": [
      "['banana', 'apple', 'pear', 'mango', 'cherry', 'blueberry']\n"
     ]
    },
    {
     "data": {
      "text/plain": [
       "['banana', 'apple', 'pear', 'mango', 'cherry', 'blueberry', 'lemon']"
      ]
     },
     "execution_count": 90,
     "metadata": {},
     "output_type": "execute_result"
    }
   ],
   "source": [
    "print(list_of_fruits)\n",
    "list_of_fruits.append('lemon') # NOT append(list_of_fruits, 'lemon')\n",
    "list_of_fruits"
   ]
  },
  {
   "cell_type": "code",
   "execution_count": 91,
   "metadata": {},
   "outputs": [
    {
     "name": "stdout",
     "output_type": "stream",
     "text": [
      "['banana', 'apple', 'pear', 'mango', 'tomato', 'cherry', 'blueberry', 'lemon']\n"
     ]
    }
   ],
   "source": [
    "list_of_fruits.insert(4, 'tomato')\n",
    "print(list_of_fruits)"
   ]
  },
  {
   "cell_type": "code",
   "execution_count": null,
   "metadata": {},
   "outputs": [],
   "source": [
    "more_fruits = ['lime', 'watermelon']\n",
    "list_of_fruits.extend(more_fruits) # list_of_fruits += more_fruits\n",
    "print(list_of_fruits)"
   ]
  },
  {
   "cell_type": "code",
   "execution_count": 94,
   "metadata": {},
   "outputs": [
    {
     "name": "stdout",
     "output_type": "stream",
     "text": [
      "['JR', 'Spencer', 'Alex', ['Dave', 'Rick']]\n",
      "Rick\n",
      "['JR', 'Spencer', 'Alex', ['Dave', 'Rick'], 'K', 'a', 'm', 'e', 'r', 'o', 'n']\n"
     ]
    }
   ],
   "source": [
    "list_names = ['JR', 'Spencer', 'Alex']\n",
    "other_instructors = ['Dave', 'Rick']\n",
    "list_names.append(other_instructors)\n",
    "print(list_names)\n",
    "print(list_names[3][1])\n",
    "list_names.extend('Kameron')\n",
    "print(list_names)"
   ]
  },
  {
   "cell_type": "markdown",
   "metadata": {
    "slideshow": {
     "slide_type": "subslide"
    }
   },
   "source": [
    "## Lab: Lists\n",
    "* create an empty list\n",
    "* write Python code to repeatedly ask the user for a word until the word is 'quit'\n",
    "* add each word to the list\n",
    "* after the user types 'quit' print every other word (first, third, fifth, etc.)\n",
    "* then print every other word (second, fourth, sixth, etc.)\n"
   ]
  },
  {
   "cell_type": "code",
   "execution_count": 45,
   "metadata": {},
   "outputs": [
    {
     "name": "stdout",
     "output_type": "stream",
     "text": [
      "Give me a word (enter \"quit\" to quit): blah\n",
      "Give me a word (enter \"quit\" to quit): zeh\n",
      "Give me a word (enter \"quit\" to quit): quit\n",
      "['blah']\n",
      "['zeh']\n"
     ]
    }
   ],
   "source": [
    "word_list = []\n",
    "user_input = ''\n",
    "while user_input != 'quit':\n",
    "    user_input = input('Give me a word (enter \"quit\" to quit): ')\n",
    "    if user_input == '':\n",
    "        print('You must enter a word, try again!')\n",
    "    elif user_input != 'quit':\n",
    "        word_list.append(user_input)\n",
    "print(word_list[::2])\n",
    "print(word_list[1::2])\n",
    "    "
   ]
  },
  {
   "cell_type": "markdown",
   "metadata": {
    "slideshow": {
     "slide_type": "subslide"
    }
   },
   "source": [
    "## Creating a List with __`split()`__\n",
    "* the __`split()`__ function splits a string into a list\n",
    "* by default, __`split()`__ will split up a string using a space as the separator\n",
    "* ...but you can specify any separator you want"
   ]
  },
  {
   "cell_type": "code",
   "execution_count": 52,
   "metadata": {},
   "outputs": [
    {
     "name": "stdout",
     "output_type": "stream",
     "text": [
      "Enter a string and I will make a list out of it: hello there\n"
     ]
    },
    {
     "data": {
      "text/plain": [
       "['hello', 'there']"
      ]
     },
     "execution_count": 52,
     "metadata": {},
     "output_type": "execute_result"
    }
   ],
   "source": [
    "string = input('Enter a string and I will make a list out of it: ')\n",
    "mylist = string.split()\n",
    "mylist"
   ]
  },
  {
   "cell_type": "code",
   "execution_count": null,
   "metadata": {},
   "outputs": [],
   "source": [
    "comma_separated = 'eggs, milk, butter, cheese'\n",
    "shopping_list = comma_separated.split(', ')\n",
    "shopping_list"
   ]
  },
  {
   "cell_type": "markdown",
   "metadata": {
    "slideshow": {
     "slide_type": "subslide"
    }
   },
   "source": [
    "## Combining a List into a String with __`join()`__\n",
    "* __`join()`__ is used to take the elements of a list (or any sequence) and concatenate them into a single string\n",
    "* the syntax looks odd because __`join()`__ is a _string_ function–__not a list function__"
   ]
  },
  {
   "cell_type": "code",
   "execution_count": 50,
   "metadata": {},
   "outputs": [
    {
     "name": "stdout",
     "output_type": "stream",
     "text": [
      "['eggs', 'milk', 'butter', 'cheese']\n"
     ]
    },
    {
     "data": {
      "text/plain": [
       "'eggs, milk, butter, cheese'"
      ]
     },
     "execution_count": 50,
     "metadata": {},
     "output_type": "execute_result"
    }
   ],
   "source": [
    "comma_separated = 'eggs, milk, butter, cheese'\n",
    "shopping_list = comma_separated.split(', ')\n",
    "print(shopping_list)\n",
    "', '.join(shopping_list)\n",
    "# want to write shopping_list.join(', ')"
   ]
  },
  {
   "cell_type": "code",
   "execution_count": 143,
   "metadata": {},
   "outputs": [
    {
     "name": "stdout",
     "output_type": "stream",
     "text": [
      "['s', 'a', 'l', 'e', 's', 'f', 'o', 'r', 'c', 'e']\n",
      "salesforce\n"
     ]
    }
   ],
   "source": [
    "list_of_letters = list('salesforce')\n",
    "print(list_of_letters)\n",
    "original_word = ''.join(list_of_letters)\n",
    "print(original_word)"
   ]
  },
  {
   "cell_type": "code",
   "execution_count": 58,
   "metadata": {},
   "outputs": [
    {
     "data": {
      "text/plain": [
       "'h+e+l+l+o'"
      ]
     },
     "execution_count": 58,
     "metadata": {},
     "output_type": "execute_result"
    }
   ],
   "source": [
    "'+'.join(list('hello'))"
   ]
  },
  {
   "cell_type": "code",
   "execution_count": null,
   "metadata": {},
   "outputs": [],
   "source": [
    "import builtins\n",
    "builtins.list('Happy')"
   ]
  },
  {
   "cell_type": "markdown",
   "metadata": {
    "slideshow": {
     "slide_type": "subslide"
    }
   },
   "source": [
    "## Lab: Jumble (Word Scrambling)\n",
    "* write a program which plays the jumble word game, i.e., it will present you with a scrambled word and you have to come up with the correctly spelled word\n",
    "  * you can use the __`random`__ module for this\n",
    "  * __`random.choice(container)`__ will return a random item from the container\n",
    "  * __`random.shuffle(container)`__ will shuffle a container so the items are scrambled\n",
    "  * you can't shuffle a string, so you'll need to put the characters into a list using the __`list()`__ function, then shuffle the list, then put the back into a string using __`join()`__"
   ]
  },
  {
   "cell_type": "code",
   "execution_count": 1,
   "metadata": {},
   "outputs": [
    {
     "name": "stdout",
     "output_type": "stream",
     "text": [
      "Welcome to the Vegan jumble!\n",
      "Here is your jumbled Vegan word. Can you unscramble it? relyec\n",
      "Your answer: celery\n",
      "You are correct!\n"
     ]
    }
   ],
   "source": [
    "import random\n",
    "word_list = ['apple', 'banana', 'pear', 'orange', 'carrot', 'lettuce', 'tomato', 'asparagus', 'celery', 'radish']\n",
    "correct_answer = random.choice(word_list)\n",
    "word_choice = list(correct_answer)\n",
    "random.shuffle(word_choice)\n",
    "jumbled_word = ''.join(word_choice)\n",
    "print('Welcome to the Vegan jumble!')\n",
    "print('Here is your jumbled Vegan word. Can you unscramble it?', jumbled_word)\n",
    "try_count = 0\n",
    "for try_count in range(0, 5):\n",
    "    user_answer = input('Your answer: ')\n",
    "    if user_answer == correct_answer:\n",
    "        print('You are correct!')\n",
    "        break\n",
    "    else:\n",
    "        print('Sorry, that is incorrect.  Please try again!')\n",
    "        try_count = try_count + 1"
   ]
  },
  {
   "cell_type": "code",
   "execution_count": null,
   "metadata": {},
   "outputs": [],
   "source": [
    "for num in range(1, 100):\n",
    "    if num % 3 == 0 and num % 5 == 0:\n",
    "        print('fizzbuzz')\n",
    "    elif num % 3 == 0:\n",
    "        print('fizz')\n",
    "    elif num % 5 == 0:\n",
    "        print('buzz')\n",
    "    else:\n",
    "        print(num)"
   ]
  },
  {
   "cell_type": "markdown",
   "metadata": {},
   "source": [
    "## Let's make this more fun\n",
    "## A quick peek at File I/O"
   ]
  },
  {
   "cell_type": "code",
   "execution_count": null,
   "metadata": {},
   "outputs": [],
   "source": [
    "!wc -l wordlist.txt"
   ]
  },
  {
   "cell_type": "code",
   "execution_count": 14,
   "metadata": {},
   "outputs": [
    {
     "name": "stdout",
     "output_type": "stream",
     "text": [
      "['abandon\\n', 'abundant\\n', 'access\\n', 'accommodate\\n', 'accumulate\\n', 'adapt\\n', 'adhere\\n', 'agony\\n', 'allegiance\\n', 'ambition\\n', 'ample\\n', 'anguish\\n', 'anticipate\\n', 'anxious\\n', 'apparel\\n', 'appeal\\n', 'apprehensive\\n', 'arid\\n', 'arrogant\\n', 'barren\\n', 'beacon\\n', 'beneficial\\n', 'blunder\\n', 'boisterous\\n', 'boycott\\n', 'burden\\n', 'campaign\\n', 'capacity\\n', 'capital\\n', 'chronological\\n', 'civic\\n', 'clarity\\n', 'collaborate\\n', 'collide\\n', 'commend\\n', 'commentary\\n', 'compact\\n', 'composure\\n', 'concise\\n', 'consent\\n', 'consequence\\n', 'conserve\\n', 'conspicuous\\n', 'constant\\n', 'contaminate\\n', 'context\\n', 'continuous\\n', 'controversy\\n', 'convenient\\n', 'cope\\n', 'cordial\\n', 'cultivate\\n', 'cumulative\\n', 'declare\\n', 'deluge\\n', 'dense\\n', 'deplete\\n', 'deposit\\n', 'designate\\n', 'desperate\\n', 'deteriorate\\n', 'dialogue\\n', 'diligent\\n', 'diminish\\n', 'discretion\\n', 'dissent\\n', 'dissolve\\n', 'distinct\\n', 'diversity\\n', 'domestic\\n', 'dominate\\n', 'drastic\\n', 'duration\\n', 'dwell\\n', 'eclipse\\n', 'economy\\n', 'eerie\\n', 'effect\\n', 'efficient\\n', 'elaborate\\n', 'eligible\\n', 'elude\\n', 'encounter\\n', 'equivalent\\n', 'erupt\\n', 'esteem\\n', 'evolve\\n', 'exaggerate\\n', 'excel\\n', 'exclude\\n', 'expanse\\n', 'exploit\\n', 'extinct\\n', 'extract\\n', 'factor\\n', 'former\\n', 'formulates\\n', 'fuse\\n', 'futile\\n', 'generate\\n', 'genre\\n', 'habitat\\n', 'hazardous\\n', 'hoax\\n', 'hostile\\n', 'idiom\\n', 'ignite\\n', 'immense\\n', 'improvises\\n', 'inept\\n', 'inevitable\\n', 'influence\\n', 'ingenious\\n', 'innovation\\n', 'intimidate\\n', 'jovial\\n', 'knack\\n', 'leeway\\n', 'legislation\\n', 'leisure\\n', 'liberate\\n', 'likeness\\n', 'linger\\n', 'literal\\n', 'loathe\\n', 'lure\\n', 'majority\\n', 'makeshift\\n', 'manipulate\\n', 'marvel\\n', 'massive\\n', 'maximum\\n', 'meager\\n', 'mere\\n', 'migration\\n', 'mimic\\n', 'minute\\n', 'monotonous\\n', 'negotiate\\n', 'objective\\n', 'obstacle\\n', 'omniscient\\n', 'onset\\n', 'optimist\\n', 'originate\\n', 'painstaking\\n', 'paraphrase\\n', 'parody\\n', 'persecute\\n', 'plummet\\n', 'possess\\n', 'poverty\\n', 'precise\\n', 'predicament\\n', 'predict\\n', 'prejudice\\n', 'preliminary\\n', 'primitive\\n', 'priority\\n', 'prominent\\n', 'propel\\n', 'prosecute\\n', 'prosper\\n', 'provoke\\n', 'pursue\\n', 'quest\\n', 'recount\\n', 'refuge\\n', 'reinforce\\n', 'reluctant\\n', 'remorse\\n', 'remote\\n', 'resolute\\n', 'restrain\\n', 'retaliate\\n', 'retrieve\\n', 'rigorous\\n', 'rural\\n', 'salvage\\n', 'sanctuary\\n', 'siege\\n', 'significant\\n', 'solar\\n', 'soothe\\n', 'stationary\\n', 'stifle\\n', 'strive\\n', 'subordinate\\n', 'subsequent\\n', 'superior\\n', 'supplement\\n', 'swarm\\n', 'tangible\\n', 'terminate\\n', 'terrain\\n', 'trait\\n', 'transform\\n', 'transport\\n', 'treacherous\\n', 'unanimous\\n', 'unique\\n', 'unruly\\n', 'urban\\n', 'vacate\\n', 'verdict\\n', 'verge\\n', 'vibrant\\n', 'vital\\n']\n"
     ]
    }
   ],
   "source": [
    "words = []\n",
    "file = open('wordlist.txt')\n",
    "type(file)\n",
    "words = list(file)\n",
    "#for line in file:\n",
    "#    words.append(line.strip())\n",
    "print(words)\n",
    "file.close()\n",
    "\n",
    "with open('wordlist.txt') as file:\n",
    "    words = list(file)"
   ]
  },
  {
   "cell_type": "markdown",
   "metadata": {
    "slideshow": {
     "slide_type": "subslide"
    }
   },
   "source": [
    "## Removing Items from a List\n",
    "* __`remove()`__ will remove an item by value\n",
    "* __`pop()`__ will remove an item by index (and return the item)\n",
    "* as is the case with the add functions, we call them as __`listname.remove(item)`__ and __`listname.pop(index)`__"
   ]
  },
  {
   "cell_type": "code",
   "execution_count": 5,
   "metadata": {},
   "outputs": [
    {
     "name": "stdout",
     "output_type": "stream",
     "text": [
      "['banana', 'apple', 'lemon', 'pear', 'fig', 'mango', 'raspberry', 'cherry', 'lemon']\n",
      "raspberry\n"
     ]
    },
    {
     "data": {
      "text/plain": [
       "['banana', 'apple', 'lemon', 'pear', 'fig', 'mango', 'cherry', 'lemon']"
      ]
     },
     "execution_count": 5,
     "metadata": {},
     "output_type": "execute_result"
    }
   ],
   "source": [
    "list_of_fruits = ['banana', 'apple', 'lemon', 'pear', 'fig',\n",
    "                  'mango','raspberry', 'lemon']\n",
    "list_of_fruits.insert(-1, 'cherry')\n",
    "print(list_of_fruits)\n",
    "print(list_of_fruits.pop(-3))\n",
    "list_of_fruits"
   ]
  },
  {
   "cell_type": "code",
   "execution_count": null,
   "metadata": {},
   "outputs": [],
   "source": [
    "# Given what we know so far, remove ALL lemons from the list\n",
    "print(list_of_fruits.count('lemon'))\n",
    "\n",
    "while 'lemon' in list_of_fruits:\n",
    "    list_of_fruits.remove('lemon')\n",
    "print(list_of_fruits)\n",
    "list_of_fruits.remove('lemon')"
   ]
  },
  {
   "cell_type": "code",
   "execution_count": null,
   "metadata": {},
   "outputs": [],
   "source": [
    "# Take the remaining items and pop each item off until empty\n",
    "while len(list_of_fruits) > 0:\n",
    "    print('popping', list_of_fruits.pop(0))\n",
    "    print(list_of_fruits)"
   ]
  },
  {
   "cell_type": "markdown",
   "metadata": {
    "slideshow": {
     "slide_type": "subslide"
    }
   },
   "source": [
    "Sorting a List\n",
    "* lists have a __`sort()`__ function\n",
    "* sorting is performed alphabetically or numerically by default\n",
    "* you can choose to sort in reverse (descending) order"
   ]
  },
  {
   "cell_type": "code",
   "execution_count": 6,
   "metadata": {},
   "outputs": [
    {
     "name": "stdout",
     "output_type": "stream",
     "text": [
      "['banana', 'apple', 'lemon', 'pear', 'fig', 'mango', 'lemon']\n",
      "['apple', 'banana', 'fig', 'lemon', 'lemon', 'mango', 'pear']\n",
      "['pear', 'mango', 'lemon', 'lemon', 'fig', 'banana', 'apple']\n"
     ]
    }
   ],
   "source": [
    "list_of_fruits = ['banana', 'apple', 'lemon', 'pear', 'fig', \n",
    "                  'mango', 'lemon']\n",
    "print(list_of_fruits)\n",
    "list_of_fruits.sort()\n",
    "print(list_of_fruits)\n",
    "list_of_fruits.sort(reverse=True)\n",
    "print(list_of_fruits)"
   ]
  },
  {
   "cell_type": "code",
   "execution_count": 7,
   "metadata": {},
   "outputs": [
    {
     "name": "stdout",
     "output_type": "stream",
     "text": [
      "['apple', 'banana', 'fig', 'lemon', 'lemon', 'mango', 'pear']\n",
      "['pear', 'mango', 'lemon', 'lemon', 'fig', 'banana', 'apple']\n"
     ]
    }
   ],
   "source": [
    "sorted_list = sorted(list_of_fruits)\n",
    "print(sorted_list)\n",
    "print(list_of_fruits)"
   ]
  },
  {
   "cell_type": "code",
   "execution_count": 8,
   "metadata": {},
   "outputs": [
    {
     "name": "stdout",
     "output_type": "stream",
     "text": [
      "['fig', 'pear', 'mango', 'lemon', 'lemon', 'apple', 'banana']\n"
     ]
    }
   ],
   "source": [
    "list_of_fruits.sort(key=len)\n",
    "print(list_of_fruits)"
   ]
  },
  {
   "cell_type": "markdown",
   "metadata": {
    "slideshow": {
     "slide_type": "subslide"
    }
   },
   "source": [
    "## Lab: List Management/Sorting\n",
    "* write a program to read in words\n",
    "* if the word begins with a vowel, put it in \"vowel\" list, otherwise put it in the \"consonant\" list\n",
    "* when the user types \"quit\", stop and print out the sorted list of words that begin with vowels, and the sorted list of words that begin with consonants"
   ]
  },
  {
   "cell_type": "code",
   "execution_count": 33,
   "metadata": {},
   "outputs": [
    {
     "name": "stdout",
     "output_type": "stream",
     "text": [
      "Enter a word (enter \"quit\" to quit): hey\n",
      "Enter a word (enter \"quit\" to quit): buddy\n",
      "Enter a word (enter \"quit\" to quit): you\n",
      "Enter a word (enter \"quit\" to quit): suck\n",
      "Enter a word (enter \"quit\" to quit): love\n",
      "Enter a word (enter \"quit\" to quit): is\n",
      "Enter a word (enter \"quit\" to quit): easily\n",
      "Enter a word (enter \"quit\" to quit): awesome\n",
      "Enter a word (enter \"quit\" to quit): quit\n",
      "This print function is better\n",
      "words with vowels - ['awesome', 'easily', 'is']\n",
      "This print function is better\n",
      "words with vowels - ['buddy', 'hey', 'love', 'suck', 'you']\n"
     ]
    }
   ],
   "source": [
    "vowels = ['a', 'e', 'i', 'o', 'u', 'A', 'E', 'I', 'O', 'U']\n",
    "words_with_vowels = []\n",
    "words_with_cons = []\n",
    "\n",
    "while True:\n",
    "    user_input = input('Enter a word (enter \"quit\" to quit): ')\n",
    "    if user_input == 'quit':\n",
    "        break\n",
    "    else:\n",
    "        user_letters = list(user_input)\n",
    "        if user_letters[0] in vowels:\n",
    "            words_with_vowels.append(user_input)           \n",
    "        else:\n",
    "            words_with_cons.append(user_input)\n",
    "            \n",
    "print('words with vowels -', sorted(words_with_vowels))\n",
    "print('words with vowels -', sorted(words_with_cons))"
   ]
  },
  {
   "cell_type": "markdown",
   "metadata": {
    "slideshow": {
     "slide_type": "subslide"
    }
   },
   "source": [
    "## Dictionaries\n",
    "* a Python _dictionary_ is an unordered collection of key-value pairs\n",
    "* instead of using integers as indices, dictionaries use a key, which is often a string\n",
    "* a dictionary maps a key to a value–give it the key as an index, and it will return the value\n",
    "* indeed they are called _maps_ in some languages"
   ]
  },
  {
   "cell_type": "code",
   "execution_count": null,
   "metadata": {},
   "outputs": [],
   "source": []
  },
  {
   "cell_type": "code",
   "execution_count": 9,
   "metadata": {},
   "outputs": [
    {
     "data": {
      "text/plain": [
       "(dict, {'tall': 12, 'grande': 16})"
      ]
     },
     "execution_count": 9,
     "metadata": {},
     "output_type": "execute_result"
    }
   ],
   "source": [
    "# creating a dictionary and initializing it\n",
    "cups = { 'tall': 12, 'grande': 16 }\n",
    "type(cups), cups"
   ]
  },
  {
   "cell_type": "code",
   "execution_count": 10,
   "metadata": {},
   "outputs": [
    {
     "name": "stdout",
     "output_type": "stream",
     "text": [
      "A tall cup contains 12 ounces\n"
     ]
    }
   ],
   "source": [
    "print('A tall cup contains', cups['tall'], 'ounces')"
   ]
  },
  {
   "cell_type": "code",
   "execution_count": null,
   "metadata": {},
   "outputs": [],
   "source": [
    "cups[0]"
   ]
  },
  {
   "cell_type": "code",
   "execution_count": 7,
   "metadata": {},
   "outputs": [
    {
     "name": "stdout",
     "output_type": "stream",
     "text": [
      "16\n"
     ]
    }
   ],
   "source": [
    "if 'grande' in cups: # only looks at keys\n",
    "    print(cups['grande'])"
   ]
  },
  {
   "cell_type": "code",
   "execution_count": 11,
   "metadata": {},
   "outputs": [
    {
     "name": "stdout",
     "output_type": "stream",
     "text": [
      "tall 12\n",
      "grande 16\n"
     ]
    }
   ],
   "source": [
    "for thing in cups:\n",
    "    print(thing, cups[thing])"
   ]
  },
  {
   "cell_type": "code",
   "execution_count": 4,
   "metadata": {},
   "outputs": [
    {
     "name": "stdout",
     "output_type": "stream",
     "text": [
      "12\n",
      "16\n"
     ]
    }
   ],
   "source": [
    "cups = { 'tall': 12, 'grande': 16 }\n",
    "for v in cups.values():\n",
    "    print(v)"
   ]
  },
  {
   "cell_type": "code",
   "execution_count": 12,
   "metadata": {},
   "outputs": [
    {
     "name": "stdout",
     "output_type": "stream",
     "text": [
      "tall -> 12\n",
      "grande -> 16\n",
      "dict_items([('tall', 12), ('grande', 16)])\n"
     ]
    }
   ],
   "source": [
    "for key, value in cups.items():\n",
    "    print(key, '->', value)\n",
    "    \n",
    "print(cups.items())"
   ]
  },
  {
   "cell_type": "code",
   "execution_count": 12,
   "metadata": {
    "slideshow": {
     "slide_type": "subslide"
    }
   },
   "outputs": [
    {
     "name": "stdout",
     "output_type": "stream",
     "text": [
      "hola uno café por favor \n"
     ]
    }
   ],
   "source": [
    "# How about a dictionary to translate English into Spanish\n",
    "english_to_spanish = { \n",
    "    'hello': 'hola', \n",
    "    'one': 'uno', \n",
    "    'please': 'por favor', \n",
    "    'coffee': 'café' \n",
    "}\n",
    "for word in \"hello one coffee please\".split():\n",
    "    print(english_to_spanish[word], end=' ')\n",
    "print()"
   ]
  },
  {
   "cell_type": "code",
   "execution_count": 13,
   "metadata": {
    "slideshow": {
     "slide_type": "subslide"
    }
   },
   "outputs": [
    {
     "name": "stdout",
     "output_type": "stream",
     "text": [
      "{'hello': 'hola', 'one': 'uno', 'please': 'por favor', 'coffee': 'café', 'corn': 'maize'}\n",
      "{'hello': 'hola', 'one': 'uno', 'please': 'por favor', 'coffee': 'café', 'corn': 'maize', 'table': 'mesa'}\n",
      "{'hello': 'hola', 'one': 'uno', 'please': 'por favor', 'coffee': 'café', 'corn': 'maize', 'table': 'mesa', 'flour': 'arina'}\n"
     ]
    }
   ],
   "source": [
    "english_to_spanish['corn'] = 'maize'\n",
    "print(english_to_spanish)\n",
    "english_to_spanish['table'] = 'mesa'\n",
    "print(english_to_spanish)\n",
    "english_to_spanish['flour'] = 'arina'\n",
    "print(english_to_spanish)"
   ]
  },
  {
   "cell_type": "markdown",
   "metadata": {
    "slideshow": {
     "slide_type": "subslide"
    }
   },
   "source": [
    "## Lab: Roman Numerals\n",
    "* write a program that converts Roman numerals to Arabic numerals\n",
    "* use a dictionary where the keys are Roman numerals and the values are Arabic numerals\n",
    "* __`M = 1000, D = 500, C = 100, L = 50, X = 10, V = 5, I = 1`__\n",
    "* for example, __`MDCLXVI`__ would be __`1000 + 500 + 100 + 50 + 10 + 5 + 1 = 1666`__\n",
    "* once you get that working, think about this additional wrinkle:\n",
    "  * if a smaller value precedes a larger value, then the correct thing to do is to subtract the smaller value from the larger value\n",
    "  * e.g., __`IX = 10 - 1 = 9`__\n",
    "  * e.g., __`MCM = 1000 + (1000 - 100) = 1900`__"
   ]
  },
  {
   "cell_type": "code",
   "execution_count": 2,
   "metadata": {},
   "outputs": [
    {
     "name": "stdout",
     "output_type": "stream",
     "text": [
      "Enter a Roman numeral (enter \"q\" to quit): blah\n",
      "['h', 'a', 'l', 'b']\n",
      "Invalid entry!\n",
      "Enter a Roman numeral (enter \"q\" to quit): q\n"
     ]
    }
   ],
   "source": [
    "number_conversion = {'M': 1000, 'D': 500, 'C': 100, 'L': 50, 'X': 10, 'V': 5, 'I': 1}\n",
    "arabic_list = list(number_conversion.values())\n",
    "roman_list = list(number_conversion)\n",
    "total_value = 0\n",
    "\n",
    "while True:\n",
    "    user_input = input('Enter a Roman numeral (enter \"q\" to quit): ')\n",
    "    if user_input == 'q':\n",
    "        break\n",
    "    else:\n",
    "        user_roman_list = list(user_input)\n",
    "        user_roman_list.reverse()\n",
    "        print(user_roman_list)\n",
    "        for roman_letter in user_input:\n",
    "            if len(user_input) == 1:\n",
    "                total_value = total_value + number_conversion[roman_letter]     \n",
    "            else:\n",
    "                total_value = total_value + number_conversion[roman_letter]\n",
    "                previous_letter = roman_letter\n",
    "        else:\n",
    "            print('Invalid entry!')\n",
    "            break\n",
    "        else:\n",
    "            print(total_value)"
   ]
  },
  {
   "cell_type": "code",
   "execution_count": 2,
   "metadata": {},
   "outputs": [
    {
     "name": "stdout",
     "output_type": "stream",
     "text": [
      "\n",
      "Enter a Roman numeral (enter \"q\" to quit): DMDCLIXVI\n",
      "\n",
      "That is not a valid Roman numeral, try again!\n",
      "\n",
      "Enter a Roman numeral (enter \"q\" to quit): q\n"
     ]
    }
   ],
   "source": [
    "# create an empty dictionary\n",
    "num_conversion = {}\n",
    "# open the data file with all possible roman numeral to arabic numeral conversions\n",
    "with open(\"num_conversion.txt\") as file:\n",
    "    # extract the keys and values from each line of the file and add them to the num_conversion dictionary\n",
    "    for line in file:\n",
    "        (key, value) = line.split()\n",
    "        num_conversion[key] = int(value)\n",
    "\n",
    "while True:\n",
    "    user_input = input('\\nEnter a Roman numeral (enter \"q\" to quit): ')\n",
    "    if user_input == 'q':\n",
    "        break\n",
    "    elif user_input in num_conversion:\n",
    "        print('\\nArabic equivalent =', num_conversion[user_input])\n",
    "    else:\n",
    "        print('\\nThat is not a valid Roman numeral, try again!')\n"
   ]
  },
  {
   "cell_type": "markdown",
   "metadata": {},
   "source": [
    "# Lab: Word Counting\n",
    "\n",
    "* write a program to read lines of text entered by the user\n",
    "* split the lines into words, and count the occurrences of each word using a dictionary\n",
    "* if the word is in dictionary (use the __`in`__ operator), increment its count\n",
    "* if the word is NOT in the dictionary, set its count to 1\n",
    "* stop when the user enters 'quit', and print out the words and their counts\n",
    "* BONUS:  Read lines of text from a file instead.  Don't forget to handle puncuation!\n",
    "* EXTRA BONUS: Output your dictionary in order from most to least common words"
   ]
  },
  {
   "cell_type": "code",
   "execution_count": 49,
   "metadata": {},
   "outputs": [
    {
     "name": "stdout",
     "output_type": "stream",
     "text": [
      "\n",
      "Enter a line of text (enter \"quit\" to quit): I hate noise!\n",
      "I hate noise!\n",
      "['I', 'hate', 'noise']\n",
      "\n",
      "Enter a line of text (enter \"quit\" to quit): You stink!\n",
      "You stink!\n",
      "['I', 'hate', 'noise', 'You', 'stink']\n",
      "\n",
      "Enter a line of text (enter \"quit\" to quit): Hey Hey Hey, I'm Fat Albert!\n",
      "Hey Hey Hey, I'm Fat Albert!\n",
      "['I', 'hate', 'noise', 'You', 'stink', 'Hey', 'Hey', 'Hey', 'Im', 'Fat', 'Albert']\n",
      "\n",
      "Enter a line of text (enter \"quit\" to quit): quit\n",
      "quit\n",
      "{'I': 1, 'hate': 1, 'noise': 1, 'You': 1, 'stink': 1, 'Hey': 3, 'Im': 1, 'Fat': 1, 'Albert': 1}\n"
     ]
    }
   ],
   "source": [
    "no_punc_list = []\n",
    "punctuations = '''!()-[]{};:'\"\\,<>./?@#$%^&*_~'''\n",
    "while True:\n",
    "    user_input = input('\\nEnter a line of text (enter \"quit\" to quit): ')\n",
    "    if user_input != 'quit':\n",
    "        for char in user_input:\n",
    "            if char in punctuations:\n",
    "                user_input = user_input.replace(char, \"\")\n",
    "        no_punc_list += user_input.split()\n",
    "        word_dict = {}\n",
    "        count = 0\n",
    "        for word in no_punc_list:\n",
    "            if word in word_dict:\n",
    "                count = count + 1\n",
    "                (key, value) = (word, count)\n",
    "                word_dict[key] = int(value)\n",
    "            else:\n",
    "                count = 1\n",
    "                (key, value) = (word, count)\n",
    "                word_dict[key] = int(value)\n",
    "        \n",
    "    else:\n",
    "        print(word_dict)\n",
    "        break\n",
    "\n"
   ]
  },
  {
   "cell_type": "markdown",
   "metadata": {
    "slideshow": {
     "slide_type": "subslide"
    }
   },
   "source": [
    "## Deleting from a __`dict`__\n",
    "* __`pop(key)`__ will remove the corresponding key/value pair from the __`dict`__\n",
    "* __`clear()`__ will remove ALL entries"
   ]
  },
  {
   "cell_type": "code",
   "execution_count": null,
   "metadata": {},
   "outputs": [],
   "source": [
    "cups.pop('not there')"
   ]
  },
  {
   "cell_type": "code",
   "execution_count": null,
   "metadata": {},
   "outputs": [],
   "source": [
    "if 'grande' in cups:\n",
    "    cups.pop('grande')\n",
    "cups"
   ]
  },
  {
   "cell_type": "code",
   "execution_count": null,
   "metadata": {},
   "outputs": [],
   "source": [
    "cups.clear()\n",
    "cups"
   ]
  },
  {
   "cell_type": "code",
   "execution_count": 18,
   "metadata": {},
   "outputs": [
    {
     "name": "stdout",
     "output_type": "stream",
     "text": [
      "This print function is better\n",
      "{'foo': 100, 'bar': 200}\n"
     ]
    }
   ],
   "source": [
    "# Here's another way to create a dictionary.\n",
    "foobar = dict(foo=100, bar=200)\n",
    "print(foobar)"
   ]
  },
  {
   "cell_type": "markdown",
   "metadata": {
    "slideshow": {
     "slide_type": "slide"
    }
   },
   "source": [
    "# Defining Our Own Functions"
   ]
  },
  {
   "cell_type": "markdown",
   "metadata": {
    "slideshow": {
     "slide_type": "subslide"
    }
   },
   "source": [
    "## What is a Function (Redux)?\n",
    "* a _function_ is a named, self-contained snippet of code which performs a specific task\n",
    "* functions are sometimes called procedures, subprograms, or methods\n",
    "* functions can accept some data as input, and can return some data as output\n",
    "* the input, which is optional, is called _parameters_ or _arguments_\n",
    "* the output, which is also optional, is called the _return value_\n",
    "* we use the __`def`__ keyword to define a function\n",
    "* the body of the function is indented\n",
    "* syntax\n",
    "\n",
    "<pre>\n",
    "    <b>\n",
    "    def funcname(arg1, arg2, ...):\n",
    "        statement(s)\n",
    "    </b>\n",
    "</pre>"
   ]
  },
  {
   "cell_type": "code",
   "execution_count": 3,
   "metadata": {},
   "outputs": [
    {
     "name": "stdout",
     "output_type": "stream",
     "text": [
      "---------------------------------------------------------------\n",
      "   RESTRICTED ACCESS   RESTRICTED ACCESS   RESTRICTED ACCESS\n",
      "---------------------------------------------------------------\n",
      "you should not be reading this\n",
      "---------------------------------------------------------------\n",
      "   RESTRICTED ACCESS   RESTRICTED ACCESS   RESTRICTED ACCESS\n",
      "---------------------------------------------------------------\n"
     ]
    }
   ],
   "source": [
    "# Here is a function which takes no input (parameters) and has\n",
    "# no return value. The things that are printed by the function\n",
    "# are not considered a return value.\n",
    "\n",
    "def print_header():\n",
    "    print('-' * 63)\n",
    "    print('   RESTRICTED ACCESS' * 3)\n",
    "    print('-' * 63)\n",
    "    \n",
    "print_header()\n",
    "print('you should not be reading this')\n",
    "print_header()"
   ]
  },
  {
   "cell_type": "code",
   "execution_count": 10,
   "metadata": {},
   "outputs": [],
   "source": [
    "# This function takes a single argument (or parameter),\n",
    "# but it does not return anything, because this is just a definition.\n",
    "def pretty_print(message):\n",
    "    print_header()\n",
    "    print(message)\n",
    "    print_header()"
   ]
  },
  {
   "cell_type": "code",
   "execution_count": null,
   "metadata": {},
   "outputs": [],
   "source": []
  },
  {
   "cell_type": "code",
   "execution_count": 6,
   "metadata": {},
   "outputs": [
    {
     "name": "stdout",
     "output_type": "stream",
     "text": [
      "---------------------------------------------------------------\n",
      "   RESTRICTED ACCESS   RESTRICTED ACCESS   RESTRICTED ACCESS\n",
      "---------------------------------------------------------------\n",
      "          DO NOT LOOK AT THIS SCREEN!\n",
      "---------------------------------------------------------------\n",
      "   RESTRICTED ACCESS   RESTRICTED ACCESS   RESTRICTED ACCESS\n",
      "---------------------------------------------------------------\n"
     ]
    }
   ],
   "source": [
    "pretty_print('          DO NOT LOOK AT THIS SCREEN!')"
   ]
  },
  {
   "cell_type": "code",
   "execution_count": null,
   "metadata": {},
   "outputs": [],
   "source": [
    "# This function takes two arguments\n",
    "def print_sum(num1, num2):\n",
    "    print('the sum of', num1, 'and', num2, 'is', num1 + num2)\n",
    "\n",
    "print_sum(32, 48)"
   ]
  },
  {
   "cell_type": "markdown",
   "metadata": {
    "slideshow": {
     "slide_type": "subslide"
    }
   },
   "source": [
    "## Lab: Mastermind/Cows and Bulls Game\n",
    "* your program should generate a 4-digit \"secret\" number, where the digits are  all different\n",
    "* the player tries to guess the number  who gives the number of matches. If the matching digits are in their right positions, they are \"bulls\", if in different positions, they are \"cows\". "
   ]
  },
  {
   "cell_type": "code",
   "execution_count": 161,
   "metadata": {},
   "outputs": [
    {
     "name": "stdout",
     "output_type": "stream",
     "text": [
      "['5', '2', '3', '1']\n",
      "I picked a secret 4-digit number.  Can you guess it? Enter 'q' to quit > 5222\n",
      "['5', '2', '2', '2']\n",
      "Your first digit is a bull!\n",
      "Your second digit is a bull!\n",
      "Your third digit is a cow!\n",
      "Your last digit is a cow!\n",
      "I picked a secret 4-digit number.  Can you guess it? Enter 'q' to quit > 5231\n",
      "['5', '2', '3', '1']\n",
      "You guessed correctly dude!\n"
     ]
    }
   ],
   "source": [
    "import random\n",
    "answer = random.sample(range(10), k=4)\n",
    "answer1 = str(answer[0])\n",
    "answer2 = str(answer[1])\n",
    "answer3 = str(answer[2])\n",
    "answer4 = str(answer[3])\n",
    "modified_answer = list(answer1 + answer2 + answer3 + answer4)\n",
    "print(modified_answer)   \n",
    "    \n",
    "while True:\n",
    "    user_input = input(\"I picked a secret 4-digit number.  Can you guess it? Enter 'q' to quit > \")\n",
    "    if user_input == 'q':\n",
    "        break\n",
    "    guess = list(user_input)\n",
    "    print(guess)\n",
    "    guess1 = guess[0]\n",
    "    guess2 = guess[1]\n",
    "    guess3 = guess[2]\n",
    "    guess4 = guess[3]\n",
    "    if guess == modified_answer:\n",
    "        print(\"You guessed correctly dude!\")\n",
    "        break\n",
    "    if guess1 == answer1:\n",
    "        print(\"Your first digit is a bull!\")\n",
    "    elif guess1 in (answer2, answer3, answer4):\n",
    "        print(\"Your first digit is a cow!\")\n",
    "    else:\n",
    "        print(\"Your first digit is not a bull or a cow!\")\n",
    "    \n",
    "    if guess2 == answer2:\n",
    "        print(\"Your second digit is a bull!\")\n",
    "    elif guess2 in (answer1, answer3, answer4):\n",
    "        print(\"Your second digit is a cow!\")\n",
    "    else:\n",
    "        print(\"Your second digit is not a bull or a cow!\")\n",
    "        \n",
    "    if guess3 == answer3:\n",
    "        print(\"Your third digit is a bull!\")\n",
    "    elif guess3 in (answer1, answer2, answer4):\n",
    "        print(\"Your third digit is a cow!\")\n",
    "    else:\n",
    "        print(\"Your third digit is not a bull or a cow!\")\n",
    "    \n",
    "    if guess4 == answer4:\n",
    "        print(\"Your last digit is a bull!\")\n",
    "    elif guess4 in (answer1, answer2, answer3):\n",
    "        print(\"Your last digit is a cow!\")\n",
    "    else:\n",
    "        print(\"Your last digit is not a bull or a cow!\")\n",
    "\n",
    "\n"
   ]
  },
  {
   "cell_type": "code",
   "execution_count": 178,
   "metadata": {},
   "outputs": [
    {
     "name": "stdout",
     "output_type": "stream",
     "text": [
      "['0', '3', '8', '2']\n",
      "I picked a secret 4-digit number.  Can you guess it? Enter 'q' to quit > 0380\n",
      "['0', '3', '8', '0']\n",
      "Your 1 digit is a bull!\n",
      "Your 2 digit is a bull!\n",
      "Your 3 digit is a bull!\n",
      "Your 4 digit is a cow!\n",
      "I picked a secret 4-digit number.  Can you guess it? Enter 'q' to quit > q\n"
     ]
    }
   ],
   "source": [
    "import random\n",
    "answer = random.sample(range(10), k=4)\n",
    "modified_answer = list(str(answer[0]) + str(answer[1]) + str(answer[2]) + str(answer[3]))\n",
    "\n",
    "def guesser(num):\n",
    "    this_guess = guess[num]\n",
    "    this_answer = str(answer[num])\n",
    "    if this_guess == this_answer:\n",
    "        print(\"Your\", num + 1, \"digit is a bull!\")\n",
    "    elif this_guess in (modified_answer):\n",
    "        print(\"Your\", num + 1, \"digit is a cow!\")\n",
    "    else:\n",
    "        print(\"Your\", num + 1, \"digit is not a bull or a cow!\") \n",
    "\n",
    "while True:\n",
    "    user_input = input(\"I picked a secret 4-digit number.  Can you guess it? Enter 'q' to quit > \")\n",
    "    if user_input == 'q':\n",
    "        break\n",
    "    guess = list(user_input)  \n",
    "    if guess == modified_answer:\n",
    "        print(\"You guessed correctly dude!\")\n",
    "        break\n",
    "    for num in range(0,4):\n",
    "        guesser(num)"
   ]
  },
  {
   "cell_type": "markdown",
   "metadata": {
    "slideshow": {
     "slide_type": "subslide"
    }
   },
   "source": [
    "## Scope\n",
    "* the _scope_ of a variable is the part of the program in which the variable can be accessed\n",
    "* so far we have been creating variables in \"global scope\", which means they can be accessed anywhere in the program, i.e., _globally_\n",
    "* when we create a variable inside a function it can be accessed from that point until the end of the function–once the function exits, the variable is no longer accessible"
   ]
  },
  {
   "cell_type": "code",
   "execution_count": 11,
   "metadata": {
    "scrolled": true
   },
   "outputs": [
    {
     "name": "stdout",
     "output_type": "stream",
     "text": [
      "This print function is better\n",
      "in function function_scope()\n",
      "This print function is better\n",
      "creating the variable \"funcvar\"\n",
      "This print function is better\n",
      "funcvar = this variable was created inside the function\n",
      "This print function is better\n",
      "leaving function function_scope()\n"
     ]
    },
    {
     "ename": "NameError",
     "evalue": "name 'funcvar' is not defined",
     "output_type": "error",
     "traceback": [
      "\u001b[0;31m---------------------------------------------------------------------------\u001b[0m",
      "\u001b[0;31mNameError\u001b[0m                                 Traceback (most recent call last)",
      "\u001b[0;32m<ipython-input-11-9fcae7df4356>\u001b[0m in \u001b[0;36m<module>\u001b[0;34m\u001b[0m\n\u001b[1;32m      7\u001b[0m \u001b[0;34m\u001b[0m\u001b[0m\n\u001b[1;32m      8\u001b[0m \u001b[0mfunction_scope\u001b[0m\u001b[0;34m(\u001b[0m\u001b[0;34m)\u001b[0m\u001b[0;34m\u001b[0m\u001b[0;34m\u001b[0m\u001b[0m\n\u001b[0;32m----> 9\u001b[0;31m \u001b[0mprint\u001b[0m\u001b[0;34m(\u001b[0m\u001b[0mfuncvar\u001b[0m\u001b[0;34m)\u001b[0m\u001b[0;34m\u001b[0m\u001b[0;34m\u001b[0m\u001b[0m\n\u001b[0m",
      "\u001b[0;31mNameError\u001b[0m: name 'funcvar' is not defined"
     ]
    }
   ],
   "source": [
    "def function_scope():\n",
    "    print('in function function_scope()')\n",
    "    print('creating the variable \"funcvar\"')\n",
    "    funcvar = 'this variable was created inside the function'\n",
    "    print('funcvar =', funcvar)\n",
    "    print('leaving function function_scope()')\n",
    "    \n",
    "function_scope()\n",
    "print(funcvar)\n"
   ]
  },
  {
   "cell_type": "markdown",
   "metadata": {},
   "source": [
    "## Next Week - No Class\n",
    "### But Remember: Practice makes perfect!\n",
    "### Contact:\n",
    "JR Rickerson  \n",
    "jrrickerson@redrivetstudios.com\n",
    "## Suggested practice activities:\n",
    "* Python Challenge - http://www.pythonchallenge.com\n",
    "* Project Euler - https://projecteuler.net/\n",
    "* Rosetta Code - http://rosettacode.org/wiki/Rosetta_Code\n",
    "* Code Katas\n",
    "    * http://codekata.com/\n",
    "    * https://github.com/gamontal/awesome-katas\n",
    "    * https://github.com/pyatl/jam-sessions\n",
    "    * https://www.codewars.com/\n",
    "* Coding Dojo tool - http://cyber-dojo.org\n",
    "* Choose a simple game (old board games) and implement it!"
   ]
  },
  {
   "cell_type": "markdown",
   "metadata": {
    "slideshow": {
     "slide_type": "subslide"
    }
   },
   "source": [
    "## The __`return`__ Statement\n",
    "* if a function wants to return a value to its caller, it must use the __`return`__ statement\n",
    "* whatever value you put in the __`return`__ statement is returned "
   ]
  },
  {
   "cell_type": "code",
   "execution_count": 14,
   "metadata": {
    "scrolled": true
   },
   "outputs": [
    {
     "name": "stdout",
     "output_type": "stream",
     "text": [
      "This print function is better\n",
      "55\n",
      "This print function is better\n",
      "-13\n"
     ]
    }
   ],
   "source": [
    "def adder(x, y):\n",
    "    return x + y\n",
    "\n",
    "adder(21, 34)\n",
    "\n",
    "def add_and_sub(x, y):\n",
    "    return x + y, x - y\n",
    "\n",
    "summation, diff = add_and_sub(21, 34)\n",
    "print(summation)\n",
    "print(diff)\n"
   ]
  },
  {
   "cell_type": "code",
   "execution_count": 15,
   "metadata": {},
   "outputs": [
    {
     "name": "stdout",
     "output_type": "stream",
     "text": [
      "This print function is better\n",
      "-2.0\n"
     ]
    }
   ],
   "source": [
    "var = adder(-3, 1.0) # adder() returns the sum of its two arguments\n",
    "print(var)"
   ]
  },
  {
   "cell_type": "code",
   "execution_count": null,
   "metadata": {},
   "outputs": [],
   "source": [
    "def add_ints(x, y):\n",
    "    # if x is int\n",
    "    if type(x) != int or type(y) != int:\n",
    "        result = None\n",
    "    else:\n",
    "        result = x + y\n",
    "    return result"
   ]
  },
  {
   "cell_type": "code",
   "execution_count": 16,
   "metadata": {},
   "outputs": [
    {
     "name": "stdout",
     "output_type": "stream",
     "text": [
      "This print function is better\n",
      "Message started\n",
      "This print function is better\n",
      "Message done\n"
     ]
    },
    {
     "ename": "NameError",
     "evalue": "name 'add_stuff' is not defined",
     "output_type": "error",
     "traceback": [
      "\u001b[0;31m---------------------------------------------------------------------------\u001b[0m",
      "\u001b[0;31mNameError\u001b[0m                                 Traceback (most recent call last)",
      "\u001b[0;32m<ipython-input-16-7c27c473f58d>\u001b[0m in \u001b[0;36m<module>\u001b[0;34m\u001b[0m\n\u001b[1;32m      7\u001b[0m \u001b[0;34m\u001b[0m\u001b[0m\n\u001b[1;32m      8\u001b[0m \u001b[0mwrapper_function\u001b[0m\u001b[0;34m(\u001b[0m\u001b[0;34m'Message'\u001b[0m\u001b[0;34m,\u001b[0m \u001b[0;36m1\u001b[0m\u001b[0;34m,\u001b[0m \u001b[0;36m2\u001b[0m\u001b[0;34m)\u001b[0m\u001b[0;34m\u001b[0m\u001b[0;34m\u001b[0m\u001b[0m\n\u001b[0;32m----> 9\u001b[0;31m \u001b[0madd_stuff\u001b[0m\u001b[0;34m(\u001b[0m\u001b[0;36m1\u001b[0m\u001b[0;34m,\u001b[0m \u001b[0;36m2\u001b[0m\u001b[0;34m)\u001b[0m\u001b[0;34m\u001b[0m\u001b[0;34m\u001b[0m\u001b[0m\n\u001b[0m",
      "\u001b[0;31mNameError\u001b[0m: name 'add_stuff' is not defined"
     ]
    }
   ],
   "source": [
    "def wrapper_function(message, x, y):\n",
    "    print(message, 'started')\n",
    "    def add_stuff(x, y):\n",
    "        return x + y\n",
    "    print(message, 'done')\n",
    "    return add_stuff(x, y)\n",
    "\n",
    "wrapper_function('Message', 1, 2)\n",
    "# This won't work because 'add_stuff' only works inside the wrapper_function\n",
    "add_stuff(1, 2)"
   ]
  },
  {
   "cell_type": "markdown",
   "metadata": {
    "slideshow": {
     "slide_type": "subslide"
    }
   },
   "source": [
    "## Boolean Functions\n",
    "* functions can return any datatype, but let's consider the class of functions that return a Boolean value, i.e., __`True`__ or __`False`__ \n",
    "* these functions can be used to make our code more readable, especially if we name them __`is_...()`__"
   ]
  },
  {
   "cell_type": "code",
   "execution_count": null,
   "metadata": {},
   "outputs": [],
   "source": [
    "def is_even(number):\n",
    "    return number % 2 == 0\n",
    "\n",
    "num = int(input('Enter a number: '))\n",
    "if is_even(num):\n",
    "    print(num, 'is an even number')\n",
    "else:\n",
    "    print(num, 'is an ODD number')"
   ]
  },
  {
   "cell_type": "markdown",
   "metadata": {
    "slideshow": {
     "slide_type": "subslide"
    }
   },
   "source": [
    "## Functions Can Call Other Functions\n",
    "* ideally, when we write code to solve a problem, we break the problem down into subproblems, and then break those down further into subproblems, etc.\n",
    "* when the problems are \"small enough,\" we write functions to solve them\n",
    "* a good rule of thumb is that if your explanation of what a function does contains the word _and_, then it needs to be broken down even further\n",
    "* better to have too many functions than too few\n",
    "<pre>\n",
    "    <b>\n",
    "    def task1(arg1, arg2, ...):\n",
    "        statement(s)\n",
    "        task2(...)\n",
    "        statement(s)\n",
    "        \n",
    "    def task2(arg1, arg2, ...):\n",
    "        statement(s)\n",
    "        task3(...)\n",
    "        statement(s)\n",
    "        \n",
    "     def task3(arg1, arg2, ...):\n",
    "        statement(s)\n",
    "        \n",
    "     # Now call the first function\n",
    "     task1(...)   \n",
    "    </b>\n",
    "</pre>\n",
    "* in order for one function to call another, the function being called has to have been seen by the interpreter or Python won't know what it is\n",
    "* but as written above, it's fine, because the Python intepreter sees all three functions before the call of __`task1()`__ occurs"
   ]
  },
  {
   "cell_type": "markdown",
   "metadata": {
    "slideshow": {
     "slide_type": "subslide"
    }
   },
   "source": [
    "## Lab: Functions\n",
    "* write __max3__, a function to find the maximum of three values (first create a function that finds the maximum of two values and have __max3__ call it)\n",
    "* write a function to sum all of the numbers in a list\n",
    "* write a function which accepts a list as its argument and returns a new list with all of the duplicates removed (e.g., __remove_dupes([3, 1, 2, 3, 1, 3, 3, 4, 1])__ would return [3, 1, 2, 4])\n",
    "* write a function to check whether its string argument is a pangram (i.e., it contains all of the letters of the alphabet)\n",
    "* write a Boolean function which accepts a string argument and indicates whether it is a palindrome (i.e., it reads the same backwards and forwards–e.g., \"radar\")\n",
    " * once you get that, try to make it work even if the string contains spaces, e.g., \"Ten animals I slam in a net\"\n",
    " * try to use slices if you didn't already"
   ]
  },
  {
   "cell_type": "code",
   "execution_count": null,
   "metadata": {},
   "outputs": [],
   "source": []
  },
  {
   "cell_type": "markdown",
   "metadata": {
    "slideshow": {
     "slide_type": "slide"
    }
   },
   "source": [
    "\n",
    "# Modules"
   ]
  },
  {
   "cell_type": "markdown",
   "metadata": {
    "slideshow": {
     "slide_type": "subslide"
    }
   },
   "source": [
    "## What is a Module?\n",
    "* a module is file containing one or more related functions\n",
    "* we can _import_ the module into our program, giving us access to those functions\n",
    "* the __`string`__ module used to give us access to functions which manipulate strings, but  these functions have been built in to Python strings for a while\n",
    "  * the real value of the string module is the constants it defines\n",
    "* the __`math`__ module gives us access to math functions such as __`sqrt`__, __`sin`__, and __`factorial`__\n",
    "* the random module gives us access to functions that generate random numbers\n"
   ]
  },
  {
   "cell_type": "code",
   "execution_count": null,
   "metadata": {},
   "outputs": [],
   "source": [
    "import string\n",
    "print(string.digits)\n",
    "print(string.punctuation)\n",
    "print(string.ascii_uppercase)\n",
    "print(string.ascii_letters)"
   ]
  },
  {
   "cell_type": "code",
   "execution_count": null,
   "metadata": {},
   "outputs": [],
   "source": [
    "import math\n",
    "print(math.sqrt(2))\n",
    "print(math.sin(1.5708)) # 90 degrees in radians\n",
    "print(math.factorial(52))"
   ]
  },
  {
   "cell_type": "code",
   "execution_count": null,
   "metadata": {},
   "outputs": [],
   "source": [
    "import random\n",
    "# random.choice() is a really useful function which randomly chooses an item from a sequence\n",
    "list_of_fruits = 'apple pear banana guava'.split()\n",
    "print(random.choice(list_of_fruits))\n",
    "# random.randint(a, b) returns a random integer between a and b (inclusive)\n",
    "print(random.randint(1, 100))"
   ]
  },
  {
   "cell_type": "code",
   "execution_count": null,
   "metadata": {},
   "outputs": [],
   "source": [
    "dir(random)\n",
    "random.__file__"
   ]
  },
  {
   "cell_type": "code",
   "execution_count": null,
   "metadata": {},
   "outputs": [],
   "source": [
    "from random import choice as ch\n",
    "\n",
    "ch([1, 2, 3])"
   ]
  },
  {
   "cell_type": "markdown",
   "metadata": {},
   "source": [
    "# Object-Oriented Programming/Classes\n",
    "### A very brief introduction"
   ]
  },
  {
   "cell_type": "markdown",
   "metadata": {},
   "source": [
    "## Classes\n",
    "* so far we've looked at built-in types; now we're going to define a new type\n",
    "* class = programmer-defined type"
   ]
  },
  {
   "cell_type": "code",
   "execution_count": null,
   "metadata": {},
   "outputs": [],
   "source": [
    "# simplest class/object we can create\n",
    "class Person(object):\n",
    "    pass"
   ]
  },
  {
   "cell_type": "code",
   "execution_count": null,
   "metadata": {},
   "outputs": [],
   "source": [
    "# to instantiate, or create and object, you call the class as\n",
    "# if were a function\n",
    "somebody = Person()"
   ]
  },
  {
   "cell_type": "code",
   "execution_count": null,
   "metadata": {},
   "outputs": [],
   "source": [
    "somebody # somebody is an instance of the Person class"
   ]
  },
  {
   "cell_type": "code",
   "execution_count": null,
   "metadata": {},
   "outputs": [],
   "source": [
    "type(somebody), type(3)"
   ]
  },
  {
   "cell_type": "code",
   "execution_count": null,
   "metadata": {},
   "outputs": [],
   "source": [
    "type(Person), type(int)"
   ]
  },
  {
   "cell_type": "code",
   "execution_count": null,
   "metadata": {},
   "outputs": [],
   "source": [
    "class BankAccount(object):\n",
    "    # __init__ is like a constructor\n",
    "    # it is used to initialize the object that is created\n",
    "    def __init__(self, name, initial_balance):\n",
    "        self.name = name\n",
    "        self.balance = initial_balance\n",
    "        print('in __init__')\n",
    "        \n",
    "    # all methods (with some exceptions) must have self as a first parameter...\n",
    "    # ...even though you don't pass self when you call the method (Python does)\n",
    "    def deposit(self, amount):\n",
    "        if amount > 0:\n",
    "            self.balance += amount\n",
    "            return self.balance\n",
    "        else:\n",
    "            print(\"can't deposit nonpositive amount!\")\n",
    "\n",
    "    def withdraw(self, amount):\n",
    "        if amount > 0:\n",
    "            if amount <= self.balance:\n",
    "                self.balance -= amount\n",
    "                return self.balance\n",
    "            else:\n",
    "                print(\"can't withdraw\", amount, \"or you would be overdrawn!\")\n",
    "        else:\n",
    "            print(\"can't withdraw nonpositive amount!\")\n"
   ]
  },
  {
   "cell_type": "code",
   "execution_count": null,
   "metadata": {},
   "outputs": [],
   "source": [
    "account1 = BankAccount('Marc Benioff', 345)"
   ]
  },
  {
   "cell_type": "code",
   "execution_count": null,
   "metadata": {},
   "outputs": [],
   "source": [
    "# what is account1?\n",
    "account1"
   ]
  },
  {
   "cell_type": "code",
   "execution_count": null,
   "metadata": {},
   "outputs": [],
   "source": [
    "# we can inspect attributes of our newly-created object\n",
    "print(account1.name, account1.balance)"
   ]
  },
  {
   "cell_type": "code",
   "execution_count": null,
   "metadata": {},
   "outputs": [],
   "source": [
    "# we can deposit money\n",
    "account1.deposit(25)"
   ]
  },
  {
   "cell_type": "code",
   "execution_count": null,
   "metadata": {},
   "outputs": [],
   "source": [
    "# we can withdraw money\n",
    "account1.withdraw(5)"
   ]
  },
  {
   "cell_type": "markdown",
   "metadata": {},
   "source": [
    "## Classes: \"magic\" methods\n",
    "* __\\_\\_init\\_\\___ is a special initialization method that is invoked when the object is instantiated\n",
    "* __\\_\\_str\\_\\___ returns a string representation of the object (i.e., for humans), maps to str() function\n",
    "* __\\_\\_repr\\_\\___ returns unambiguous representation of the object which could be fed to Python interpreter to recreate the object, maps to repr() function"
   ]
  },
  {
   "cell_type": "code",
   "execution_count": null,
   "metadata": {},
   "outputs": [],
   "source": [
    "import datetime\n",
    "today = datetime.datetime.now()\n",
    "str(today), repr(today)"
   ]
  },
  {
   "cell_type": "markdown",
   "metadata": {},
   "source": [
    "## Let's add __\\_\\_`repr`\\_\\_ and __\\_\\_`str`\\_\\_ to our class"
   ]
  },
  {
   "cell_type": "code",
   "execution_count": null,
   "metadata": {},
   "outputs": [],
   "source": [
    "class BankAccount(object):\n",
    "    def __init__(self, name, initial_balance):\n",
    "        self.name = name\n",
    "        self.balance = initial_balance\n",
    "\n",
    "    '''representation of the object \"feedable\" to Python\n",
    "    interpreter'''\n",
    "    def __repr__(self):\n",
    "        return self.__class__.__name__ + '(' + repr(self.name) \\\n",
    "               + ', ' + repr(self.balance) + ')'\n",
    "\n",
    "    '''string representation of object, for humans\n",
    "    __repr__ is used if __str__ does not exist'''\n",
    "    def __str__(self):\n",
    "        print('in the __str__() function')\n",
    "        return self.name + ' ' + str(self.balance)\n",
    "\n",
    "    def __add__(self, other):\n",
    "        return BankAccount(self.name + ' ' + other.name,\n",
    "                    self.balance + other.balance)\n",
    "    \n",
    "    def deposit(self, amount):\n",
    "        if amount > 0:\n",
    "            self.balance += amount\n",
    "            return self.balance\n",
    "        else:\n",
    "            print(\"can't deposit nonpositive amount!\")\n",
    "\n",
    "    def withdraw(self, amount):\n",
    "        if amount > 0:\n",
    "            if amount <= self.balance:\n",
    "                self.balance -= amount\n",
    "                return self.balance\n",
    "            else:\n",
    "                print(\"can't withdraw\", amount, \"or you would be overdrawn!\")\n",
    "        else:\n",
    "            print(\"can't withdraw nonpositive amount!\")"
   ]
  },
  {
   "cell_type": "code",
   "execution_count": null,
   "metadata": {},
   "outputs": [],
   "source": [
    "account2 = BankAccount('Gutzon Borglum', 100.0)\n",
    "account3 = BankAccount('Marie Curie', 200.0)"
   ]
  },
  {
   "cell_type": "code",
   "execution_count": null,
   "metadata": {},
   "outputs": [],
   "source": [
    "# try repr()\n",
    "repr(account2)\n",
    "account3 = BankAccount('Gutzon Borglum', 100.0)\n",
    "print(account3)"
   ]
  },
  {
   "cell_type": "code",
   "execution_count": null,
   "metadata": {},
   "outputs": [],
   "source": [
    "dir(account3)\n",
    "print(account3.__dict__)"
   ]
  },
  {
   "cell_type": "code",
   "execution_count": null,
   "metadata": {},
   "outputs": [],
   "source": [
    "# try str()\n",
    "account2.__str__()"
   ]
  },
  {
   "cell_type": "markdown",
   "metadata": {},
   "source": [
    "## Other \"magic\" methods\n",
    "* __\\_\\_add\\_\\___ = add two objects together\n",
    "* __\\_\\_eq\\_\\___ = implementation of ==\n",
    "* __\\_\\_ne\\_\\___ = implementation of !=\n",
    "* __\\_\\_len\\_\\___ = implementation of len() method\n",
    "* many others!"
   ]
  },
  {
   "cell_type": "code",
   "execution_count": null,
   "metadata": {},
   "outputs": [],
   "source": []
  }
 ],
 "metadata": {
  "celltoolbar": "Slideshow",
  "kernelspec": {
   "display_name": "Python 3",
   "language": "python",
   "name": "python3"
  },
  "language_info": {
   "codemirror_mode": {
    "name": "ipython",
    "version": 3
   },
   "file_extension": ".py",
   "mimetype": "text/x-python",
   "name": "python",
   "nbconvert_exporter": "python",
   "pygments_lexer": "ipython3",
   "version": "3.7.10"
  }
 },
 "nbformat": 4,
 "nbformat_minor": 1
}
